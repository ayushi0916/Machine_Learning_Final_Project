{
  "cells": [
    {
      "cell_type": "code",
      "execution_count": null,
      "metadata": {
        "id": "pPgl9Ewu93fy"
      },
      "outputs": [],
      "source": [
        "#Importing the libraries used for working with the dataset\n",
        "import warnings\n",
        "warnings.filterwarnings('ignore')\n",
        "import pandas as pd\n",
        "import numpy as np\n",
        "from imblearn.under_sampling import NearMiss\n",
        "from sklearn.ensemble import ExtraTreesRegressor\n",
        "from sklearn.model_selection import train_test_split\n",
        "from sklearn.naive_bayes import GaussianNB\n",
        "from sklearn.linear_model import LogisticRegression\n",
        "from sklearn.tree import DecisionTreeClassifier\n",
        "from sklearn.ensemble import RandomForestClassifier\n",
        "from sklearn.neural_network import MLPClassifier\n",
        "from sklearn.model_selection import GridSearchCV\n",
        "from sklearn.metrics import confusion_matrix\n",
        "from sklearn.metrics import classification_report\n",
        "from matplotlib import pyplot as plt\n",
        "from sklearn.metrics import roc_curve, roc_auc_score"
      ]
    },
    {
      "cell_type": "markdown",
      "metadata": {
        "id": "doDakZSNBXZR"
      },
      "source": [
        "# **Attaining required dataset**"
      ]
    },
    {
      "cell_type": "markdown",
      "metadata": {
        "id": "l72oG-6TO249"
      },
      "source": [
        "**Fetching Multiple Data Sets from the year 2021 across the quarters**"
      ]
    },
    {
      "cell_type": "code",
      "execution_count": null,
      "metadata": {
        "colab": {
          "base_uri": "https://localhost:8080/"
        },
        "id": "u4TponOi98RT",
        "outputId": "3da3b7af-2446-42c4-e16e-865804ea5b0c"
      },
      "outputs": [
        {
          "name": "stdout",
          "output_type": "stream",
          "text": [
            "Total length of the Q1 data 80622\n",
            "Total length of the Q2 data 213481\n",
            "Total length of the Q3 data 405626\n",
            "Total length of the Q4 data 126576\n"
          ]
        }
      ],
      "source": [
        "#Attaining the required dataset\n",
        "\n",
        "Visaapproval_data_Q1 = pd.read_csv('/content/LCA_Disclosure_Data_FY2021_Q1.csv')\n",
        "Visaapproval_data_Q2 = pd.read_csv('/content/LCA_Disclosure_Data_FY2021_Q2.csv')\n",
        "Visaapproval_data_Q3 = pd.read_csv('/content/LCA_Disclosure_Data_FY2021_Q3.csv')\n",
        "Visaapproval_data_Q4 = pd.read_csv('/content/LCA_Disclosure_Data_FY2021_Q4.csv')\n",
        "\n",
        "#Checking length of each data set\n",
        "print(\"Total length of the Q1 data\",len(Visaapproval_data_Q1))\n",
        "print(\"Total length of the Q2 data\",len(Visaapproval_data_Q2))\n",
        "print(\"Total length of the Q3 data\",len(Visaapproval_data_Q3))\n",
        "print(\"Total length of the Q4 data\",len(Visaapproval_data_Q4))"
      ]
    },
    {
      "cell_type": "markdown",
      "metadata": {
        "id": "keWnKPNEyKYD"
      },
      "source": [
        "**Merging Multiple Data Sets from the year 2021 across the quarters**"
      ]
    },
    {
      "cell_type": "code",
      "execution_count": null,
      "metadata": {
        "colab": {
          "base_uri": "https://localhost:8080/"
        },
        "id": "-ddooPfPBmxy",
        "outputId": "1fe26f4a-74e5-4c90-dc2a-cf883f6b263c"
      },
      "outputs": [
        {
          "name": "stdout",
          "output_type": "stream",
          "text": [
            "Merging multiple CSV files...\n",
            "Total length of the data 826305\n",
            "Total number of columns in the data 98\n"
          ]
        }
      ],
      "source": [
        "#Merging the acquired multiple datafiles\n",
        "\n",
        "print(\"Merging multiple CSV files...\")\n",
        "\n",
        "Visaapproval_data_Q1toQ4 = pd.concat(map(pd.read_csv, ['/content/LCA_Disclosure_Data_FY2021_Q1.csv','/content/LCA_Disclosure_Data_FY2021_Q2.csv','/content/LCA_Disclosure_Data_FY2021_Q3.csv','/content/LCA_Disclosure_Data_FY2021_Q4.csv']), ignore_index=True)\n",
        "\n",
        "print(\"Total length of the data\", len(Visaapproval_data_Q1toQ4))\n",
        "\n",
        "value = Visaapproval_data_Q1toQ4.columns\n",
        "print(\"Total number of columns in the data\",len(value))"
      ]
    },
    {
      "cell_type": "markdown",
      "metadata": {
        "id": "rrzDcgD-PE5d"
      },
      "source": [
        "#Cleaning the dataset."
      ]
    },
    {
      "cell_type": "markdown",
      "metadata": {
        "id": "-0HcQLNeTZ1U"
      },
      "source": [
        "As we are going to be dealing with only H1b visa's we shall drop any other visa present in the dataset"
      ]
    },
    {
      "cell_type": "code",
      "execution_count": null,
      "metadata": {
        "colab": {
          "base_uri": "https://localhost:8080/"
        },
        "id": "Yhg3dPUKDw46",
        "outputId": "e0e901d8-db10-4718-92fc-08bbf6f918ed"
      },
      "outputs": [
        {
          "name": "stdout",
          "output_type": "stream",
          "text": [
            "Total lenght of data after keep only H1B Visa Class  803733\n"
          ]
        }
      ],
      "source": [
        "H1b_data_only = Visaapproval_data_Q1toQ4['VISA_CLASS'].isin(['H-1B'])\n",
        "Visaapproval_H1Bdata_Q1toQ4 = Visaapproval_data_Q1toQ4[H1b_data_only]\n",
        "\n",
        "print(\"Total lenght of data after keep only H1B Visa Class \",len(Visaapproval_H1Bdata_Q1toQ4))"
      ]
    },
    {
      "cell_type": "markdown",
      "metadata": {
        "id": "pIKBovJoTc4t"
      },
      "source": [
        "Checking if any value other than H1b still exists"
      ]
    },
    {
      "cell_type": "code",
      "execution_count": null,
      "metadata": {
        "colab": {
          "base_uri": "https://localhost:8080/"
        },
        "id": "JPL_z_OlP306",
        "outputId": "a4b14e72-7476-42a3-db31-5a84c7bedc05"
      },
      "outputs": [
        {
          "name": "stdout",
          "output_type": "stream",
          "text": [
            "Does any other value other than H1b still exists?\n"
          ]
        },
        {
          "data": {
            "text/plain": [
              "False"
            ]
          },
          "execution_count": 251,
          "metadata": {},
          "output_type": "execute_result"
        }
      ],
      "source": [
        "\n",
        "print(\"Does any other value other than H1b still exists?\")\n",
        "\n",
        "~(Visaapproval_H1Bdata_Q1toQ4['VISA_CLASS'].isin(['H-1B'])).any()"
      ]
    },
    {
      "cell_type": "markdown",
      "metadata": {
        "id": "46Mq1xxvTgPg"
      },
      "source": [
        "Lets see what all columns are we left with in our dataset"
      ]
    },
    {
      "cell_type": "code",
      "execution_count": null,
      "metadata": {
        "colab": {
          "base_uri": "https://localhost:8080/"
        },
        "id": "uPYbhG5vQZlm",
        "outputId": "37306071-2203-4aca-a9fc-abcb7a7927ee"
      },
      "outputs": [
        {
          "data": {
            "text/plain": [
              "Index(['CASE_NUMBER', 'CASE_STATUS', 'RECEIVED_DATE', 'DECISION_DATE',\n",
              "       'ORIGINAL_CERT_DATE', 'VISA_CLASS', 'JOB_TITLE', 'SOC_CODE',\n",
              "       'SOC_TITLE', 'FULL_TIME_POSITION', 'BEGIN_DATE', 'END_DATE',\n",
              "       'TOTAL_WORKER_POSITIONS', 'NEW_EMPLOYMENT', 'CONTINUED_EMPLOYMENT',\n",
              "       'CHANGE_PREVIOUS_EMPLOYMENT', 'NEW_CONCURRENT_EMPLOYMENT',\n",
              "       'CHANGE_EMPLOYER', 'AMENDED_PETITION', 'EMPLOYER_NAME',\n",
              "       'TRADE_NAME_DBA', 'EMPLOYER_ADDRESS1', 'EMPLOYER_ADDRESS2',\n",
              "       'EMPLOYER_CITY', 'EMPLOYER_STATE', 'EMPLOYER_POSTAL_CODE',\n",
              "       'EMPLOYER_COUNTRY', 'EMPLOYER_PROVINCE', 'EMPLOYER_PHONE',\n",
              "       'EMPLOYER_PHONE_EXT', 'NAICS_CODE', 'EMPLOYER_POC_LAST_NAME',\n",
              "       'EMPLOYER_POC_FIRST_NAME', 'EMPLOYER_POC_MIDDLE_NAME',\n",
              "       'EMPLOYER_POC_JOB_TITLE', 'EMPLOYER_POC_ADDRESS_1',\n",
              "       'EMPLOYER_POC_ADDRESS_2', 'EMPLOYER_POC_CITY', 'EMPLOYER_POC_STATE',\n",
              "       'EMPLOYER_POC_POSTAL_CODE', 'EMPLOYER_POC_COUNTRY',\n",
              "       'EMPLOYER_POC_PROVINCE', 'EMPLOYER_POC_PHONE', 'EMPLOYER_POC_PHONE_EXT',\n",
              "       'EMPLOYER_POC_EMAIL', 'AGENT_REPRESENTING_EMPLOYER',\n",
              "       'AGENT_ATTORNEY_LAST_NAME', 'AGENT_ATTORNEY_FIRST_NAME',\n",
              "       'AGENT_ATTORNEY_MIDDLE_NAME', 'AGENT_ATTORNEY_ADDRESS1',\n",
              "       'AGENT_ATTORNEY_ADDRESS2', 'AGENT_ATTORNEY_CITY',\n",
              "       'AGENT_ATTORNEY_STATE', 'AGENT_ATTORNEY_POSTAL_CODE',\n",
              "       'AGENT_ATTORNEY_COUNTRY', 'AGENT_ATTORNEY_PROVINCE',\n",
              "       'AGENT_ATTORNEY_PHONE', 'AGENT_ATTORNEY_PHONE_EXT',\n",
              "       'AGENT_ATTORNEY_EMAIL_ADDRESS', 'LAWFIRM_NAME_BUSINESS_NAME',\n",
              "       'STATE_OF_HIGHEST_COURT', 'NAME_OF_HIGHEST_STATE_COURT',\n",
              "       'WORKSITE_WORKERS', 'SECONDARY_ENTITY',\n",
              "       'SECONDARY_ENTITY_BUSINESS_NAME', 'WORKSITE_ADDRESS1',\n",
              "       'WORKSITE_ADDRESS2', 'WORKSITE_CITY', 'WORKSITE_COUNTY',\n",
              "       'WORKSITE_STATE', 'WORKSITE_POSTAL_CODE', 'WAGE_RATE_OF_PAY_FROM',\n",
              "       'WAGE_RATE_OF_PAY_TO', 'WAGE_UNIT_OF_PAY', 'PREVAILING_WAGE',\n",
              "       'PW_UNIT_OF_PAY', 'PW_TRACKING_NUMBER', 'PW_WAGE_LEVEL', 'PW_OES_YEAR',\n",
              "       'PW_OTHER_SOURCE', 'PW_OTHER_YEAR', 'PW_SURVEY_PUBLISHER',\n",
              "       'PW_SURVEY_NAME', 'TOTAL_WORKSITE_LOCATIONS', 'AGREE_TO_LC_STATEMENT',\n",
              "       'H1B_DEPENDENT', 'WILLFUL_VIOLATOR', 'SUPPORT_H1B', 'STATUTORY_BASIS',\n",
              "       'APPENDIX_A_ATTACHED', 'PUBLIC_DISCLOSURE', 'PREPARER_LAST_NAME',\n",
              "       'PREPARER_FIRST_NAME', 'PREPARER_MIDDLE_INITIAL',\n",
              "       'PREPARER_BUSINESS_NAME', 'PREPARER_EMAIL', 'EMPLOYER_POC_ADDRESS1',\n",
              "       'EMPLOYER_POC_ADDRESS2'],\n",
              "      dtype='object')"
            ]
          },
          "execution_count": 252,
          "metadata": {},
          "output_type": "execute_result"
        }
      ],
      "source": [
        " #Lets see what all columns are we left with in our dataset\n",
        "Visaapproval_H1Bdata_Q1toQ4.columns\n"
      ]
    },
    {
      "cell_type": "markdown",
      "metadata": {
        "id": "qgdD-HEfTjfp"
      },
      "source": [
        "Let us also know what type they are"
      ]
    },
    {
      "cell_type": "code",
      "execution_count": null,
      "metadata": {
        "colab": {
          "base_uri": "https://localhost:8080/"
        },
        "id": "Lewni-WUUfYC",
        "outputId": "667b5f70-8750-438b-a5bd-6025d6c1f54a"
      },
      "outputs": [
        {
          "data": {
            "text/plain": [
              "CASE_NUMBER                object\n",
              "CASE_STATUS                object\n",
              "RECEIVED_DATE              object\n",
              "DECISION_DATE              object\n",
              "ORIGINAL_CERT_DATE         object\n",
              "                            ...  \n",
              "PREPARER_MIDDLE_INITIAL    object\n",
              "PREPARER_BUSINESS_NAME     object\n",
              "PREPARER_EMAIL             object\n",
              "EMPLOYER_POC_ADDRESS1      object\n",
              "EMPLOYER_POC_ADDRESS2      object\n",
              "Length: 98, dtype: object"
            ]
          },
          "execution_count": 253,
          "metadata": {},
          "output_type": "execute_result"
        }
      ],
      "source": [
        "#Let us also know what type they are\n",
        "\n",
        "Visaapproval_H1Bdata_Q1toQ4.dtypes"
      ]
    },
    {
      "cell_type": "markdown",
      "metadata": {
        "id": "kSagSZzmTnyl"
      },
      "source": [
        "Based on my understanding the columns that made sense to me are define as important cols as below:\n",
        "\n",
        "As we attained the h1-b data and no longer require to define a visa class hence removing it."
      ]
    },
    {
      "cell_type": "code",
      "execution_count": null,
      "metadata": {
        "colab": {
          "base_uri": "https://localhost:8080/",
          "height": 426
        },
        "id": "eabI84k5hkup",
        "outputId": "f4905618-c60f-49f3-81a8-3b283272f48e"
      },
      "outputs": [
        {
          "data": {
            "text/html": [
              "\n",
              "  <div id=\"df-a81438ff-113b-42b6-b344-a28bcfbd967c\">\n",
              "    <div class=\"colab-df-container\">\n",
              "      <div>\n",
              "<style scoped>\n",
              "    .dataframe tbody tr th:only-of-type {\n",
              "        vertical-align: middle;\n",
              "    }\n",
              "\n",
              "    .dataframe tbody tr th {\n",
              "        vertical-align: top;\n",
              "    }\n",
              "\n",
              "    .dataframe thead th {\n",
              "        text-align: right;\n",
              "    }\n",
              "</style>\n",
              "<table border=\"1\" class=\"dataframe\">\n",
              "  <thead>\n",
              "    <tr style=\"text-align: right;\">\n",
              "      <th></th>\n",
              "      <th>CASE_NUMBER</th>\n",
              "      <th>CASE_STATUS</th>\n",
              "      <th>SOC_TITLE</th>\n",
              "      <th>JOB_TITLE</th>\n",
              "      <th>FULL_TIME_POSITION</th>\n",
              "      <th>TOTAL_WORKER_POSITIONS</th>\n",
              "      <th>NEW_EMPLOYMENT</th>\n",
              "      <th>EMPLOYER_NAME</th>\n",
              "      <th>NAICS_CODE</th>\n",
              "      <th>PREVAILING_WAGE</th>\n",
              "      <th>PW_WAGE_LEVEL</th>\n",
              "      <th>H1B_DEPENDENT</th>\n",
              "      <th>WILLFUL_VIOLATOR</th>\n",
              "      <th>WORKSITE_STATE</th>\n",
              "    </tr>\n",
              "  </thead>\n",
              "  <tbody>\n",
              "    <tr>\n",
              "      <th>0</th>\n",
              "      <td>I-200-20268-843329</td>\n",
              "      <td>Certified</td>\n",
              "      <td>Software Developers, Applications</td>\n",
              "      <td>Senior Technical Architect</td>\n",
              "      <td>Y</td>\n",
              "      <td>1</td>\n",
              "      <td>0</td>\n",
              "      <td>Hexaware Technologies Inc.</td>\n",
              "      <td>541512</td>\n",
              "      <td>$97,406.00</td>\n",
              "      <td>II</td>\n",
              "      <td>Y</td>\n",
              "      <td>N</td>\n",
              "      <td>VA</td>\n",
              "    </tr>\n",
              "    <tr>\n",
              "      <th>1</th>\n",
              "      <td>I-200-20268-843033</td>\n",
              "      <td>Certified</td>\n",
              "      <td>Computer Programmers</td>\n",
              "      <td>Programmer Analyst\\t</td>\n",
              "      <td>Y</td>\n",
              "      <td>1</td>\n",
              "      <td>0</td>\n",
              "      <td>WIPRO LIMITED</td>\n",
              "      <td>541511</td>\n",
              "      <td>$84,510.00</td>\n",
              "      <td>II</td>\n",
              "      <td>Y</td>\n",
              "      <td>N</td>\n",
              "      <td>TX</td>\n",
              "    </tr>\n",
              "    <tr>\n",
              "      <th>2</th>\n",
              "      <td>I-200-20268-843527</td>\n",
              "      <td>Certified</td>\n",
              "      <td>Software Developers, Applications</td>\n",
              "      <td>Software Developer</td>\n",
              "      <td>Y</td>\n",
              "      <td>6</td>\n",
              "      <td>1</td>\n",
              "      <td>Mastech Digital InfoTech, Inc.</td>\n",
              "      <td>541511</td>\n",
              "      <td>$70,678.00</td>\n",
              "      <td>II</td>\n",
              "      <td>Y</td>\n",
              "      <td>N</td>\n",
              "      <td>OH</td>\n",
              "    </tr>\n",
              "    <tr>\n",
              "      <th>3</th>\n",
              "      <td>I-200-20268-844241</td>\n",
              "      <td>Certified</td>\n",
              "      <td>Computer Systems Analysts</td>\n",
              "      <td>JAVA ANALYST 2</td>\n",
              "      <td>Y</td>\n",
              "      <td>1</td>\n",
              "      <td>0</td>\n",
              "      <td>VIRTUSA CORPORATION</td>\n",
              "      <td>541511</td>\n",
              "      <td>$81,453.00</td>\n",
              "      <td>II</td>\n",
              "      <td>Y</td>\n",
              "      <td>N</td>\n",
              "      <td>CT</td>\n",
              "    </tr>\n",
              "    <tr>\n",
              "      <th>4</th>\n",
              "      <td>I-200-20268-844003</td>\n",
              "      <td>Certified</td>\n",
              "      <td>Database Administrators</td>\n",
              "      <td>SQL DATABASE ADMINISTRATOR II</td>\n",
              "      <td>Y</td>\n",
              "      <td>1</td>\n",
              "      <td>0</td>\n",
              "      <td>XTGLOBAL, INC.</td>\n",
              "      <td>541511</td>\n",
              "      <td>$91,146.00</td>\n",
              "      <td>II</td>\n",
              "      <td>Y</td>\n",
              "      <td>N</td>\n",
              "      <td>TX</td>\n",
              "    </tr>\n",
              "  </tbody>\n",
              "</table>\n",
              "</div>\n",
              "      <button class=\"colab-df-convert\" onclick=\"convertToInteractive('df-a81438ff-113b-42b6-b344-a28bcfbd967c')\"\n",
              "              title=\"Convert this dataframe to an interactive table.\"\n",
              "              style=\"display:none;\">\n",
              "        \n",
              "  <svg xmlns=\"http://www.w3.org/2000/svg\" height=\"24px\"viewBox=\"0 0 24 24\"\n",
              "       width=\"24px\">\n",
              "    <path d=\"M0 0h24v24H0V0z\" fill=\"none\"/>\n",
              "    <path d=\"M18.56 5.44l.94 2.06.94-2.06 2.06-.94-2.06-.94-.94-2.06-.94 2.06-2.06.94zm-11 1L8.5 8.5l.94-2.06 2.06-.94-2.06-.94L8.5 2.5l-.94 2.06-2.06.94zm10 10l.94 2.06.94-2.06 2.06-.94-2.06-.94-.94-2.06-.94 2.06-2.06.94z\"/><path d=\"M17.41 7.96l-1.37-1.37c-.4-.4-.92-.59-1.43-.59-.52 0-1.04.2-1.43.59L10.3 9.45l-7.72 7.72c-.78.78-.78 2.05 0 2.83L4 21.41c.39.39.9.59 1.41.59.51 0 1.02-.2 1.41-.59l7.78-7.78 2.81-2.81c.8-.78.8-2.07 0-2.86zM5.41 20L4 18.59l7.72-7.72 1.47 1.35L5.41 20z\"/>\n",
              "  </svg>\n",
              "      </button>\n",
              "      \n",
              "  <style>\n",
              "    .colab-df-container {\n",
              "      display:flex;\n",
              "      flex-wrap:wrap;\n",
              "      gap: 12px;\n",
              "    }\n",
              "\n",
              "    .colab-df-convert {\n",
              "      background-color: #E8F0FE;\n",
              "      border: none;\n",
              "      border-radius: 50%;\n",
              "      cursor: pointer;\n",
              "      display: none;\n",
              "      fill: #1967D2;\n",
              "      height: 32px;\n",
              "      padding: 0 0 0 0;\n",
              "      width: 32px;\n",
              "    }\n",
              "\n",
              "    .colab-df-convert:hover {\n",
              "      background-color: #E2EBFA;\n",
              "      box-shadow: 0px 1px 2px rgba(60, 64, 67, 0.3), 0px 1px 3px 1px rgba(60, 64, 67, 0.15);\n",
              "      fill: #174EA6;\n",
              "    }\n",
              "\n",
              "    [theme=dark] .colab-df-convert {\n",
              "      background-color: #3B4455;\n",
              "      fill: #D2E3FC;\n",
              "    }\n",
              "\n",
              "    [theme=dark] .colab-df-convert:hover {\n",
              "      background-color: #434B5C;\n",
              "      box-shadow: 0px 1px 3px 1px rgba(0, 0, 0, 0.15);\n",
              "      filter: drop-shadow(0px 1px 2px rgba(0, 0, 0, 0.3));\n",
              "      fill: #FFFFFF;\n",
              "    }\n",
              "  </style>\n",
              "\n",
              "      <script>\n",
              "        const buttonEl =\n",
              "          document.querySelector('#df-a81438ff-113b-42b6-b344-a28bcfbd967c button.colab-df-convert');\n",
              "        buttonEl.style.display =\n",
              "          google.colab.kernel.accessAllowed ? 'block' : 'none';\n",
              "\n",
              "        async function convertToInteractive(key) {\n",
              "          const element = document.querySelector('#df-a81438ff-113b-42b6-b344-a28bcfbd967c');\n",
              "          const dataTable =\n",
              "            await google.colab.kernel.invokeFunction('convertToInteractive',\n",
              "                                                     [key], {});\n",
              "          if (!dataTable) return;\n",
              "\n",
              "          const docLinkHtml = 'Like what you see? Visit the ' +\n",
              "            '<a target=\"_blank\" href=https://colab.research.google.com/notebooks/data_table.ipynb>data table notebook</a>'\n",
              "            + ' to learn more about interactive tables.';\n",
              "          element.innerHTML = '';\n",
              "          dataTable['output_type'] = 'display_data';\n",
              "          await google.colab.output.renderOutput(dataTable, element);\n",
              "          const docLink = document.createElement('div');\n",
              "          docLink.innerHTML = docLinkHtml;\n",
              "          element.appendChild(docLink);\n",
              "        }\n",
              "      </script>\n",
              "    </div>\n",
              "  </div>\n",
              "  "
            ],
            "text/plain": [
              "          CASE_NUMBER CASE_STATUS                          SOC_TITLE  \\\n",
              "0  I-200-20268-843329   Certified  Software Developers, Applications   \n",
              "1  I-200-20268-843033   Certified               Computer Programmers   \n",
              "2  I-200-20268-843527   Certified  Software Developers, Applications   \n",
              "3  I-200-20268-844241   Certified          Computer Systems Analysts   \n",
              "4  I-200-20268-844003   Certified            Database Administrators   \n",
              "\n",
              "                       JOB_TITLE FULL_TIME_POSITION  TOTAL_WORKER_POSITIONS  \\\n",
              "0     Senior Technical Architect                  Y                       1   \n",
              "1           Programmer Analyst\\t                  Y                       1   \n",
              "2             Software Developer                  Y                       6   \n",
              "3                 JAVA ANALYST 2                  Y                       1   \n",
              "4  SQL DATABASE ADMINISTRATOR II                  Y                       1   \n",
              "\n",
              "   NEW_EMPLOYMENT                   EMPLOYER_NAME  NAICS_CODE PREVAILING_WAGE  \\\n",
              "0               0      Hexaware Technologies Inc.      541512     $97,406.00    \n",
              "1               0                   WIPRO LIMITED      541511     $84,510.00    \n",
              "2               1  Mastech Digital InfoTech, Inc.      541511     $70,678.00    \n",
              "3               0             VIRTUSA CORPORATION      541511     $81,453.00    \n",
              "4               0                  XTGLOBAL, INC.      541511     $91,146.00    \n",
              "\n",
              "  PW_WAGE_LEVEL H1B_DEPENDENT WILLFUL_VIOLATOR WORKSITE_STATE  \n",
              "0            II             Y                N             VA  \n",
              "1            II             Y                N             TX  \n",
              "2            II             Y                N             OH  \n",
              "3            II             Y                N             CT  \n",
              "4            II             Y                N             TX  "
            ]
          },
          "execution_count": 254,
          "metadata": {},
          "output_type": "execute_result"
        }
      ],
      "source": [
        "Important_Cols = ['CASE_NUMBER','CASE_STATUS','SOC_TITLE','JOB_TITLE','FULL_TIME_POSITION','TOTAL_WORKER_POSITIONS','NEW_EMPLOYMENT','EMPLOYER_NAME','NAICS_CODE','PREVAILING_WAGE','PW_WAGE_LEVEL','H1B_DEPENDENT','WILLFUL_VIOLATOR','WORKSITE_STATE']\n",
        "\n",
        "Final_Visaapproval_H1Bdata_Q1toQ4 = Visaapproval_H1Bdata_Q1toQ4[Important_Cols]\n",
        "\n",
        "Final_Visaapproval_H1Bdata_Q1toQ4.head()"
      ]
    },
    {
      "cell_type": "markdown",
      "metadata": {
        "id": "1dEVPkxOTsx8"
      },
      "source": [
        "As we are trying to predict if the application shall get approved or rejected we try and clean the data\n",
        "\n",
        "\n",
        "We want to predict over all approval accuracy than for a particular case hence we are dropping the column CASE_NUMBER\n",
        "also doesnt add up to the requirement as an important feature for approval of H1-b Visa."
      ]
    },
    {
      "cell_type": "code",
      "execution_count": null,
      "metadata": {
        "id": "wsAG-bd6oZx9"
      },
      "outputs": [],
      "source": [
        "\n",
        "Final_Visaapproval_H1Bdata_Q1toQ4=Final_Visaapproval_H1Bdata_Q1toQ4.drop('CASE_NUMBER',axis=1)\n"
      ]
    },
    {
      "cell_type": "markdown",
      "metadata": {
        "id": "_LMgXF9bT6dO"
      },
      "source": [
        "Datacheck after removal of CASE_NUMBER column removal"
      ]
    },
    {
      "cell_type": "code",
      "execution_count": null,
      "metadata": {
        "colab": {
          "base_uri": "https://localhost:8080/",
          "height": 426
        },
        "id": "pPO4Ky1to5fM",
        "outputId": "594abf6c-ccce-4327-bc49-2da354b45c8f"
      },
      "outputs": [
        {
          "data": {
            "text/html": [
              "\n",
              "  <div id=\"df-7f131296-a09c-4a0e-b660-40847727639a\">\n",
              "    <div class=\"colab-df-container\">\n",
              "      <div>\n",
              "<style scoped>\n",
              "    .dataframe tbody tr th:only-of-type {\n",
              "        vertical-align: middle;\n",
              "    }\n",
              "\n",
              "    .dataframe tbody tr th {\n",
              "        vertical-align: top;\n",
              "    }\n",
              "\n",
              "    .dataframe thead th {\n",
              "        text-align: right;\n",
              "    }\n",
              "</style>\n",
              "<table border=\"1\" class=\"dataframe\">\n",
              "  <thead>\n",
              "    <tr style=\"text-align: right;\">\n",
              "      <th></th>\n",
              "      <th>CASE_STATUS</th>\n",
              "      <th>SOC_TITLE</th>\n",
              "      <th>JOB_TITLE</th>\n",
              "      <th>FULL_TIME_POSITION</th>\n",
              "      <th>TOTAL_WORKER_POSITIONS</th>\n",
              "      <th>NEW_EMPLOYMENT</th>\n",
              "      <th>EMPLOYER_NAME</th>\n",
              "      <th>NAICS_CODE</th>\n",
              "      <th>PREVAILING_WAGE</th>\n",
              "      <th>PW_WAGE_LEVEL</th>\n",
              "      <th>H1B_DEPENDENT</th>\n",
              "      <th>WILLFUL_VIOLATOR</th>\n",
              "      <th>WORKSITE_STATE</th>\n",
              "    </tr>\n",
              "  </thead>\n",
              "  <tbody>\n",
              "    <tr>\n",
              "      <th>0</th>\n",
              "      <td>Certified</td>\n",
              "      <td>Software Developers, Applications</td>\n",
              "      <td>Senior Technical Architect</td>\n",
              "      <td>Y</td>\n",
              "      <td>1</td>\n",
              "      <td>0</td>\n",
              "      <td>Hexaware Technologies Inc.</td>\n",
              "      <td>541512</td>\n",
              "      <td>$97,406.00</td>\n",
              "      <td>II</td>\n",
              "      <td>Y</td>\n",
              "      <td>N</td>\n",
              "      <td>VA</td>\n",
              "    </tr>\n",
              "    <tr>\n",
              "      <th>1</th>\n",
              "      <td>Certified</td>\n",
              "      <td>Computer Programmers</td>\n",
              "      <td>Programmer Analyst\\t</td>\n",
              "      <td>Y</td>\n",
              "      <td>1</td>\n",
              "      <td>0</td>\n",
              "      <td>WIPRO LIMITED</td>\n",
              "      <td>541511</td>\n",
              "      <td>$84,510.00</td>\n",
              "      <td>II</td>\n",
              "      <td>Y</td>\n",
              "      <td>N</td>\n",
              "      <td>TX</td>\n",
              "    </tr>\n",
              "    <tr>\n",
              "      <th>2</th>\n",
              "      <td>Certified</td>\n",
              "      <td>Software Developers, Applications</td>\n",
              "      <td>Software Developer</td>\n",
              "      <td>Y</td>\n",
              "      <td>6</td>\n",
              "      <td>1</td>\n",
              "      <td>Mastech Digital InfoTech, Inc.</td>\n",
              "      <td>541511</td>\n",
              "      <td>$70,678.00</td>\n",
              "      <td>II</td>\n",
              "      <td>Y</td>\n",
              "      <td>N</td>\n",
              "      <td>OH</td>\n",
              "    </tr>\n",
              "    <tr>\n",
              "      <th>3</th>\n",
              "      <td>Certified</td>\n",
              "      <td>Computer Systems Analysts</td>\n",
              "      <td>JAVA ANALYST 2</td>\n",
              "      <td>Y</td>\n",
              "      <td>1</td>\n",
              "      <td>0</td>\n",
              "      <td>VIRTUSA CORPORATION</td>\n",
              "      <td>541511</td>\n",
              "      <td>$81,453.00</td>\n",
              "      <td>II</td>\n",
              "      <td>Y</td>\n",
              "      <td>N</td>\n",
              "      <td>CT</td>\n",
              "    </tr>\n",
              "    <tr>\n",
              "      <th>4</th>\n",
              "      <td>Certified</td>\n",
              "      <td>Database Administrators</td>\n",
              "      <td>SQL DATABASE ADMINISTRATOR II</td>\n",
              "      <td>Y</td>\n",
              "      <td>1</td>\n",
              "      <td>0</td>\n",
              "      <td>XTGLOBAL, INC.</td>\n",
              "      <td>541511</td>\n",
              "      <td>$91,146.00</td>\n",
              "      <td>II</td>\n",
              "      <td>Y</td>\n",
              "      <td>N</td>\n",
              "      <td>TX</td>\n",
              "    </tr>\n",
              "  </tbody>\n",
              "</table>\n",
              "</div>\n",
              "      <button class=\"colab-df-convert\" onclick=\"convertToInteractive('df-7f131296-a09c-4a0e-b660-40847727639a')\"\n",
              "              title=\"Convert this dataframe to an interactive table.\"\n",
              "              style=\"display:none;\">\n",
              "        \n",
              "  <svg xmlns=\"http://www.w3.org/2000/svg\" height=\"24px\"viewBox=\"0 0 24 24\"\n",
              "       width=\"24px\">\n",
              "    <path d=\"M0 0h24v24H0V0z\" fill=\"none\"/>\n",
              "    <path d=\"M18.56 5.44l.94 2.06.94-2.06 2.06-.94-2.06-.94-.94-2.06-.94 2.06-2.06.94zm-11 1L8.5 8.5l.94-2.06 2.06-.94-2.06-.94L8.5 2.5l-.94 2.06-2.06.94zm10 10l.94 2.06.94-2.06 2.06-.94-2.06-.94-.94-2.06-.94 2.06-2.06.94z\"/><path d=\"M17.41 7.96l-1.37-1.37c-.4-.4-.92-.59-1.43-.59-.52 0-1.04.2-1.43.59L10.3 9.45l-7.72 7.72c-.78.78-.78 2.05 0 2.83L4 21.41c.39.39.9.59 1.41.59.51 0 1.02-.2 1.41-.59l7.78-7.78 2.81-2.81c.8-.78.8-2.07 0-2.86zM5.41 20L4 18.59l7.72-7.72 1.47 1.35L5.41 20z\"/>\n",
              "  </svg>\n",
              "      </button>\n",
              "      \n",
              "  <style>\n",
              "    .colab-df-container {\n",
              "      display:flex;\n",
              "      flex-wrap:wrap;\n",
              "      gap: 12px;\n",
              "    }\n",
              "\n",
              "    .colab-df-convert {\n",
              "      background-color: #E8F0FE;\n",
              "      border: none;\n",
              "      border-radius: 50%;\n",
              "      cursor: pointer;\n",
              "      display: none;\n",
              "      fill: #1967D2;\n",
              "      height: 32px;\n",
              "      padding: 0 0 0 0;\n",
              "      width: 32px;\n",
              "    }\n",
              "\n",
              "    .colab-df-convert:hover {\n",
              "      background-color: #E2EBFA;\n",
              "      box-shadow: 0px 1px 2px rgba(60, 64, 67, 0.3), 0px 1px 3px 1px rgba(60, 64, 67, 0.15);\n",
              "      fill: #174EA6;\n",
              "    }\n",
              "\n",
              "    [theme=dark] .colab-df-convert {\n",
              "      background-color: #3B4455;\n",
              "      fill: #D2E3FC;\n",
              "    }\n",
              "\n",
              "    [theme=dark] .colab-df-convert:hover {\n",
              "      background-color: #434B5C;\n",
              "      box-shadow: 0px 1px 3px 1px rgba(0, 0, 0, 0.15);\n",
              "      filter: drop-shadow(0px 1px 2px rgba(0, 0, 0, 0.3));\n",
              "      fill: #FFFFFF;\n",
              "    }\n",
              "  </style>\n",
              "\n",
              "      <script>\n",
              "        const buttonEl =\n",
              "          document.querySelector('#df-7f131296-a09c-4a0e-b660-40847727639a button.colab-df-convert');\n",
              "        buttonEl.style.display =\n",
              "          google.colab.kernel.accessAllowed ? 'block' : 'none';\n",
              "\n",
              "        async function convertToInteractive(key) {\n",
              "          const element = document.querySelector('#df-7f131296-a09c-4a0e-b660-40847727639a');\n",
              "          const dataTable =\n",
              "            await google.colab.kernel.invokeFunction('convertToInteractive',\n",
              "                                                     [key], {});\n",
              "          if (!dataTable) return;\n",
              "\n",
              "          const docLinkHtml = 'Like what you see? Visit the ' +\n",
              "            '<a target=\"_blank\" href=https://colab.research.google.com/notebooks/data_table.ipynb>data table notebook</a>'\n",
              "            + ' to learn more about interactive tables.';\n",
              "          element.innerHTML = '';\n",
              "          dataTable['output_type'] = 'display_data';\n",
              "          await google.colab.output.renderOutput(dataTable, element);\n",
              "          const docLink = document.createElement('div');\n",
              "          docLink.innerHTML = docLinkHtml;\n",
              "          element.appendChild(docLink);\n",
              "        }\n",
              "      </script>\n",
              "    </div>\n",
              "  </div>\n",
              "  "
            ],
            "text/plain": [
              "  CASE_STATUS                          SOC_TITLE  \\\n",
              "0   Certified  Software Developers, Applications   \n",
              "1   Certified               Computer Programmers   \n",
              "2   Certified  Software Developers, Applications   \n",
              "3   Certified          Computer Systems Analysts   \n",
              "4   Certified            Database Administrators   \n",
              "\n",
              "                       JOB_TITLE FULL_TIME_POSITION  TOTAL_WORKER_POSITIONS  \\\n",
              "0     Senior Technical Architect                  Y                       1   \n",
              "1           Programmer Analyst\\t                  Y                       1   \n",
              "2             Software Developer                  Y                       6   \n",
              "3                 JAVA ANALYST 2                  Y                       1   \n",
              "4  SQL DATABASE ADMINISTRATOR II                  Y                       1   \n",
              "\n",
              "   NEW_EMPLOYMENT                   EMPLOYER_NAME  NAICS_CODE PREVAILING_WAGE  \\\n",
              "0               0      Hexaware Technologies Inc.      541512     $97,406.00    \n",
              "1               0                   WIPRO LIMITED      541511     $84,510.00    \n",
              "2               1  Mastech Digital InfoTech, Inc.      541511     $70,678.00    \n",
              "3               0             VIRTUSA CORPORATION      541511     $81,453.00    \n",
              "4               0                  XTGLOBAL, INC.      541511     $91,146.00    \n",
              "\n",
              "  PW_WAGE_LEVEL H1B_DEPENDENT WILLFUL_VIOLATOR WORKSITE_STATE  \n",
              "0            II             Y                N             VA  \n",
              "1            II             Y                N             TX  \n",
              "2            II             Y                N             OH  \n",
              "3            II             Y                N             CT  \n",
              "4            II             Y                N             TX  "
            ]
          },
          "execution_count": 256,
          "metadata": {},
          "output_type": "execute_result"
        }
      ],
      "source": [
        "\n",
        "Final_Visaapproval_H1Bdata_Q1toQ4.head()"
      ]
    },
    {
      "cell_type": "markdown",
      "metadata": {
        "id": "-R9btj_0T9To"
      },
      "source": [
        "Let us next know if any value is empty or not in our dataset"
      ]
    },
    {
      "cell_type": "code",
      "execution_count": null,
      "metadata": {
        "colab": {
          "base_uri": "https://localhost:8080/"
        },
        "id": "UpV5K-t6o8QE",
        "outputId": "878f5fd5-6a94-4a1b-9051-93ebbd966ce5"
      },
      "outputs": [
        {
          "data": {
            "text/plain": [
              "CASE_STATUS                   0\n",
              "SOC_TITLE                     0\n",
              "JOB_TITLE                     0\n",
              "FULL_TIME_POSITION            0\n",
              "TOTAL_WORKER_POSITIONS        0\n",
              "NEW_EMPLOYMENT                0\n",
              "EMPLOYER_NAME                 2\n",
              "NAICS_CODE                    0\n",
              "PREVAILING_WAGE               1\n",
              "PW_WAGE_LEVEL             83560\n",
              "H1B_DEPENDENT                 0\n",
              "WILLFUL_VIOLATOR              0\n",
              "WORKSITE_STATE                1\n",
              "dtype: int64"
            ]
          },
          "execution_count": 257,
          "metadata": {},
          "output_type": "execute_result"
        }
      ],
      "source": [
        "Final_Visaapproval_H1Bdata_Q1toQ4.isnull().sum()"
      ]
    },
    {
      "cell_type": "markdown",
      "metadata": {
        "id": "L2NIZQstUDgr"
      },
      "source": [
        "We can see that the columns Employer_Name,Worksite_City,Worksite_State,Prevailing_Wage and PW_Wage level have null values.Hence we are dropping those NA values"
      ]
    },
    {
      "cell_type": "code",
      "execution_count": null,
      "metadata": {
        "colab": {
          "base_uri": "https://localhost:8080/",
          "height": 852
        },
        "id": "OxY958sKpSkl",
        "outputId": "eddb1b68-d2fe-4507-d2b5-94aaa3470e4b"
      },
      "outputs": [
        {
          "data": {
            "text/html": [
              "\n",
              "  <div id=\"df-5a6da9f7-ff18-4412-b0e9-830c1ade4aad\">\n",
              "    <div class=\"colab-df-container\">\n",
              "      <div>\n",
              "<style scoped>\n",
              "    .dataframe tbody tr th:only-of-type {\n",
              "        vertical-align: middle;\n",
              "    }\n",
              "\n",
              "    .dataframe tbody tr th {\n",
              "        vertical-align: top;\n",
              "    }\n",
              "\n",
              "    .dataframe thead th {\n",
              "        text-align: right;\n",
              "    }\n",
              "</style>\n",
              "<table border=\"1\" class=\"dataframe\">\n",
              "  <thead>\n",
              "    <tr style=\"text-align: right;\">\n",
              "      <th></th>\n",
              "      <th>CASE_STATUS</th>\n",
              "      <th>SOC_TITLE</th>\n",
              "      <th>JOB_TITLE</th>\n",
              "      <th>FULL_TIME_POSITION</th>\n",
              "      <th>TOTAL_WORKER_POSITIONS</th>\n",
              "      <th>NEW_EMPLOYMENT</th>\n",
              "      <th>EMPLOYER_NAME</th>\n",
              "      <th>NAICS_CODE</th>\n",
              "      <th>PREVAILING_WAGE</th>\n",
              "      <th>PW_WAGE_LEVEL</th>\n",
              "      <th>H1B_DEPENDENT</th>\n",
              "      <th>WILLFUL_VIOLATOR</th>\n",
              "      <th>WORKSITE_STATE</th>\n",
              "    </tr>\n",
              "  </thead>\n",
              "  <tbody>\n",
              "    <tr>\n",
              "      <th>0</th>\n",
              "      <td>Certified</td>\n",
              "      <td>Software Developers, Applications</td>\n",
              "      <td>Senior Technical Architect</td>\n",
              "      <td>Y</td>\n",
              "      <td>1</td>\n",
              "      <td>0</td>\n",
              "      <td>Hexaware Technologies Inc.</td>\n",
              "      <td>541512</td>\n",
              "      <td>$97,406.00</td>\n",
              "      <td>II</td>\n",
              "      <td>Y</td>\n",
              "      <td>N</td>\n",
              "      <td>VA</td>\n",
              "    </tr>\n",
              "    <tr>\n",
              "      <th>1</th>\n",
              "      <td>Certified</td>\n",
              "      <td>Computer Programmers</td>\n",
              "      <td>Programmer Analyst\\t</td>\n",
              "      <td>Y</td>\n",
              "      <td>1</td>\n",
              "      <td>0</td>\n",
              "      <td>WIPRO LIMITED</td>\n",
              "      <td>541511</td>\n",
              "      <td>$84,510.00</td>\n",
              "      <td>II</td>\n",
              "      <td>Y</td>\n",
              "      <td>N</td>\n",
              "      <td>TX</td>\n",
              "    </tr>\n",
              "    <tr>\n",
              "      <th>2</th>\n",
              "      <td>Certified</td>\n",
              "      <td>Software Developers, Applications</td>\n",
              "      <td>Software Developer</td>\n",
              "      <td>Y</td>\n",
              "      <td>6</td>\n",
              "      <td>1</td>\n",
              "      <td>Mastech Digital InfoTech, Inc.</td>\n",
              "      <td>541511</td>\n",
              "      <td>$70,678.00</td>\n",
              "      <td>II</td>\n",
              "      <td>Y</td>\n",
              "      <td>N</td>\n",
              "      <td>OH</td>\n",
              "    </tr>\n",
              "    <tr>\n",
              "      <th>3</th>\n",
              "      <td>Certified</td>\n",
              "      <td>Computer Systems Analysts</td>\n",
              "      <td>JAVA ANALYST 2</td>\n",
              "      <td>Y</td>\n",
              "      <td>1</td>\n",
              "      <td>0</td>\n",
              "      <td>VIRTUSA CORPORATION</td>\n",
              "      <td>541511</td>\n",
              "      <td>$81,453.00</td>\n",
              "      <td>II</td>\n",
              "      <td>Y</td>\n",
              "      <td>N</td>\n",
              "      <td>CT</td>\n",
              "    </tr>\n",
              "    <tr>\n",
              "      <th>4</th>\n",
              "      <td>Certified</td>\n",
              "      <td>Database Administrators</td>\n",
              "      <td>SQL DATABASE ADMINISTRATOR II</td>\n",
              "      <td>Y</td>\n",
              "      <td>1</td>\n",
              "      <td>0</td>\n",
              "      <td>XTGLOBAL, INC.</td>\n",
              "      <td>541511</td>\n",
              "      <td>$91,146.00</td>\n",
              "      <td>II</td>\n",
              "      <td>Y</td>\n",
              "      <td>N</td>\n",
              "      <td>TX</td>\n",
              "    </tr>\n",
              "    <tr>\n",
              "      <th>...</th>\n",
              "      <td>...</td>\n",
              "      <td>...</td>\n",
              "      <td>...</td>\n",
              "      <td>...</td>\n",
              "      <td>...</td>\n",
              "      <td>...</td>\n",
              "      <td>...</td>\n",
              "      <td>...</td>\n",
              "      <td>...</td>\n",
              "      <td>...</td>\n",
              "      <td>...</td>\n",
              "      <td>...</td>\n",
              "      <td>...</td>\n",
              "    </tr>\n",
              "    <tr>\n",
              "      <th>826300</th>\n",
              "      <td>Withdrawn</td>\n",
              "      <td>Software Developers, Systems Software</td>\n",
              "      <td>SOFTWARE DEVELOPMENT</td>\n",
              "      <td>Y</td>\n",
              "      <td>1</td>\n",
              "      <td>1</td>\n",
              "      <td>ESCOBEDO CONSTRUCTION, LP</td>\n",
              "      <td>23611</td>\n",
              "      <td>$72,384.00</td>\n",
              "      <td>I</td>\n",
              "      <td>No</td>\n",
              "      <td>No</td>\n",
              "      <td>TX</td>\n",
              "    </tr>\n",
              "    <tr>\n",
              "      <th>826301</th>\n",
              "      <td>Withdrawn</td>\n",
              "      <td>Business Teachers, Postsecondary</td>\n",
              "      <td>Assistant Professor of Instruction</td>\n",
              "      <td>Y</td>\n",
              "      <td>1</td>\n",
              "      <td>1</td>\n",
              "      <td>The University of Texas at Dallas</td>\n",
              "      <td>6113</td>\n",
              "      <td>$18,340.00</td>\n",
              "      <td>I</td>\n",
              "      <td>No</td>\n",
              "      <td>No</td>\n",
              "      <td>TX</td>\n",
              "    </tr>\n",
              "    <tr>\n",
              "      <th>826302</th>\n",
              "      <td>Withdrawn</td>\n",
              "      <td>Software Developers, Applications</td>\n",
              "      <td>Engineering Lead</td>\n",
              "      <td>Y</td>\n",
              "      <td>1</td>\n",
              "      <td>0</td>\n",
              "      <td>NIC INFO TEK INC</td>\n",
              "      <td>541511</td>\n",
              "      <td>$80,330.00</td>\n",
              "      <td>II</td>\n",
              "      <td>Yes</td>\n",
              "      <td>No</td>\n",
              "      <td>TN</td>\n",
              "    </tr>\n",
              "    <tr>\n",
              "      <th>826303</th>\n",
              "      <td>Withdrawn</td>\n",
              "      <td>Software Developers, Applications</td>\n",
              "      <td>Engineering Lead</td>\n",
              "      <td>Y</td>\n",
              "      <td>1</td>\n",
              "      <td>0</td>\n",
              "      <td>NIC INFO TEK INC</td>\n",
              "      <td>541511</td>\n",
              "      <td>$80,330.00</td>\n",
              "      <td>II</td>\n",
              "      <td>Yes</td>\n",
              "      <td>No</td>\n",
              "      <td>TN</td>\n",
              "    </tr>\n",
              "    <tr>\n",
              "      <th>826304</th>\n",
              "      <td>Withdrawn</td>\n",
              "      <td>Computer and Information Systems Managers</td>\n",
              "      <td>Vice President, Engineering</td>\n",
              "      <td>Y</td>\n",
              "      <td>1</td>\n",
              "      <td>1</td>\n",
              "      <td>CompassBeauty, Inc.</td>\n",
              "      <td>81211</td>\n",
              "      <td>$136,864.00</td>\n",
              "      <td>I</td>\n",
              "      <td>No</td>\n",
              "      <td>No</td>\n",
              "      <td>CA</td>\n",
              "    </tr>\n",
              "  </tbody>\n",
              "</table>\n",
              "<p>720171 rows × 13 columns</p>\n",
              "</div>\n",
              "      <button class=\"colab-df-convert\" onclick=\"convertToInteractive('df-5a6da9f7-ff18-4412-b0e9-830c1ade4aad')\"\n",
              "              title=\"Convert this dataframe to an interactive table.\"\n",
              "              style=\"display:none;\">\n",
              "        \n",
              "  <svg xmlns=\"http://www.w3.org/2000/svg\" height=\"24px\"viewBox=\"0 0 24 24\"\n",
              "       width=\"24px\">\n",
              "    <path d=\"M0 0h24v24H0V0z\" fill=\"none\"/>\n",
              "    <path d=\"M18.56 5.44l.94 2.06.94-2.06 2.06-.94-2.06-.94-.94-2.06-.94 2.06-2.06.94zm-11 1L8.5 8.5l.94-2.06 2.06-.94-2.06-.94L8.5 2.5l-.94 2.06-2.06.94zm10 10l.94 2.06.94-2.06 2.06-.94-2.06-.94-.94-2.06-.94 2.06-2.06.94z\"/><path d=\"M17.41 7.96l-1.37-1.37c-.4-.4-.92-.59-1.43-.59-.52 0-1.04.2-1.43.59L10.3 9.45l-7.72 7.72c-.78.78-.78 2.05 0 2.83L4 21.41c.39.39.9.59 1.41.59.51 0 1.02-.2 1.41-.59l7.78-7.78 2.81-2.81c.8-.78.8-2.07 0-2.86zM5.41 20L4 18.59l7.72-7.72 1.47 1.35L5.41 20z\"/>\n",
              "  </svg>\n",
              "      </button>\n",
              "      \n",
              "  <style>\n",
              "    .colab-df-container {\n",
              "      display:flex;\n",
              "      flex-wrap:wrap;\n",
              "      gap: 12px;\n",
              "    }\n",
              "\n",
              "    .colab-df-convert {\n",
              "      background-color: #E8F0FE;\n",
              "      border: none;\n",
              "      border-radius: 50%;\n",
              "      cursor: pointer;\n",
              "      display: none;\n",
              "      fill: #1967D2;\n",
              "      height: 32px;\n",
              "      padding: 0 0 0 0;\n",
              "      width: 32px;\n",
              "    }\n",
              "\n",
              "    .colab-df-convert:hover {\n",
              "      background-color: #E2EBFA;\n",
              "      box-shadow: 0px 1px 2px rgba(60, 64, 67, 0.3), 0px 1px 3px 1px rgba(60, 64, 67, 0.15);\n",
              "      fill: #174EA6;\n",
              "    }\n",
              "\n",
              "    [theme=dark] .colab-df-convert {\n",
              "      background-color: #3B4455;\n",
              "      fill: #D2E3FC;\n",
              "    }\n",
              "\n",
              "    [theme=dark] .colab-df-convert:hover {\n",
              "      background-color: #434B5C;\n",
              "      box-shadow: 0px 1px 3px 1px rgba(0, 0, 0, 0.15);\n",
              "      filter: drop-shadow(0px 1px 2px rgba(0, 0, 0, 0.3));\n",
              "      fill: #FFFFFF;\n",
              "    }\n",
              "  </style>\n",
              "\n",
              "      <script>\n",
              "        const buttonEl =\n",
              "          document.querySelector('#df-5a6da9f7-ff18-4412-b0e9-830c1ade4aad button.colab-df-convert');\n",
              "        buttonEl.style.display =\n",
              "          google.colab.kernel.accessAllowed ? 'block' : 'none';\n",
              "\n",
              "        async function convertToInteractive(key) {\n",
              "          const element = document.querySelector('#df-5a6da9f7-ff18-4412-b0e9-830c1ade4aad');\n",
              "          const dataTable =\n",
              "            await google.colab.kernel.invokeFunction('convertToInteractive',\n",
              "                                                     [key], {});\n",
              "          if (!dataTable) return;\n",
              "\n",
              "          const docLinkHtml = 'Like what you see? Visit the ' +\n",
              "            '<a target=\"_blank\" href=https://colab.research.google.com/notebooks/data_table.ipynb>data table notebook</a>'\n",
              "            + ' to learn more about interactive tables.';\n",
              "          element.innerHTML = '';\n",
              "          dataTable['output_type'] = 'display_data';\n",
              "          await google.colab.output.renderOutput(dataTable, element);\n",
              "          const docLink = document.createElement('div');\n",
              "          docLink.innerHTML = docLinkHtml;\n",
              "          element.appendChild(docLink);\n",
              "        }\n",
              "      </script>\n",
              "    </div>\n",
              "  </div>\n",
              "  "
            ],
            "text/plain": [
              "       CASE_STATUS                                  SOC_TITLE  \\\n",
              "0        Certified          Software Developers, Applications   \n",
              "1        Certified                       Computer Programmers   \n",
              "2        Certified          Software Developers, Applications   \n",
              "3        Certified                  Computer Systems Analysts   \n",
              "4        Certified                    Database Administrators   \n",
              "...            ...                                        ...   \n",
              "826300   Withdrawn      Software Developers, Systems Software   \n",
              "826301   Withdrawn           Business Teachers, Postsecondary   \n",
              "826302   Withdrawn          Software Developers, Applications   \n",
              "826303   Withdrawn          Software Developers, Applications   \n",
              "826304   Withdrawn  Computer and Information Systems Managers   \n",
              "\n",
              "                                 JOB_TITLE FULL_TIME_POSITION  \\\n",
              "0               Senior Technical Architect                  Y   \n",
              "1                     Programmer Analyst\\t                  Y   \n",
              "2                       Software Developer                  Y   \n",
              "3                           JAVA ANALYST 2                  Y   \n",
              "4            SQL DATABASE ADMINISTRATOR II                  Y   \n",
              "...                                    ...                ...   \n",
              "826300                SOFTWARE DEVELOPMENT                  Y   \n",
              "826301  Assistant Professor of Instruction                  Y   \n",
              "826302                    Engineering Lead                  Y   \n",
              "826303                    Engineering Lead                  Y   \n",
              "826304         Vice President, Engineering                  Y   \n",
              "\n",
              "        TOTAL_WORKER_POSITIONS  NEW_EMPLOYMENT  \\\n",
              "0                            1               0   \n",
              "1                            1               0   \n",
              "2                            6               1   \n",
              "3                            1               0   \n",
              "4                            1               0   \n",
              "...                        ...             ...   \n",
              "826300                       1               1   \n",
              "826301                       1               1   \n",
              "826302                       1               0   \n",
              "826303                       1               0   \n",
              "826304                       1               1   \n",
              "\n",
              "                            EMPLOYER_NAME  NAICS_CODE PREVAILING_WAGE  \\\n",
              "0              Hexaware Technologies Inc.      541512     $97,406.00    \n",
              "1                           WIPRO LIMITED      541511     $84,510.00    \n",
              "2          Mastech Digital InfoTech, Inc.      541511     $70,678.00    \n",
              "3                     VIRTUSA CORPORATION      541511     $81,453.00    \n",
              "4                          XTGLOBAL, INC.      541511     $91,146.00    \n",
              "...                                   ...         ...             ...   \n",
              "826300          ESCOBEDO CONSTRUCTION, LP       23611     $72,384.00    \n",
              "826301  The University of Texas at Dallas        6113     $18,340.00    \n",
              "826302                   NIC INFO TEK INC      541511     $80,330.00    \n",
              "826303                   NIC INFO TEK INC      541511     $80,330.00    \n",
              "826304                CompassBeauty, Inc.       81211    $136,864.00    \n",
              "\n",
              "       PW_WAGE_LEVEL H1B_DEPENDENT WILLFUL_VIOLATOR WORKSITE_STATE  \n",
              "0                 II             Y                N             VA  \n",
              "1                 II             Y                N             TX  \n",
              "2                 II             Y                N             OH  \n",
              "3                 II             Y                N             CT  \n",
              "4                 II             Y                N             TX  \n",
              "...              ...           ...              ...            ...  \n",
              "826300             I            No               No             TX  \n",
              "826301             I            No               No             TX  \n",
              "826302            II           Yes               No             TN  \n",
              "826303            II           Yes               No             TN  \n",
              "826304             I            No               No             CA  \n",
              "\n",
              "[720171 rows x 13 columns]"
            ]
          },
          "execution_count": 258,
          "metadata": {},
          "output_type": "execute_result"
        }
      ],
      "source": [
        "New_Final_Visaapproval_H1Bdata_Q1toQ4 = Final_Visaapproval_H1Bdata_Q1toQ4.dropna()\n",
        "\n",
        "New_Final_Visaapproval_H1Bdata_Q1toQ4\n"
      ]
    },
    {
      "cell_type": "markdown",
      "metadata": {
        "id": "YIhH2obtUKSY"
      },
      "source": [
        "Rechecking after all the NA values have been removed from the data set."
      ]
    },
    {
      "cell_type": "code",
      "execution_count": null,
      "metadata": {
        "colab": {
          "base_uri": "https://localhost:8080/"
        },
        "id": "JRhE2TVJqWFM",
        "outputId": "a4b363d3-8073-4220-9c8c-985a0e51323b"
      },
      "outputs": [
        {
          "data": {
            "text/plain": [
              "CASE_STATUS               0\n",
              "SOC_TITLE                 0\n",
              "JOB_TITLE                 0\n",
              "FULL_TIME_POSITION        0\n",
              "TOTAL_WORKER_POSITIONS    0\n",
              "NEW_EMPLOYMENT            0\n",
              "EMPLOYER_NAME             0\n",
              "NAICS_CODE                0\n",
              "PREVAILING_WAGE           0\n",
              "PW_WAGE_LEVEL             0\n",
              "H1B_DEPENDENT             0\n",
              "WILLFUL_VIOLATOR          0\n",
              "WORKSITE_STATE            0\n",
              "dtype: int64"
            ]
          },
          "execution_count": 259,
          "metadata": {},
          "output_type": "execute_result"
        }
      ],
      "source": [
        "New_Final_Visaapproval_H1Bdata_Q1toQ4.isna().sum()"
      ]
    },
    {
      "cell_type": "markdown",
      "metadata": {
        "id": "f6PmyzwvURZT"
      },
      "source": [
        "As we are going to be working on Approval or rejection of the applications, let's check what the status are in our collected data and improve or correct them accordingly."
      ]
    },
    {
      "cell_type": "code",
      "execution_count": null,
      "metadata": {
        "colab": {
          "base_uri": "https://localhost:8080/"
        },
        "id": "GNdGB1gSr7GX",
        "outputId": "604ed909-47f4-4320-fec2-134ff1150af5"
      },
      "outputs": [
        {
          "data": {
            "text/plain": [
              "Certified                674279\n",
              "Certified - Withdrawn     29717\n",
              "Withdrawn                 13844\n",
              "Denied                     2331\n",
              "Name: CASE_STATUS, dtype: int64"
            ]
          },
          "execution_count": 260,
          "metadata": {},
          "output_type": "execute_result"
        }
      ],
      "source": [
        "New_Final_Visaapproval_H1Bdata_Q1toQ4['CASE_STATUS'].value_counts()"
      ]
    },
    {
      "cell_type": "markdown",
      "metadata": {
        "id": "0Vv3HtwcUgBO"
      },
      "source": [
        "As there are 4 different case statuses and we are trying to classify them for better results we wpuld want to further combine these statuses and would be changing them to Approved and Denied by using the query statements in pandas.\n"
      ]
    },
    {
      "cell_type": "code",
      "execution_count": null,
      "metadata": {
        "id": "YSMINBXrsoYz"
      },
      "outputs": [],
      "source": [
        "case_status_holder = New_Final_Visaapproval_H1Bdata_Q1toQ4['CASE_STATUS']\n",
        "\n",
        "New_Final_Visaapproval_H1Bdata_Q1toQ4.loc[case_status_holder == 'Withdrawn', 'CASE_STATUS'] = 'Rejected'\n",
        "New_Final_Visaapproval_H1Bdata_Q1toQ4.loc[case_status_holder == 'Denied', 'CASE_STATUS'] = 'Rejected'\n",
        "New_Final_Visaapproval_H1Bdata_Q1toQ4.loc[case_status_holder == 'Certified', 'CASE_STATUS'] = 'Approved'\n",
        "New_Final_Visaapproval_H1Bdata_Q1toQ4.loc[case_status_holder == 'Certified - Withdrawn', 'CASE_STATUS'] = 'Approved'\n"
      ]
    },
    {
      "cell_type": "markdown",
      "metadata": {
        "id": "dUy4dpyIUtDJ"
      },
      "source": [
        "Rechecking if the status changed or not"
      ]
    },
    {
      "cell_type": "code",
      "execution_count": null,
      "metadata": {
        "colab": {
          "base_uri": "https://localhost:8080/"
        },
        "id": "m8tDc5I8sr8_",
        "outputId": "37970212-1792-4c86-a2d1-9f77aea13985"
      },
      "outputs": [
        {
          "data": {
            "text/plain": [
              "Approved    703996\n",
              "Rejected     16175\n",
              "Name: CASE_STATUS, dtype: int64"
            ]
          },
          "execution_count": 262,
          "metadata": {},
          "output_type": "execute_result"
        }
      ],
      "source": [
        "New_Final_Visaapproval_H1Bdata_Q1toQ4['CASE_STATUS'].value_counts()"
      ]
    },
    {
      "cell_type": "markdown",
      "metadata": {
        "id": "Pit-Khs_Uw1F"
      },
      "source": [
        "Checking the datatypes of the columns currently present in our dataset"
      ]
    },
    {
      "cell_type": "code",
      "execution_count": null,
      "metadata": {
        "colab": {
          "base_uri": "https://localhost:8080/"
        },
        "id": "o2aaVEi4tb7t",
        "outputId": "82efbad8-00c1-4881-9080-ae2db0f723cf"
      },
      "outputs": [
        {
          "data": {
            "text/plain": [
              "CASE_STATUS               object\n",
              "SOC_TITLE                 object\n",
              "JOB_TITLE                 object\n",
              "FULL_TIME_POSITION        object\n",
              "TOTAL_WORKER_POSITIONS     int64\n",
              "NEW_EMPLOYMENT             int64\n",
              "EMPLOYER_NAME             object\n",
              "NAICS_CODE                 int64\n",
              "PREVAILING_WAGE           object\n",
              "PW_WAGE_LEVEL             object\n",
              "H1B_DEPENDENT             object\n",
              "WILLFUL_VIOLATOR          object\n",
              "WORKSITE_STATE            object\n",
              "dtype: object"
            ]
          },
          "execution_count": 263,
          "metadata": {},
          "output_type": "execute_result"
        }
      ],
      "source": [
        "New_Final_Visaapproval_H1Bdata_Q1toQ4.dtypes"
      ]
    },
    {
      "cell_type": "markdown",
      "metadata": {
        "id": "-U-K6rX0U3b6"
      },
      "source": [
        "As we can see above the wage is also an object we would want the PREVAILING WAGE LEVEL also to be in float or int type."
      ]
    },
    {
      "cell_type": "code",
      "execution_count": null,
      "metadata": {
        "colab": {
          "base_uri": "https://localhost:8080/",
          "height": 852
        },
        "id": "qtJqj-sUti5s",
        "outputId": "4e757ce3-c8fc-40c6-8449-26752491d5b5"
      },
      "outputs": [
        {
          "data": {
            "text/html": [
              "\n",
              "  <div id=\"df-19c6c88a-40c9-4dc7-8223-33e9ee01939e\">\n",
              "    <div class=\"colab-df-container\">\n",
              "      <div>\n",
              "<style scoped>\n",
              "    .dataframe tbody tr th:only-of-type {\n",
              "        vertical-align: middle;\n",
              "    }\n",
              "\n",
              "    .dataframe tbody tr th {\n",
              "        vertical-align: top;\n",
              "    }\n",
              "\n",
              "    .dataframe thead th {\n",
              "        text-align: right;\n",
              "    }\n",
              "</style>\n",
              "<table border=\"1\" class=\"dataframe\">\n",
              "  <thead>\n",
              "    <tr style=\"text-align: right;\">\n",
              "      <th></th>\n",
              "      <th>CASE_STATUS</th>\n",
              "      <th>SOC_TITLE</th>\n",
              "      <th>JOB_TITLE</th>\n",
              "      <th>FULL_TIME_POSITION</th>\n",
              "      <th>TOTAL_WORKER_POSITIONS</th>\n",
              "      <th>NEW_EMPLOYMENT</th>\n",
              "      <th>EMPLOYER_NAME</th>\n",
              "      <th>NAICS_CODE</th>\n",
              "      <th>PREVAILING_WAGE</th>\n",
              "      <th>PW_WAGE_LEVEL</th>\n",
              "      <th>H1B_DEPENDENT</th>\n",
              "      <th>WILLFUL_VIOLATOR</th>\n",
              "      <th>WORKSITE_STATE</th>\n",
              "    </tr>\n",
              "  </thead>\n",
              "  <tbody>\n",
              "    <tr>\n",
              "      <th>0</th>\n",
              "      <td>Approved</td>\n",
              "      <td>Software Developers, Applications</td>\n",
              "      <td>Senior Technical Architect</td>\n",
              "      <td>Y</td>\n",
              "      <td>1</td>\n",
              "      <td>0</td>\n",
              "      <td>Hexaware Technologies Inc.</td>\n",
              "      <td>541512</td>\n",
              "      <td>97406.0</td>\n",
              "      <td>II</td>\n",
              "      <td>Y</td>\n",
              "      <td>N</td>\n",
              "      <td>VA</td>\n",
              "    </tr>\n",
              "    <tr>\n",
              "      <th>1</th>\n",
              "      <td>Approved</td>\n",
              "      <td>Computer Programmers</td>\n",
              "      <td>Programmer Analyst\\t</td>\n",
              "      <td>Y</td>\n",
              "      <td>1</td>\n",
              "      <td>0</td>\n",
              "      <td>WIPRO LIMITED</td>\n",
              "      <td>541511</td>\n",
              "      <td>84510.0</td>\n",
              "      <td>II</td>\n",
              "      <td>Y</td>\n",
              "      <td>N</td>\n",
              "      <td>TX</td>\n",
              "    </tr>\n",
              "    <tr>\n",
              "      <th>2</th>\n",
              "      <td>Approved</td>\n",
              "      <td>Software Developers, Applications</td>\n",
              "      <td>Software Developer</td>\n",
              "      <td>Y</td>\n",
              "      <td>6</td>\n",
              "      <td>1</td>\n",
              "      <td>Mastech Digital InfoTech, Inc.</td>\n",
              "      <td>541511</td>\n",
              "      <td>70678.0</td>\n",
              "      <td>II</td>\n",
              "      <td>Y</td>\n",
              "      <td>N</td>\n",
              "      <td>OH</td>\n",
              "    </tr>\n",
              "    <tr>\n",
              "      <th>3</th>\n",
              "      <td>Approved</td>\n",
              "      <td>Computer Systems Analysts</td>\n",
              "      <td>JAVA ANALYST 2</td>\n",
              "      <td>Y</td>\n",
              "      <td>1</td>\n",
              "      <td>0</td>\n",
              "      <td>VIRTUSA CORPORATION</td>\n",
              "      <td>541511</td>\n",
              "      <td>81453.0</td>\n",
              "      <td>II</td>\n",
              "      <td>Y</td>\n",
              "      <td>N</td>\n",
              "      <td>CT</td>\n",
              "    </tr>\n",
              "    <tr>\n",
              "      <th>4</th>\n",
              "      <td>Approved</td>\n",
              "      <td>Database Administrators</td>\n",
              "      <td>SQL DATABASE ADMINISTRATOR II</td>\n",
              "      <td>Y</td>\n",
              "      <td>1</td>\n",
              "      <td>0</td>\n",
              "      <td>XTGLOBAL, INC.</td>\n",
              "      <td>541511</td>\n",
              "      <td>91146.0</td>\n",
              "      <td>II</td>\n",
              "      <td>Y</td>\n",
              "      <td>N</td>\n",
              "      <td>TX</td>\n",
              "    </tr>\n",
              "    <tr>\n",
              "      <th>...</th>\n",
              "      <td>...</td>\n",
              "      <td>...</td>\n",
              "      <td>...</td>\n",
              "      <td>...</td>\n",
              "      <td>...</td>\n",
              "      <td>...</td>\n",
              "      <td>...</td>\n",
              "      <td>...</td>\n",
              "      <td>...</td>\n",
              "      <td>...</td>\n",
              "      <td>...</td>\n",
              "      <td>...</td>\n",
              "      <td>...</td>\n",
              "    </tr>\n",
              "    <tr>\n",
              "      <th>826300</th>\n",
              "      <td>Rejected</td>\n",
              "      <td>Software Developers, Systems Software</td>\n",
              "      <td>SOFTWARE DEVELOPMENT</td>\n",
              "      <td>Y</td>\n",
              "      <td>1</td>\n",
              "      <td>1</td>\n",
              "      <td>ESCOBEDO CONSTRUCTION, LP</td>\n",
              "      <td>23611</td>\n",
              "      <td>72384.0</td>\n",
              "      <td>I</td>\n",
              "      <td>No</td>\n",
              "      <td>No</td>\n",
              "      <td>TX</td>\n",
              "    </tr>\n",
              "    <tr>\n",
              "      <th>826301</th>\n",
              "      <td>Rejected</td>\n",
              "      <td>Business Teachers, Postsecondary</td>\n",
              "      <td>Assistant Professor of Instruction</td>\n",
              "      <td>Y</td>\n",
              "      <td>1</td>\n",
              "      <td>1</td>\n",
              "      <td>The University of Texas at Dallas</td>\n",
              "      <td>6113</td>\n",
              "      <td>18340.0</td>\n",
              "      <td>I</td>\n",
              "      <td>No</td>\n",
              "      <td>No</td>\n",
              "      <td>TX</td>\n",
              "    </tr>\n",
              "    <tr>\n",
              "      <th>826302</th>\n",
              "      <td>Rejected</td>\n",
              "      <td>Software Developers, Applications</td>\n",
              "      <td>Engineering Lead</td>\n",
              "      <td>Y</td>\n",
              "      <td>1</td>\n",
              "      <td>0</td>\n",
              "      <td>NIC INFO TEK INC</td>\n",
              "      <td>541511</td>\n",
              "      <td>80330.0</td>\n",
              "      <td>II</td>\n",
              "      <td>Yes</td>\n",
              "      <td>No</td>\n",
              "      <td>TN</td>\n",
              "    </tr>\n",
              "    <tr>\n",
              "      <th>826303</th>\n",
              "      <td>Rejected</td>\n",
              "      <td>Software Developers, Applications</td>\n",
              "      <td>Engineering Lead</td>\n",
              "      <td>Y</td>\n",
              "      <td>1</td>\n",
              "      <td>0</td>\n",
              "      <td>NIC INFO TEK INC</td>\n",
              "      <td>541511</td>\n",
              "      <td>80330.0</td>\n",
              "      <td>II</td>\n",
              "      <td>Yes</td>\n",
              "      <td>No</td>\n",
              "      <td>TN</td>\n",
              "    </tr>\n",
              "    <tr>\n",
              "      <th>826304</th>\n",
              "      <td>Rejected</td>\n",
              "      <td>Computer and Information Systems Managers</td>\n",
              "      <td>Vice President, Engineering</td>\n",
              "      <td>Y</td>\n",
              "      <td>1</td>\n",
              "      <td>1</td>\n",
              "      <td>CompassBeauty, Inc.</td>\n",
              "      <td>81211</td>\n",
              "      <td>136864.0</td>\n",
              "      <td>I</td>\n",
              "      <td>No</td>\n",
              "      <td>No</td>\n",
              "      <td>CA</td>\n",
              "    </tr>\n",
              "  </tbody>\n",
              "</table>\n",
              "<p>720171 rows × 13 columns</p>\n",
              "</div>\n",
              "      <button class=\"colab-df-convert\" onclick=\"convertToInteractive('df-19c6c88a-40c9-4dc7-8223-33e9ee01939e')\"\n",
              "              title=\"Convert this dataframe to an interactive table.\"\n",
              "              style=\"display:none;\">\n",
              "        \n",
              "  <svg xmlns=\"http://www.w3.org/2000/svg\" height=\"24px\"viewBox=\"0 0 24 24\"\n",
              "       width=\"24px\">\n",
              "    <path d=\"M0 0h24v24H0V0z\" fill=\"none\"/>\n",
              "    <path d=\"M18.56 5.44l.94 2.06.94-2.06 2.06-.94-2.06-.94-.94-2.06-.94 2.06-2.06.94zm-11 1L8.5 8.5l.94-2.06 2.06-.94-2.06-.94L8.5 2.5l-.94 2.06-2.06.94zm10 10l.94 2.06.94-2.06 2.06-.94-2.06-.94-.94-2.06-.94 2.06-2.06.94z\"/><path d=\"M17.41 7.96l-1.37-1.37c-.4-.4-.92-.59-1.43-.59-.52 0-1.04.2-1.43.59L10.3 9.45l-7.72 7.72c-.78.78-.78 2.05 0 2.83L4 21.41c.39.39.9.59 1.41.59.51 0 1.02-.2 1.41-.59l7.78-7.78 2.81-2.81c.8-.78.8-2.07 0-2.86zM5.41 20L4 18.59l7.72-7.72 1.47 1.35L5.41 20z\"/>\n",
              "  </svg>\n",
              "      </button>\n",
              "      \n",
              "  <style>\n",
              "    .colab-df-container {\n",
              "      display:flex;\n",
              "      flex-wrap:wrap;\n",
              "      gap: 12px;\n",
              "    }\n",
              "\n",
              "    .colab-df-convert {\n",
              "      background-color: #E8F0FE;\n",
              "      border: none;\n",
              "      border-radius: 50%;\n",
              "      cursor: pointer;\n",
              "      display: none;\n",
              "      fill: #1967D2;\n",
              "      height: 32px;\n",
              "      padding: 0 0 0 0;\n",
              "      width: 32px;\n",
              "    }\n",
              "\n",
              "    .colab-df-convert:hover {\n",
              "      background-color: #E2EBFA;\n",
              "      box-shadow: 0px 1px 2px rgba(60, 64, 67, 0.3), 0px 1px 3px 1px rgba(60, 64, 67, 0.15);\n",
              "      fill: #174EA6;\n",
              "    }\n",
              "\n",
              "    [theme=dark] .colab-df-convert {\n",
              "      background-color: #3B4455;\n",
              "      fill: #D2E3FC;\n",
              "    }\n",
              "\n",
              "    [theme=dark] .colab-df-convert:hover {\n",
              "      background-color: #434B5C;\n",
              "      box-shadow: 0px 1px 3px 1px rgba(0, 0, 0, 0.15);\n",
              "      filter: drop-shadow(0px 1px 2px rgba(0, 0, 0, 0.3));\n",
              "      fill: #FFFFFF;\n",
              "    }\n",
              "  </style>\n",
              "\n",
              "      <script>\n",
              "        const buttonEl =\n",
              "          document.querySelector('#df-19c6c88a-40c9-4dc7-8223-33e9ee01939e button.colab-df-convert');\n",
              "        buttonEl.style.display =\n",
              "          google.colab.kernel.accessAllowed ? 'block' : 'none';\n",
              "\n",
              "        async function convertToInteractive(key) {\n",
              "          const element = document.querySelector('#df-19c6c88a-40c9-4dc7-8223-33e9ee01939e');\n",
              "          const dataTable =\n",
              "            await google.colab.kernel.invokeFunction('convertToInteractive',\n",
              "                                                     [key], {});\n",
              "          if (!dataTable) return;\n",
              "\n",
              "          const docLinkHtml = 'Like what you see? Visit the ' +\n",
              "            '<a target=\"_blank\" href=https://colab.research.google.com/notebooks/data_table.ipynb>data table notebook</a>'\n",
              "            + ' to learn more about interactive tables.';\n",
              "          element.innerHTML = '';\n",
              "          dataTable['output_type'] = 'display_data';\n",
              "          await google.colab.output.renderOutput(dataTable, element);\n",
              "          const docLink = document.createElement('div');\n",
              "          docLink.innerHTML = docLinkHtml;\n",
              "          element.appendChild(docLink);\n",
              "        }\n",
              "      </script>\n",
              "    </div>\n",
              "  </div>\n",
              "  "
            ],
            "text/plain": [
              "       CASE_STATUS                                  SOC_TITLE  \\\n",
              "0         Approved          Software Developers, Applications   \n",
              "1         Approved                       Computer Programmers   \n",
              "2         Approved          Software Developers, Applications   \n",
              "3         Approved                  Computer Systems Analysts   \n",
              "4         Approved                    Database Administrators   \n",
              "...            ...                                        ...   \n",
              "826300    Rejected      Software Developers, Systems Software   \n",
              "826301    Rejected           Business Teachers, Postsecondary   \n",
              "826302    Rejected          Software Developers, Applications   \n",
              "826303    Rejected          Software Developers, Applications   \n",
              "826304    Rejected  Computer and Information Systems Managers   \n",
              "\n",
              "                                 JOB_TITLE FULL_TIME_POSITION  \\\n",
              "0               Senior Technical Architect                  Y   \n",
              "1                     Programmer Analyst\\t                  Y   \n",
              "2                       Software Developer                  Y   \n",
              "3                           JAVA ANALYST 2                  Y   \n",
              "4            SQL DATABASE ADMINISTRATOR II                  Y   \n",
              "...                                    ...                ...   \n",
              "826300                SOFTWARE DEVELOPMENT                  Y   \n",
              "826301  Assistant Professor of Instruction                  Y   \n",
              "826302                    Engineering Lead                  Y   \n",
              "826303                    Engineering Lead                  Y   \n",
              "826304         Vice President, Engineering                  Y   \n",
              "\n",
              "        TOTAL_WORKER_POSITIONS  NEW_EMPLOYMENT  \\\n",
              "0                            1               0   \n",
              "1                            1               0   \n",
              "2                            6               1   \n",
              "3                            1               0   \n",
              "4                            1               0   \n",
              "...                        ...             ...   \n",
              "826300                       1               1   \n",
              "826301                       1               1   \n",
              "826302                       1               0   \n",
              "826303                       1               0   \n",
              "826304                       1               1   \n",
              "\n",
              "                            EMPLOYER_NAME  NAICS_CODE  PREVAILING_WAGE  \\\n",
              "0              Hexaware Technologies Inc.      541512          97406.0   \n",
              "1                           WIPRO LIMITED      541511          84510.0   \n",
              "2          Mastech Digital InfoTech, Inc.      541511          70678.0   \n",
              "3                     VIRTUSA CORPORATION      541511          81453.0   \n",
              "4                          XTGLOBAL, INC.      541511          91146.0   \n",
              "...                                   ...         ...              ...   \n",
              "826300          ESCOBEDO CONSTRUCTION, LP       23611          72384.0   \n",
              "826301  The University of Texas at Dallas        6113          18340.0   \n",
              "826302                   NIC INFO TEK INC      541511          80330.0   \n",
              "826303                   NIC INFO TEK INC      541511          80330.0   \n",
              "826304                CompassBeauty, Inc.       81211         136864.0   \n",
              "\n",
              "       PW_WAGE_LEVEL H1B_DEPENDENT WILLFUL_VIOLATOR WORKSITE_STATE  \n",
              "0                 II             Y                N             VA  \n",
              "1                 II             Y                N             TX  \n",
              "2                 II             Y                N             OH  \n",
              "3                 II             Y                N             CT  \n",
              "4                 II             Y                N             TX  \n",
              "...              ...           ...              ...            ...  \n",
              "826300             I            No               No             TX  \n",
              "826301             I            No               No             TX  \n",
              "826302            II           Yes               No             TN  \n",
              "826303            II           Yes               No             TN  \n",
              "826304             I            No               No             CA  \n",
              "\n",
              "[720171 rows x 13 columns]"
            ]
          },
          "execution_count": 264,
          "metadata": {},
          "output_type": "execute_result"
        }
      ],
      "source": [
        "New_Final_Visaapproval_H1Bdata_Q1toQ4['PREVAILING_WAGE'] = New_Final_Visaapproval_H1Bdata_Q1toQ4['PREVAILING_WAGE'].str. replace ('$','') \n",
        "New_Final_Visaapproval_H1Bdata_Q1toQ4['PREVAILING_WAGE'] = New_Final_Visaapproval_H1Bdata_Q1toQ4['PREVAILING_WAGE'].str. replace (',','') \n",
        "New_Final_Visaapproval_H1Bdata_Q1toQ4['PREVAILING_WAGE'] = New_Final_Visaapproval_H1Bdata_Q1toQ4['PREVAILING_WAGE'].astype(float) \n",
        "\n",
        "New_Final_Visaapproval_H1Bdata_Q1toQ4"
      ]
    },
    {
      "cell_type": "markdown",
      "metadata": {
        "id": "bk02rUWbVG65"
      },
      "source": [
        "Checking if the column prevailing wage got changed from a object data type to float."
      ]
    },
    {
      "cell_type": "code",
      "execution_count": null,
      "metadata": {
        "colab": {
          "base_uri": "https://localhost:8080/"
        },
        "id": "1j7GGBupv9hZ",
        "outputId": "418b22af-0a3c-49e2-d3e0-d1114c4d377c"
      },
      "outputs": [
        {
          "data": {
            "text/plain": [
              "CASE_STATUS                object\n",
              "SOC_TITLE                  object\n",
              "JOB_TITLE                  object\n",
              "FULL_TIME_POSITION         object\n",
              "TOTAL_WORKER_POSITIONS      int64\n",
              "NEW_EMPLOYMENT              int64\n",
              "EMPLOYER_NAME              object\n",
              "NAICS_CODE                  int64\n",
              "PREVAILING_WAGE           float64\n",
              "PW_WAGE_LEVEL              object\n",
              "H1B_DEPENDENT              object\n",
              "WILLFUL_VIOLATOR           object\n",
              "WORKSITE_STATE             object\n",
              "dtype: object"
            ]
          },
          "execution_count": 265,
          "metadata": {},
          "output_type": "execute_result"
        }
      ],
      "source": [
        "New_Final_Visaapproval_H1Bdata_Q1toQ4.dtypes"
      ]
    },
    {
      "cell_type": "markdown",
      "metadata": {
        "id": "QyxP0ID4VSnO"
      },
      "source": [
        "Next, Lets see employer_name value counts"
      ]
    },
    {
      "cell_type": "code",
      "execution_count": null,
      "metadata": {
        "colab": {
          "base_uri": "https://localhost:8080/"
        },
        "id": "mjRi90SvwAJF",
        "outputId": "30a0b0f3-4498-42ea-fff0-543573938485"
      },
      "outputs": [
        {
          "data": {
            "text/plain": [
              "COGNIZANT TECHNOLOGY SOLUTIONS US CORP    17919\n",
              "Google LLC                                13531\n",
              "Microsoft Corporation                     11369\n",
              "TATA CONSULTANCY SERVICES LIMITED          8790\n",
              "INFOSYS LIMITED                            8021\n",
              "                                          ...  \n",
              "SECUNETICS INC                                1\n",
              "Rockport VAL, LLC                             1\n",
              "COMPASS MINERALS AMERICA INC.                 1\n",
              "Tektroop LLC                                  1\n",
              "Signature Diagnostics, Inc                    1\n",
              "Name: EMPLOYER_NAME, Length: 57136, dtype: int64"
            ]
          },
          "execution_count": 266,
          "metadata": {},
          "output_type": "execute_result"
        }
      ],
      "source": [
        "New_Final_Visaapproval_H1Bdata_Q1toQ4['EMPLOYER_NAME'].value_counts()"
      ]
    },
    {
      "cell_type": "markdown",
      "metadata": {
        "id": "_ItF2_t1Vbpx"
      },
      "source": [
        "We can see that there are various employer names which are similar and we can group them as one if same or based on university and coorporate for easier classification of data."
      ]
    },
    {
      "cell_type": "code",
      "execution_count": null,
      "metadata": {
        "id": "XGz6tK2ewoT-"
      },
      "outputs": [],
      "source": [
        "#As all the names are in various cases we change them to either upper case or lower case, i changed it to upper case.\n",
        "New_Final_Visaapproval_H1Bdata_Q1toQ4['EMPLOYER_NAME']= New_Final_Visaapproval_H1Bdata_Q1toQ4['EMPLOYER_NAME'].str.upper()"
      ]
    },
    {
      "cell_type": "code",
      "execution_count": null,
      "metadata": {
        "colab": {
          "base_uri": "https://localhost:8080/",
          "height": 852
        },
        "id": "UXMfjTw0xhad",
        "outputId": "af8b788b-3f86-4504-854d-414e26b21bee"
      },
      "outputs": [
        {
          "data": {
            "text/html": [
              "\n",
              "  <div id=\"df-13acd939-f24e-4973-a206-1f9c48b02a7c\">\n",
              "    <div class=\"colab-df-container\">\n",
              "      <div>\n",
              "<style scoped>\n",
              "    .dataframe tbody tr th:only-of-type {\n",
              "        vertical-align: middle;\n",
              "    }\n",
              "\n",
              "    .dataframe tbody tr th {\n",
              "        vertical-align: top;\n",
              "    }\n",
              "\n",
              "    .dataframe thead th {\n",
              "        text-align: right;\n",
              "    }\n",
              "</style>\n",
              "<table border=\"1\" class=\"dataframe\">\n",
              "  <thead>\n",
              "    <tr style=\"text-align: right;\">\n",
              "      <th></th>\n",
              "      <th>CASE_STATUS</th>\n",
              "      <th>SOC_TITLE</th>\n",
              "      <th>JOB_TITLE</th>\n",
              "      <th>FULL_TIME_POSITION</th>\n",
              "      <th>TOTAL_WORKER_POSITIONS</th>\n",
              "      <th>NEW_EMPLOYMENT</th>\n",
              "      <th>EMPLOYER_NAME</th>\n",
              "      <th>NAICS_CODE</th>\n",
              "      <th>PREVAILING_WAGE</th>\n",
              "      <th>PW_WAGE_LEVEL</th>\n",
              "      <th>H1B_DEPENDENT</th>\n",
              "      <th>WILLFUL_VIOLATOR</th>\n",
              "      <th>WORKSITE_STATE</th>\n",
              "    </tr>\n",
              "  </thead>\n",
              "  <tbody>\n",
              "    <tr>\n",
              "      <th>0</th>\n",
              "      <td>Approved</td>\n",
              "      <td>Software Developers, Applications</td>\n",
              "      <td>Senior Technical Architect</td>\n",
              "      <td>Y</td>\n",
              "      <td>1</td>\n",
              "      <td>0</td>\n",
              "      <td>HEXAWARE TECHNOLOGIES INC.</td>\n",
              "      <td>541512</td>\n",
              "      <td>97406.0</td>\n",
              "      <td>II</td>\n",
              "      <td>Y</td>\n",
              "      <td>N</td>\n",
              "      <td>VA</td>\n",
              "    </tr>\n",
              "    <tr>\n",
              "      <th>1</th>\n",
              "      <td>Approved</td>\n",
              "      <td>Computer Programmers</td>\n",
              "      <td>Programmer Analyst\\t</td>\n",
              "      <td>Y</td>\n",
              "      <td>1</td>\n",
              "      <td>0</td>\n",
              "      <td>WIPRO LIMITED</td>\n",
              "      <td>541511</td>\n",
              "      <td>84510.0</td>\n",
              "      <td>II</td>\n",
              "      <td>Y</td>\n",
              "      <td>N</td>\n",
              "      <td>TX</td>\n",
              "    </tr>\n",
              "    <tr>\n",
              "      <th>2</th>\n",
              "      <td>Approved</td>\n",
              "      <td>Software Developers, Applications</td>\n",
              "      <td>Software Developer</td>\n",
              "      <td>Y</td>\n",
              "      <td>6</td>\n",
              "      <td>1</td>\n",
              "      <td>MASTECH DIGITAL INFOTECH, INC.</td>\n",
              "      <td>541511</td>\n",
              "      <td>70678.0</td>\n",
              "      <td>II</td>\n",
              "      <td>Y</td>\n",
              "      <td>N</td>\n",
              "      <td>OH</td>\n",
              "    </tr>\n",
              "    <tr>\n",
              "      <th>3</th>\n",
              "      <td>Approved</td>\n",
              "      <td>Computer Systems Analysts</td>\n",
              "      <td>JAVA ANALYST 2</td>\n",
              "      <td>Y</td>\n",
              "      <td>1</td>\n",
              "      <td>0</td>\n",
              "      <td>VIRTUSA CORPORATION</td>\n",
              "      <td>541511</td>\n",
              "      <td>81453.0</td>\n",
              "      <td>II</td>\n",
              "      <td>Y</td>\n",
              "      <td>N</td>\n",
              "      <td>CT</td>\n",
              "    </tr>\n",
              "    <tr>\n",
              "      <th>4</th>\n",
              "      <td>Approved</td>\n",
              "      <td>Database Administrators</td>\n",
              "      <td>SQL DATABASE ADMINISTRATOR II</td>\n",
              "      <td>Y</td>\n",
              "      <td>1</td>\n",
              "      <td>0</td>\n",
              "      <td>XTGLOBAL, INC.</td>\n",
              "      <td>541511</td>\n",
              "      <td>91146.0</td>\n",
              "      <td>II</td>\n",
              "      <td>Y</td>\n",
              "      <td>N</td>\n",
              "      <td>TX</td>\n",
              "    </tr>\n",
              "    <tr>\n",
              "      <th>...</th>\n",
              "      <td>...</td>\n",
              "      <td>...</td>\n",
              "      <td>...</td>\n",
              "      <td>...</td>\n",
              "      <td>...</td>\n",
              "      <td>...</td>\n",
              "      <td>...</td>\n",
              "      <td>...</td>\n",
              "      <td>...</td>\n",
              "      <td>...</td>\n",
              "      <td>...</td>\n",
              "      <td>...</td>\n",
              "      <td>...</td>\n",
              "    </tr>\n",
              "    <tr>\n",
              "      <th>826300</th>\n",
              "      <td>Rejected</td>\n",
              "      <td>Software Developers, Systems Software</td>\n",
              "      <td>SOFTWARE DEVELOPMENT</td>\n",
              "      <td>Y</td>\n",
              "      <td>1</td>\n",
              "      <td>1</td>\n",
              "      <td>ESCOBEDO CONSTRUCTION, LP</td>\n",
              "      <td>23611</td>\n",
              "      <td>72384.0</td>\n",
              "      <td>I</td>\n",
              "      <td>No</td>\n",
              "      <td>No</td>\n",
              "      <td>TX</td>\n",
              "    </tr>\n",
              "    <tr>\n",
              "      <th>826301</th>\n",
              "      <td>Rejected</td>\n",
              "      <td>Business Teachers, Postsecondary</td>\n",
              "      <td>Assistant Professor of Instruction</td>\n",
              "      <td>Y</td>\n",
              "      <td>1</td>\n",
              "      <td>1</td>\n",
              "      <td>THE UNIVERSITY OF TEXAS AT DALLAS</td>\n",
              "      <td>6113</td>\n",
              "      <td>18340.0</td>\n",
              "      <td>I</td>\n",
              "      <td>No</td>\n",
              "      <td>No</td>\n",
              "      <td>TX</td>\n",
              "    </tr>\n",
              "    <tr>\n",
              "      <th>826302</th>\n",
              "      <td>Rejected</td>\n",
              "      <td>Software Developers, Applications</td>\n",
              "      <td>Engineering Lead</td>\n",
              "      <td>Y</td>\n",
              "      <td>1</td>\n",
              "      <td>0</td>\n",
              "      <td>NIC INFO TEK INC</td>\n",
              "      <td>541511</td>\n",
              "      <td>80330.0</td>\n",
              "      <td>II</td>\n",
              "      <td>Yes</td>\n",
              "      <td>No</td>\n",
              "      <td>TN</td>\n",
              "    </tr>\n",
              "    <tr>\n",
              "      <th>826303</th>\n",
              "      <td>Rejected</td>\n",
              "      <td>Software Developers, Applications</td>\n",
              "      <td>Engineering Lead</td>\n",
              "      <td>Y</td>\n",
              "      <td>1</td>\n",
              "      <td>0</td>\n",
              "      <td>NIC INFO TEK INC</td>\n",
              "      <td>541511</td>\n",
              "      <td>80330.0</td>\n",
              "      <td>II</td>\n",
              "      <td>Yes</td>\n",
              "      <td>No</td>\n",
              "      <td>TN</td>\n",
              "    </tr>\n",
              "    <tr>\n",
              "      <th>826304</th>\n",
              "      <td>Rejected</td>\n",
              "      <td>Computer and Information Systems Managers</td>\n",
              "      <td>Vice President, Engineering</td>\n",
              "      <td>Y</td>\n",
              "      <td>1</td>\n",
              "      <td>1</td>\n",
              "      <td>COMPASSBEAUTY, INC.</td>\n",
              "      <td>81211</td>\n",
              "      <td>136864.0</td>\n",
              "      <td>I</td>\n",
              "      <td>No</td>\n",
              "      <td>No</td>\n",
              "      <td>CA</td>\n",
              "    </tr>\n",
              "  </tbody>\n",
              "</table>\n",
              "<p>720171 rows × 13 columns</p>\n",
              "</div>\n",
              "      <button class=\"colab-df-convert\" onclick=\"convertToInteractive('df-13acd939-f24e-4973-a206-1f9c48b02a7c')\"\n",
              "              title=\"Convert this dataframe to an interactive table.\"\n",
              "              style=\"display:none;\">\n",
              "        \n",
              "  <svg xmlns=\"http://www.w3.org/2000/svg\" height=\"24px\"viewBox=\"0 0 24 24\"\n",
              "       width=\"24px\">\n",
              "    <path d=\"M0 0h24v24H0V0z\" fill=\"none\"/>\n",
              "    <path d=\"M18.56 5.44l.94 2.06.94-2.06 2.06-.94-2.06-.94-.94-2.06-.94 2.06-2.06.94zm-11 1L8.5 8.5l.94-2.06 2.06-.94-2.06-.94L8.5 2.5l-.94 2.06-2.06.94zm10 10l.94 2.06.94-2.06 2.06-.94-2.06-.94-.94-2.06-.94 2.06-2.06.94z\"/><path d=\"M17.41 7.96l-1.37-1.37c-.4-.4-.92-.59-1.43-.59-.52 0-1.04.2-1.43.59L10.3 9.45l-7.72 7.72c-.78.78-.78 2.05 0 2.83L4 21.41c.39.39.9.59 1.41.59.51 0 1.02-.2 1.41-.59l7.78-7.78 2.81-2.81c.8-.78.8-2.07 0-2.86zM5.41 20L4 18.59l7.72-7.72 1.47 1.35L5.41 20z\"/>\n",
              "  </svg>\n",
              "      </button>\n",
              "      \n",
              "  <style>\n",
              "    .colab-df-container {\n",
              "      display:flex;\n",
              "      flex-wrap:wrap;\n",
              "      gap: 12px;\n",
              "    }\n",
              "\n",
              "    .colab-df-convert {\n",
              "      background-color: #E8F0FE;\n",
              "      border: none;\n",
              "      border-radius: 50%;\n",
              "      cursor: pointer;\n",
              "      display: none;\n",
              "      fill: #1967D2;\n",
              "      height: 32px;\n",
              "      padding: 0 0 0 0;\n",
              "      width: 32px;\n",
              "    }\n",
              "\n",
              "    .colab-df-convert:hover {\n",
              "      background-color: #E2EBFA;\n",
              "      box-shadow: 0px 1px 2px rgba(60, 64, 67, 0.3), 0px 1px 3px 1px rgba(60, 64, 67, 0.15);\n",
              "      fill: #174EA6;\n",
              "    }\n",
              "\n",
              "    [theme=dark] .colab-df-convert {\n",
              "      background-color: #3B4455;\n",
              "      fill: #D2E3FC;\n",
              "    }\n",
              "\n",
              "    [theme=dark] .colab-df-convert:hover {\n",
              "      background-color: #434B5C;\n",
              "      box-shadow: 0px 1px 3px 1px rgba(0, 0, 0, 0.15);\n",
              "      filter: drop-shadow(0px 1px 2px rgba(0, 0, 0, 0.3));\n",
              "      fill: #FFFFFF;\n",
              "    }\n",
              "  </style>\n",
              "\n",
              "      <script>\n",
              "        const buttonEl =\n",
              "          document.querySelector('#df-13acd939-f24e-4973-a206-1f9c48b02a7c button.colab-df-convert');\n",
              "        buttonEl.style.display =\n",
              "          google.colab.kernel.accessAllowed ? 'block' : 'none';\n",
              "\n",
              "        async function convertToInteractive(key) {\n",
              "          const element = document.querySelector('#df-13acd939-f24e-4973-a206-1f9c48b02a7c');\n",
              "          const dataTable =\n",
              "            await google.colab.kernel.invokeFunction('convertToInteractive',\n",
              "                                                     [key], {});\n",
              "          if (!dataTable) return;\n",
              "\n",
              "          const docLinkHtml = 'Like what you see? Visit the ' +\n",
              "            '<a target=\"_blank\" href=https://colab.research.google.com/notebooks/data_table.ipynb>data table notebook</a>'\n",
              "            + ' to learn more about interactive tables.';\n",
              "          element.innerHTML = '';\n",
              "          dataTable['output_type'] = 'display_data';\n",
              "          await google.colab.output.renderOutput(dataTable, element);\n",
              "          const docLink = document.createElement('div');\n",
              "          docLink.innerHTML = docLinkHtml;\n",
              "          element.appendChild(docLink);\n",
              "        }\n",
              "      </script>\n",
              "    </div>\n",
              "  </div>\n",
              "  "
            ],
            "text/plain": [
              "       CASE_STATUS                                  SOC_TITLE  \\\n",
              "0         Approved          Software Developers, Applications   \n",
              "1         Approved                       Computer Programmers   \n",
              "2         Approved          Software Developers, Applications   \n",
              "3         Approved                  Computer Systems Analysts   \n",
              "4         Approved                    Database Administrators   \n",
              "...            ...                                        ...   \n",
              "826300    Rejected      Software Developers, Systems Software   \n",
              "826301    Rejected           Business Teachers, Postsecondary   \n",
              "826302    Rejected          Software Developers, Applications   \n",
              "826303    Rejected          Software Developers, Applications   \n",
              "826304    Rejected  Computer and Information Systems Managers   \n",
              "\n",
              "                                 JOB_TITLE FULL_TIME_POSITION  \\\n",
              "0               Senior Technical Architect                  Y   \n",
              "1                     Programmer Analyst\\t                  Y   \n",
              "2                       Software Developer                  Y   \n",
              "3                           JAVA ANALYST 2                  Y   \n",
              "4            SQL DATABASE ADMINISTRATOR II                  Y   \n",
              "...                                    ...                ...   \n",
              "826300                SOFTWARE DEVELOPMENT                  Y   \n",
              "826301  Assistant Professor of Instruction                  Y   \n",
              "826302                    Engineering Lead                  Y   \n",
              "826303                    Engineering Lead                  Y   \n",
              "826304         Vice President, Engineering                  Y   \n",
              "\n",
              "        TOTAL_WORKER_POSITIONS  NEW_EMPLOYMENT  \\\n",
              "0                            1               0   \n",
              "1                            1               0   \n",
              "2                            6               1   \n",
              "3                            1               0   \n",
              "4                            1               0   \n",
              "...                        ...             ...   \n",
              "826300                       1               1   \n",
              "826301                       1               1   \n",
              "826302                       1               0   \n",
              "826303                       1               0   \n",
              "826304                       1               1   \n",
              "\n",
              "                            EMPLOYER_NAME  NAICS_CODE  PREVAILING_WAGE  \\\n",
              "0              HEXAWARE TECHNOLOGIES INC.      541512          97406.0   \n",
              "1                           WIPRO LIMITED      541511          84510.0   \n",
              "2          MASTECH DIGITAL INFOTECH, INC.      541511          70678.0   \n",
              "3                     VIRTUSA CORPORATION      541511          81453.0   \n",
              "4                          XTGLOBAL, INC.      541511          91146.0   \n",
              "...                                   ...         ...              ...   \n",
              "826300          ESCOBEDO CONSTRUCTION, LP       23611          72384.0   \n",
              "826301  THE UNIVERSITY OF TEXAS AT DALLAS        6113          18340.0   \n",
              "826302                   NIC INFO TEK INC      541511          80330.0   \n",
              "826303                   NIC INFO TEK INC      541511          80330.0   \n",
              "826304                COMPASSBEAUTY, INC.       81211         136864.0   \n",
              "\n",
              "       PW_WAGE_LEVEL H1B_DEPENDENT WILLFUL_VIOLATOR WORKSITE_STATE  \n",
              "0                 II             Y                N             VA  \n",
              "1                 II             Y                N             TX  \n",
              "2                 II             Y                N             OH  \n",
              "3                 II             Y                N             CT  \n",
              "4                 II             Y                N             TX  \n",
              "...              ...           ...              ...            ...  \n",
              "826300             I            No               No             TX  \n",
              "826301             I            No               No             TX  \n",
              "826302            II           Yes               No             TN  \n",
              "826303            II           Yes               No             TN  \n",
              "826304             I            No               No             CA  \n",
              "\n",
              "[720171 rows x 13 columns]"
            ]
          },
          "execution_count": 268,
          "metadata": {},
          "output_type": "execute_result"
        }
      ],
      "source": [
        "#Lets see how many are university or coorporate applying for h1b\n",
        "\n",
        "New_Final_Visaapproval_H1Bdata_Q1toQ4"
      ]
    },
    {
      "cell_type": "markdown",
      "metadata": {
        "id": "_nu_mL1GWKrC"
      },
      "source": [
        "#Based on the below we can replace the value if the string consists of university with university and if otherwise then coorporate"
      ]
    },
    {
      "cell_type": "code",
      "execution_count": null,
      "metadata": {
        "colab": {
          "base_uri": "https://localhost:8080/"
        },
        "id": "9VmjJcC2y3kl",
        "outputId": "4fbb8c6a-f64e-443b-e1ab-eec70c5be5c7"
      },
      "outputs": [
        {
          "data": {
            "text/plain": [
              "EMPLOYER_NAME  CASE_STATUS\n",
              "Coorporate     Approved       0.977775\n",
              "               Rejected       0.022225\n",
              "University     Approved       0.971969\n",
              "               Rejected       0.028031\n",
              "Name: CASE_STATUS, dtype: float64"
            ]
          },
          "execution_count": 269,
          "metadata": {},
          "output_type": "execute_result"
        }
      ],
      "source": [
        "employer_holder = New_Final_Visaapproval_H1Bdata_Q1toQ4['EMPLOYER_NAME']\n",
        "\n",
        "New_Final_Visaapproval_H1Bdata_Q1toQ4['EMPLOYER_NAME'] = New_Final_Visaapproval_H1Bdata_Q1toQ4['EMPLOYER_NAME'].apply(lambda x : 'University' if 'UNIVERSITY' in x else 'Coorporate')\n",
        "\n",
        "New_Final_Visaapproval_H1Bdata_Q1toQ4['EMPLOYER_NAME'].value_counts()\n",
        "\n",
        "New_Final_Visaapproval_H1Bdata_Q1toQ4.groupby('EMPLOYER_NAME')['CASE_STATUS'].value_counts(normalize=True)"
      ]
    },
    {
      "cell_type": "markdown",
      "metadata": {
        "id": "4HiHbHQqXZFp"
      },
      "source": [
        "Looking at the final values of employer"
      ]
    },
    {
      "cell_type": "code",
      "execution_count": null,
      "metadata": {
        "colab": {
          "base_uri": "https://localhost:8080/",
          "height": 852
        },
        "id": "QIfw4RZe0Nmy",
        "outputId": "32df1663-e078-476c-c146-9b77660d0057"
      },
      "outputs": [
        {
          "data": {
            "text/html": [
              "\n",
              "  <div id=\"df-a18712dc-f1af-4115-9472-6776d8b5a32d\">\n",
              "    <div class=\"colab-df-container\">\n",
              "      <div>\n",
              "<style scoped>\n",
              "    .dataframe tbody tr th:only-of-type {\n",
              "        vertical-align: middle;\n",
              "    }\n",
              "\n",
              "    .dataframe tbody tr th {\n",
              "        vertical-align: top;\n",
              "    }\n",
              "\n",
              "    .dataframe thead th {\n",
              "        text-align: right;\n",
              "    }\n",
              "</style>\n",
              "<table border=\"1\" class=\"dataframe\">\n",
              "  <thead>\n",
              "    <tr style=\"text-align: right;\">\n",
              "      <th></th>\n",
              "      <th>CASE_STATUS</th>\n",
              "      <th>SOC_TITLE</th>\n",
              "      <th>JOB_TITLE</th>\n",
              "      <th>FULL_TIME_POSITION</th>\n",
              "      <th>TOTAL_WORKER_POSITIONS</th>\n",
              "      <th>NEW_EMPLOYMENT</th>\n",
              "      <th>EMPLOYER_NAME</th>\n",
              "      <th>NAICS_CODE</th>\n",
              "      <th>PREVAILING_WAGE</th>\n",
              "      <th>PW_WAGE_LEVEL</th>\n",
              "      <th>H1B_DEPENDENT</th>\n",
              "      <th>WILLFUL_VIOLATOR</th>\n",
              "      <th>WORKSITE_STATE</th>\n",
              "    </tr>\n",
              "  </thead>\n",
              "  <tbody>\n",
              "    <tr>\n",
              "      <th>0</th>\n",
              "      <td>Approved</td>\n",
              "      <td>Software Developers, Applications</td>\n",
              "      <td>Senior Technical Architect</td>\n",
              "      <td>Y</td>\n",
              "      <td>1</td>\n",
              "      <td>0</td>\n",
              "      <td>Coorporate</td>\n",
              "      <td>541512</td>\n",
              "      <td>97406.0</td>\n",
              "      <td>II</td>\n",
              "      <td>Y</td>\n",
              "      <td>N</td>\n",
              "      <td>VA</td>\n",
              "    </tr>\n",
              "    <tr>\n",
              "      <th>1</th>\n",
              "      <td>Approved</td>\n",
              "      <td>Computer Programmers</td>\n",
              "      <td>Programmer Analyst\\t</td>\n",
              "      <td>Y</td>\n",
              "      <td>1</td>\n",
              "      <td>0</td>\n",
              "      <td>Coorporate</td>\n",
              "      <td>541511</td>\n",
              "      <td>84510.0</td>\n",
              "      <td>II</td>\n",
              "      <td>Y</td>\n",
              "      <td>N</td>\n",
              "      <td>TX</td>\n",
              "    </tr>\n",
              "    <tr>\n",
              "      <th>2</th>\n",
              "      <td>Approved</td>\n",
              "      <td>Software Developers, Applications</td>\n",
              "      <td>Software Developer</td>\n",
              "      <td>Y</td>\n",
              "      <td>6</td>\n",
              "      <td>1</td>\n",
              "      <td>Coorporate</td>\n",
              "      <td>541511</td>\n",
              "      <td>70678.0</td>\n",
              "      <td>II</td>\n",
              "      <td>Y</td>\n",
              "      <td>N</td>\n",
              "      <td>OH</td>\n",
              "    </tr>\n",
              "    <tr>\n",
              "      <th>3</th>\n",
              "      <td>Approved</td>\n",
              "      <td>Computer Systems Analysts</td>\n",
              "      <td>JAVA ANALYST 2</td>\n",
              "      <td>Y</td>\n",
              "      <td>1</td>\n",
              "      <td>0</td>\n",
              "      <td>Coorporate</td>\n",
              "      <td>541511</td>\n",
              "      <td>81453.0</td>\n",
              "      <td>II</td>\n",
              "      <td>Y</td>\n",
              "      <td>N</td>\n",
              "      <td>CT</td>\n",
              "    </tr>\n",
              "    <tr>\n",
              "      <th>4</th>\n",
              "      <td>Approved</td>\n",
              "      <td>Database Administrators</td>\n",
              "      <td>SQL DATABASE ADMINISTRATOR II</td>\n",
              "      <td>Y</td>\n",
              "      <td>1</td>\n",
              "      <td>0</td>\n",
              "      <td>Coorporate</td>\n",
              "      <td>541511</td>\n",
              "      <td>91146.0</td>\n",
              "      <td>II</td>\n",
              "      <td>Y</td>\n",
              "      <td>N</td>\n",
              "      <td>TX</td>\n",
              "    </tr>\n",
              "    <tr>\n",
              "      <th>...</th>\n",
              "      <td>...</td>\n",
              "      <td>...</td>\n",
              "      <td>...</td>\n",
              "      <td>...</td>\n",
              "      <td>...</td>\n",
              "      <td>...</td>\n",
              "      <td>...</td>\n",
              "      <td>...</td>\n",
              "      <td>...</td>\n",
              "      <td>...</td>\n",
              "      <td>...</td>\n",
              "      <td>...</td>\n",
              "      <td>...</td>\n",
              "    </tr>\n",
              "    <tr>\n",
              "      <th>826300</th>\n",
              "      <td>Rejected</td>\n",
              "      <td>Software Developers, Systems Software</td>\n",
              "      <td>SOFTWARE DEVELOPMENT</td>\n",
              "      <td>Y</td>\n",
              "      <td>1</td>\n",
              "      <td>1</td>\n",
              "      <td>Coorporate</td>\n",
              "      <td>23611</td>\n",
              "      <td>72384.0</td>\n",
              "      <td>I</td>\n",
              "      <td>No</td>\n",
              "      <td>No</td>\n",
              "      <td>TX</td>\n",
              "    </tr>\n",
              "    <tr>\n",
              "      <th>826301</th>\n",
              "      <td>Rejected</td>\n",
              "      <td>Business Teachers, Postsecondary</td>\n",
              "      <td>Assistant Professor of Instruction</td>\n",
              "      <td>Y</td>\n",
              "      <td>1</td>\n",
              "      <td>1</td>\n",
              "      <td>University</td>\n",
              "      <td>6113</td>\n",
              "      <td>18340.0</td>\n",
              "      <td>I</td>\n",
              "      <td>No</td>\n",
              "      <td>No</td>\n",
              "      <td>TX</td>\n",
              "    </tr>\n",
              "    <tr>\n",
              "      <th>826302</th>\n",
              "      <td>Rejected</td>\n",
              "      <td>Software Developers, Applications</td>\n",
              "      <td>Engineering Lead</td>\n",
              "      <td>Y</td>\n",
              "      <td>1</td>\n",
              "      <td>0</td>\n",
              "      <td>Coorporate</td>\n",
              "      <td>541511</td>\n",
              "      <td>80330.0</td>\n",
              "      <td>II</td>\n",
              "      <td>Yes</td>\n",
              "      <td>No</td>\n",
              "      <td>TN</td>\n",
              "    </tr>\n",
              "    <tr>\n",
              "      <th>826303</th>\n",
              "      <td>Rejected</td>\n",
              "      <td>Software Developers, Applications</td>\n",
              "      <td>Engineering Lead</td>\n",
              "      <td>Y</td>\n",
              "      <td>1</td>\n",
              "      <td>0</td>\n",
              "      <td>Coorporate</td>\n",
              "      <td>541511</td>\n",
              "      <td>80330.0</td>\n",
              "      <td>II</td>\n",
              "      <td>Yes</td>\n",
              "      <td>No</td>\n",
              "      <td>TN</td>\n",
              "    </tr>\n",
              "    <tr>\n",
              "      <th>826304</th>\n",
              "      <td>Rejected</td>\n",
              "      <td>Computer and Information Systems Managers</td>\n",
              "      <td>Vice President, Engineering</td>\n",
              "      <td>Y</td>\n",
              "      <td>1</td>\n",
              "      <td>1</td>\n",
              "      <td>Coorporate</td>\n",
              "      <td>81211</td>\n",
              "      <td>136864.0</td>\n",
              "      <td>I</td>\n",
              "      <td>No</td>\n",
              "      <td>No</td>\n",
              "      <td>CA</td>\n",
              "    </tr>\n",
              "  </tbody>\n",
              "</table>\n",
              "<p>720171 rows × 13 columns</p>\n",
              "</div>\n",
              "      <button class=\"colab-df-convert\" onclick=\"convertToInteractive('df-a18712dc-f1af-4115-9472-6776d8b5a32d')\"\n",
              "              title=\"Convert this dataframe to an interactive table.\"\n",
              "              style=\"display:none;\">\n",
              "        \n",
              "  <svg xmlns=\"http://www.w3.org/2000/svg\" height=\"24px\"viewBox=\"0 0 24 24\"\n",
              "       width=\"24px\">\n",
              "    <path d=\"M0 0h24v24H0V0z\" fill=\"none\"/>\n",
              "    <path d=\"M18.56 5.44l.94 2.06.94-2.06 2.06-.94-2.06-.94-.94-2.06-.94 2.06-2.06.94zm-11 1L8.5 8.5l.94-2.06 2.06-.94-2.06-.94L8.5 2.5l-.94 2.06-2.06.94zm10 10l.94 2.06.94-2.06 2.06-.94-2.06-.94-.94-2.06-.94 2.06-2.06.94z\"/><path d=\"M17.41 7.96l-1.37-1.37c-.4-.4-.92-.59-1.43-.59-.52 0-1.04.2-1.43.59L10.3 9.45l-7.72 7.72c-.78.78-.78 2.05 0 2.83L4 21.41c.39.39.9.59 1.41.59.51 0 1.02-.2 1.41-.59l7.78-7.78 2.81-2.81c.8-.78.8-2.07 0-2.86zM5.41 20L4 18.59l7.72-7.72 1.47 1.35L5.41 20z\"/>\n",
              "  </svg>\n",
              "      </button>\n",
              "      \n",
              "  <style>\n",
              "    .colab-df-container {\n",
              "      display:flex;\n",
              "      flex-wrap:wrap;\n",
              "      gap: 12px;\n",
              "    }\n",
              "\n",
              "    .colab-df-convert {\n",
              "      background-color: #E8F0FE;\n",
              "      border: none;\n",
              "      border-radius: 50%;\n",
              "      cursor: pointer;\n",
              "      display: none;\n",
              "      fill: #1967D2;\n",
              "      height: 32px;\n",
              "      padding: 0 0 0 0;\n",
              "      width: 32px;\n",
              "    }\n",
              "\n",
              "    .colab-df-convert:hover {\n",
              "      background-color: #E2EBFA;\n",
              "      box-shadow: 0px 1px 2px rgba(60, 64, 67, 0.3), 0px 1px 3px 1px rgba(60, 64, 67, 0.15);\n",
              "      fill: #174EA6;\n",
              "    }\n",
              "\n",
              "    [theme=dark] .colab-df-convert {\n",
              "      background-color: #3B4455;\n",
              "      fill: #D2E3FC;\n",
              "    }\n",
              "\n",
              "    [theme=dark] .colab-df-convert:hover {\n",
              "      background-color: #434B5C;\n",
              "      box-shadow: 0px 1px 3px 1px rgba(0, 0, 0, 0.15);\n",
              "      filter: drop-shadow(0px 1px 2px rgba(0, 0, 0, 0.3));\n",
              "      fill: #FFFFFF;\n",
              "    }\n",
              "  </style>\n",
              "\n",
              "      <script>\n",
              "        const buttonEl =\n",
              "          document.querySelector('#df-a18712dc-f1af-4115-9472-6776d8b5a32d button.colab-df-convert');\n",
              "        buttonEl.style.display =\n",
              "          google.colab.kernel.accessAllowed ? 'block' : 'none';\n",
              "\n",
              "        async function convertToInteractive(key) {\n",
              "          const element = document.querySelector('#df-a18712dc-f1af-4115-9472-6776d8b5a32d');\n",
              "          const dataTable =\n",
              "            await google.colab.kernel.invokeFunction('convertToInteractive',\n",
              "                                                     [key], {});\n",
              "          if (!dataTable) return;\n",
              "\n",
              "          const docLinkHtml = 'Like what you see? Visit the ' +\n",
              "            '<a target=\"_blank\" href=https://colab.research.google.com/notebooks/data_table.ipynb>data table notebook</a>'\n",
              "            + ' to learn more about interactive tables.';\n",
              "          element.innerHTML = '';\n",
              "          dataTable['output_type'] = 'display_data';\n",
              "          await google.colab.output.renderOutput(dataTable, element);\n",
              "          const docLink = document.createElement('div');\n",
              "          docLink.innerHTML = docLinkHtml;\n",
              "          element.appendChild(docLink);\n",
              "        }\n",
              "      </script>\n",
              "    </div>\n",
              "  </div>\n",
              "  "
            ],
            "text/plain": [
              "       CASE_STATUS                                  SOC_TITLE  \\\n",
              "0         Approved          Software Developers, Applications   \n",
              "1         Approved                       Computer Programmers   \n",
              "2         Approved          Software Developers, Applications   \n",
              "3         Approved                  Computer Systems Analysts   \n",
              "4         Approved                    Database Administrators   \n",
              "...            ...                                        ...   \n",
              "826300    Rejected      Software Developers, Systems Software   \n",
              "826301    Rejected           Business Teachers, Postsecondary   \n",
              "826302    Rejected          Software Developers, Applications   \n",
              "826303    Rejected          Software Developers, Applications   \n",
              "826304    Rejected  Computer and Information Systems Managers   \n",
              "\n",
              "                                 JOB_TITLE FULL_TIME_POSITION  \\\n",
              "0               Senior Technical Architect                  Y   \n",
              "1                     Programmer Analyst\\t                  Y   \n",
              "2                       Software Developer                  Y   \n",
              "3                           JAVA ANALYST 2                  Y   \n",
              "4            SQL DATABASE ADMINISTRATOR II                  Y   \n",
              "...                                    ...                ...   \n",
              "826300                SOFTWARE DEVELOPMENT                  Y   \n",
              "826301  Assistant Professor of Instruction                  Y   \n",
              "826302                    Engineering Lead                  Y   \n",
              "826303                    Engineering Lead                  Y   \n",
              "826304         Vice President, Engineering                  Y   \n",
              "\n",
              "        TOTAL_WORKER_POSITIONS  NEW_EMPLOYMENT EMPLOYER_NAME  NAICS_CODE  \\\n",
              "0                            1               0    Coorporate      541512   \n",
              "1                            1               0    Coorporate      541511   \n",
              "2                            6               1    Coorporate      541511   \n",
              "3                            1               0    Coorporate      541511   \n",
              "4                            1               0    Coorporate      541511   \n",
              "...                        ...             ...           ...         ...   \n",
              "826300                       1               1    Coorporate       23611   \n",
              "826301                       1               1    University        6113   \n",
              "826302                       1               0    Coorporate      541511   \n",
              "826303                       1               0    Coorporate      541511   \n",
              "826304                       1               1    Coorporate       81211   \n",
              "\n",
              "        PREVAILING_WAGE PW_WAGE_LEVEL H1B_DEPENDENT WILLFUL_VIOLATOR  \\\n",
              "0               97406.0            II             Y                N   \n",
              "1               84510.0            II             Y                N   \n",
              "2               70678.0            II             Y                N   \n",
              "3               81453.0            II             Y                N   \n",
              "4               91146.0            II             Y                N   \n",
              "...                 ...           ...           ...              ...   \n",
              "826300          72384.0             I            No               No   \n",
              "826301          18340.0             I            No               No   \n",
              "826302          80330.0            II           Yes               No   \n",
              "826303          80330.0            II           Yes               No   \n",
              "826304         136864.0             I            No               No   \n",
              "\n",
              "       WORKSITE_STATE  \n",
              "0                  VA  \n",
              "1                  TX  \n",
              "2                  OH  \n",
              "3                  CT  \n",
              "4                  TX  \n",
              "...               ...  \n",
              "826300             TX  \n",
              "826301             TX  \n",
              "826302             TN  \n",
              "826303             TN  \n",
              "826304             CA  \n",
              "\n",
              "[720171 rows x 13 columns]"
            ]
          },
          "execution_count": 270,
          "metadata": {},
          "output_type": "execute_result"
        }
      ],
      "source": [
        "\n",
        "New_Final_Visaapproval_H1Bdata_Q1toQ4\n"
      ]
    },
    {
      "cell_type": "markdown",
      "metadata": {
        "id": "2DozreEuXhlR"
      },
      "source": [
        "Equalizing all the data on whole for H1B_Dependent"
      ]
    },
    {
      "cell_type": "code",
      "execution_count": null,
      "metadata": {
        "colab": {
          "base_uri": "https://localhost:8080/",
          "height": 852
        },
        "id": "OkSgkXwt-hCe",
        "outputId": "d8c2cad0-181e-44b1-aa9d-d24d9c119e80"
      },
      "outputs": [
        {
          "data": {
            "text/html": [
              "\n",
              "  <div id=\"df-f6d08097-d6c5-494a-83cd-4459287c2c37\">\n",
              "    <div class=\"colab-df-container\">\n",
              "      <div>\n",
              "<style scoped>\n",
              "    .dataframe tbody tr th:only-of-type {\n",
              "        vertical-align: middle;\n",
              "    }\n",
              "\n",
              "    .dataframe tbody tr th {\n",
              "        vertical-align: top;\n",
              "    }\n",
              "\n",
              "    .dataframe thead th {\n",
              "        text-align: right;\n",
              "    }\n",
              "</style>\n",
              "<table border=\"1\" class=\"dataframe\">\n",
              "  <thead>\n",
              "    <tr style=\"text-align: right;\">\n",
              "      <th></th>\n",
              "      <th>CASE_STATUS</th>\n",
              "      <th>SOC_TITLE</th>\n",
              "      <th>JOB_TITLE</th>\n",
              "      <th>FULL_TIME_POSITION</th>\n",
              "      <th>TOTAL_WORKER_POSITIONS</th>\n",
              "      <th>NEW_EMPLOYMENT</th>\n",
              "      <th>EMPLOYER_NAME</th>\n",
              "      <th>NAICS_CODE</th>\n",
              "      <th>PREVAILING_WAGE</th>\n",
              "      <th>PW_WAGE_LEVEL</th>\n",
              "      <th>H1B_DEPENDENT</th>\n",
              "      <th>WILLFUL_VIOLATOR</th>\n",
              "      <th>WORKSITE_STATE</th>\n",
              "    </tr>\n",
              "  </thead>\n",
              "  <tbody>\n",
              "    <tr>\n",
              "      <th>0</th>\n",
              "      <td>Approved</td>\n",
              "      <td>Software Developers, Applications</td>\n",
              "      <td>Senior Technical Architect</td>\n",
              "      <td>Y</td>\n",
              "      <td>1</td>\n",
              "      <td>0</td>\n",
              "      <td>Coorporate</td>\n",
              "      <td>541512</td>\n",
              "      <td>97406.0</td>\n",
              "      <td>II</td>\n",
              "      <td>Yes</td>\n",
              "      <td>N</td>\n",
              "      <td>VA</td>\n",
              "    </tr>\n",
              "    <tr>\n",
              "      <th>1</th>\n",
              "      <td>Approved</td>\n",
              "      <td>Computer Programmers</td>\n",
              "      <td>Programmer Analyst\\t</td>\n",
              "      <td>Y</td>\n",
              "      <td>1</td>\n",
              "      <td>0</td>\n",
              "      <td>Coorporate</td>\n",
              "      <td>541511</td>\n",
              "      <td>84510.0</td>\n",
              "      <td>II</td>\n",
              "      <td>Yes</td>\n",
              "      <td>N</td>\n",
              "      <td>TX</td>\n",
              "    </tr>\n",
              "    <tr>\n",
              "      <th>2</th>\n",
              "      <td>Approved</td>\n",
              "      <td>Software Developers, Applications</td>\n",
              "      <td>Software Developer</td>\n",
              "      <td>Y</td>\n",
              "      <td>6</td>\n",
              "      <td>1</td>\n",
              "      <td>Coorporate</td>\n",
              "      <td>541511</td>\n",
              "      <td>70678.0</td>\n",
              "      <td>II</td>\n",
              "      <td>Yes</td>\n",
              "      <td>N</td>\n",
              "      <td>OH</td>\n",
              "    </tr>\n",
              "    <tr>\n",
              "      <th>3</th>\n",
              "      <td>Approved</td>\n",
              "      <td>Computer Systems Analysts</td>\n",
              "      <td>JAVA ANALYST 2</td>\n",
              "      <td>Y</td>\n",
              "      <td>1</td>\n",
              "      <td>0</td>\n",
              "      <td>Coorporate</td>\n",
              "      <td>541511</td>\n",
              "      <td>81453.0</td>\n",
              "      <td>II</td>\n",
              "      <td>Yes</td>\n",
              "      <td>N</td>\n",
              "      <td>CT</td>\n",
              "    </tr>\n",
              "    <tr>\n",
              "      <th>4</th>\n",
              "      <td>Approved</td>\n",
              "      <td>Database Administrators</td>\n",
              "      <td>SQL DATABASE ADMINISTRATOR II</td>\n",
              "      <td>Y</td>\n",
              "      <td>1</td>\n",
              "      <td>0</td>\n",
              "      <td>Coorporate</td>\n",
              "      <td>541511</td>\n",
              "      <td>91146.0</td>\n",
              "      <td>II</td>\n",
              "      <td>Yes</td>\n",
              "      <td>N</td>\n",
              "      <td>TX</td>\n",
              "    </tr>\n",
              "    <tr>\n",
              "      <th>...</th>\n",
              "      <td>...</td>\n",
              "      <td>...</td>\n",
              "      <td>...</td>\n",
              "      <td>...</td>\n",
              "      <td>...</td>\n",
              "      <td>...</td>\n",
              "      <td>...</td>\n",
              "      <td>...</td>\n",
              "      <td>...</td>\n",
              "      <td>...</td>\n",
              "      <td>...</td>\n",
              "      <td>...</td>\n",
              "      <td>...</td>\n",
              "    </tr>\n",
              "    <tr>\n",
              "      <th>826300</th>\n",
              "      <td>Rejected</td>\n",
              "      <td>Software Developers, Systems Software</td>\n",
              "      <td>SOFTWARE DEVELOPMENT</td>\n",
              "      <td>Y</td>\n",
              "      <td>1</td>\n",
              "      <td>1</td>\n",
              "      <td>Coorporate</td>\n",
              "      <td>23611</td>\n",
              "      <td>72384.0</td>\n",
              "      <td>I</td>\n",
              "      <td>No</td>\n",
              "      <td>No</td>\n",
              "      <td>TX</td>\n",
              "    </tr>\n",
              "    <tr>\n",
              "      <th>826301</th>\n",
              "      <td>Rejected</td>\n",
              "      <td>Business Teachers, Postsecondary</td>\n",
              "      <td>Assistant Professor of Instruction</td>\n",
              "      <td>Y</td>\n",
              "      <td>1</td>\n",
              "      <td>1</td>\n",
              "      <td>University</td>\n",
              "      <td>6113</td>\n",
              "      <td>18340.0</td>\n",
              "      <td>I</td>\n",
              "      <td>No</td>\n",
              "      <td>No</td>\n",
              "      <td>TX</td>\n",
              "    </tr>\n",
              "    <tr>\n",
              "      <th>826302</th>\n",
              "      <td>Rejected</td>\n",
              "      <td>Software Developers, Applications</td>\n",
              "      <td>Engineering Lead</td>\n",
              "      <td>Y</td>\n",
              "      <td>1</td>\n",
              "      <td>0</td>\n",
              "      <td>Coorporate</td>\n",
              "      <td>541511</td>\n",
              "      <td>80330.0</td>\n",
              "      <td>II</td>\n",
              "      <td>Yes</td>\n",
              "      <td>No</td>\n",
              "      <td>TN</td>\n",
              "    </tr>\n",
              "    <tr>\n",
              "      <th>826303</th>\n",
              "      <td>Rejected</td>\n",
              "      <td>Software Developers, Applications</td>\n",
              "      <td>Engineering Lead</td>\n",
              "      <td>Y</td>\n",
              "      <td>1</td>\n",
              "      <td>0</td>\n",
              "      <td>Coorporate</td>\n",
              "      <td>541511</td>\n",
              "      <td>80330.0</td>\n",
              "      <td>II</td>\n",
              "      <td>Yes</td>\n",
              "      <td>No</td>\n",
              "      <td>TN</td>\n",
              "    </tr>\n",
              "    <tr>\n",
              "      <th>826304</th>\n",
              "      <td>Rejected</td>\n",
              "      <td>Computer and Information Systems Managers</td>\n",
              "      <td>Vice President, Engineering</td>\n",
              "      <td>Y</td>\n",
              "      <td>1</td>\n",
              "      <td>1</td>\n",
              "      <td>Coorporate</td>\n",
              "      <td>81211</td>\n",
              "      <td>136864.0</td>\n",
              "      <td>I</td>\n",
              "      <td>No</td>\n",
              "      <td>No</td>\n",
              "      <td>CA</td>\n",
              "    </tr>\n",
              "  </tbody>\n",
              "</table>\n",
              "<p>720171 rows × 13 columns</p>\n",
              "</div>\n",
              "      <button class=\"colab-df-convert\" onclick=\"convertToInteractive('df-f6d08097-d6c5-494a-83cd-4459287c2c37')\"\n",
              "              title=\"Convert this dataframe to an interactive table.\"\n",
              "              style=\"display:none;\">\n",
              "        \n",
              "  <svg xmlns=\"http://www.w3.org/2000/svg\" height=\"24px\"viewBox=\"0 0 24 24\"\n",
              "       width=\"24px\">\n",
              "    <path d=\"M0 0h24v24H0V0z\" fill=\"none\"/>\n",
              "    <path d=\"M18.56 5.44l.94 2.06.94-2.06 2.06-.94-2.06-.94-.94-2.06-.94 2.06-2.06.94zm-11 1L8.5 8.5l.94-2.06 2.06-.94-2.06-.94L8.5 2.5l-.94 2.06-2.06.94zm10 10l.94 2.06.94-2.06 2.06-.94-2.06-.94-.94-2.06-.94 2.06-2.06.94z\"/><path d=\"M17.41 7.96l-1.37-1.37c-.4-.4-.92-.59-1.43-.59-.52 0-1.04.2-1.43.59L10.3 9.45l-7.72 7.72c-.78.78-.78 2.05 0 2.83L4 21.41c.39.39.9.59 1.41.59.51 0 1.02-.2 1.41-.59l7.78-7.78 2.81-2.81c.8-.78.8-2.07 0-2.86zM5.41 20L4 18.59l7.72-7.72 1.47 1.35L5.41 20z\"/>\n",
              "  </svg>\n",
              "      </button>\n",
              "      \n",
              "  <style>\n",
              "    .colab-df-container {\n",
              "      display:flex;\n",
              "      flex-wrap:wrap;\n",
              "      gap: 12px;\n",
              "    }\n",
              "\n",
              "    .colab-df-convert {\n",
              "      background-color: #E8F0FE;\n",
              "      border: none;\n",
              "      border-radius: 50%;\n",
              "      cursor: pointer;\n",
              "      display: none;\n",
              "      fill: #1967D2;\n",
              "      height: 32px;\n",
              "      padding: 0 0 0 0;\n",
              "      width: 32px;\n",
              "    }\n",
              "\n",
              "    .colab-df-convert:hover {\n",
              "      background-color: #E2EBFA;\n",
              "      box-shadow: 0px 1px 2px rgba(60, 64, 67, 0.3), 0px 1px 3px 1px rgba(60, 64, 67, 0.15);\n",
              "      fill: #174EA6;\n",
              "    }\n",
              "\n",
              "    [theme=dark] .colab-df-convert {\n",
              "      background-color: #3B4455;\n",
              "      fill: #D2E3FC;\n",
              "    }\n",
              "\n",
              "    [theme=dark] .colab-df-convert:hover {\n",
              "      background-color: #434B5C;\n",
              "      box-shadow: 0px 1px 3px 1px rgba(0, 0, 0, 0.15);\n",
              "      filter: drop-shadow(0px 1px 2px rgba(0, 0, 0, 0.3));\n",
              "      fill: #FFFFFF;\n",
              "    }\n",
              "  </style>\n",
              "\n",
              "      <script>\n",
              "        const buttonEl =\n",
              "          document.querySelector('#df-f6d08097-d6c5-494a-83cd-4459287c2c37 button.colab-df-convert');\n",
              "        buttonEl.style.display =\n",
              "          google.colab.kernel.accessAllowed ? 'block' : 'none';\n",
              "\n",
              "        async function convertToInteractive(key) {\n",
              "          const element = document.querySelector('#df-f6d08097-d6c5-494a-83cd-4459287c2c37');\n",
              "          const dataTable =\n",
              "            await google.colab.kernel.invokeFunction('convertToInteractive',\n",
              "                                                     [key], {});\n",
              "          if (!dataTable) return;\n",
              "\n",
              "          const docLinkHtml = 'Like what you see? Visit the ' +\n",
              "            '<a target=\"_blank\" href=https://colab.research.google.com/notebooks/data_table.ipynb>data table notebook</a>'\n",
              "            + ' to learn more about interactive tables.';\n",
              "          element.innerHTML = '';\n",
              "          dataTable['output_type'] = 'display_data';\n",
              "          await google.colab.output.renderOutput(dataTable, element);\n",
              "          const docLink = document.createElement('div');\n",
              "          docLink.innerHTML = docLinkHtml;\n",
              "          element.appendChild(docLink);\n",
              "        }\n",
              "      </script>\n",
              "    </div>\n",
              "  </div>\n",
              "  "
            ],
            "text/plain": [
              "       CASE_STATUS                                  SOC_TITLE  \\\n",
              "0         Approved          Software Developers, Applications   \n",
              "1         Approved                       Computer Programmers   \n",
              "2         Approved          Software Developers, Applications   \n",
              "3         Approved                  Computer Systems Analysts   \n",
              "4         Approved                    Database Administrators   \n",
              "...            ...                                        ...   \n",
              "826300    Rejected      Software Developers, Systems Software   \n",
              "826301    Rejected           Business Teachers, Postsecondary   \n",
              "826302    Rejected          Software Developers, Applications   \n",
              "826303    Rejected          Software Developers, Applications   \n",
              "826304    Rejected  Computer and Information Systems Managers   \n",
              "\n",
              "                                 JOB_TITLE FULL_TIME_POSITION  \\\n",
              "0               Senior Technical Architect                  Y   \n",
              "1                     Programmer Analyst\\t                  Y   \n",
              "2                       Software Developer                  Y   \n",
              "3                           JAVA ANALYST 2                  Y   \n",
              "4            SQL DATABASE ADMINISTRATOR II                  Y   \n",
              "...                                    ...                ...   \n",
              "826300                SOFTWARE DEVELOPMENT                  Y   \n",
              "826301  Assistant Professor of Instruction                  Y   \n",
              "826302                    Engineering Lead                  Y   \n",
              "826303                    Engineering Lead                  Y   \n",
              "826304         Vice President, Engineering                  Y   \n",
              "\n",
              "        TOTAL_WORKER_POSITIONS  NEW_EMPLOYMENT EMPLOYER_NAME  NAICS_CODE  \\\n",
              "0                            1               0    Coorporate      541512   \n",
              "1                            1               0    Coorporate      541511   \n",
              "2                            6               1    Coorporate      541511   \n",
              "3                            1               0    Coorporate      541511   \n",
              "4                            1               0    Coorporate      541511   \n",
              "...                        ...             ...           ...         ...   \n",
              "826300                       1               1    Coorporate       23611   \n",
              "826301                       1               1    University        6113   \n",
              "826302                       1               0    Coorporate      541511   \n",
              "826303                       1               0    Coorporate      541511   \n",
              "826304                       1               1    Coorporate       81211   \n",
              "\n",
              "        PREVAILING_WAGE PW_WAGE_LEVEL H1B_DEPENDENT WILLFUL_VIOLATOR  \\\n",
              "0               97406.0            II           Yes                N   \n",
              "1               84510.0            II           Yes                N   \n",
              "2               70678.0            II           Yes                N   \n",
              "3               81453.0            II           Yes                N   \n",
              "4               91146.0            II           Yes                N   \n",
              "...                 ...           ...           ...              ...   \n",
              "826300          72384.0             I            No               No   \n",
              "826301          18340.0             I            No               No   \n",
              "826302          80330.0            II           Yes               No   \n",
              "826303          80330.0            II           Yes               No   \n",
              "826304         136864.0             I            No               No   \n",
              "\n",
              "       WORKSITE_STATE  \n",
              "0                  VA  \n",
              "1                  TX  \n",
              "2                  OH  \n",
              "3                  CT  \n",
              "4                  TX  \n",
              "...               ...  \n",
              "826300             TX  \n",
              "826301             TX  \n",
              "826302             TN  \n",
              "826303             TN  \n",
              "826304             CA  \n",
              "\n",
              "[720171 rows x 13 columns]"
            ]
          },
          "execution_count": 271,
          "metadata": {},
          "output_type": "execute_result"
        }
      ],
      "source": [
        "H1b_dependent_holder = New_Final_Visaapproval_H1Bdata_Q1toQ4['H1B_DEPENDENT']\n",
        "\n",
        "New_Final_Visaapproval_H1Bdata_Q1toQ4.loc[H1b_dependent_holder == 'Y', 'H1B_DEPENDENT'] = 'Yes'\n",
        "New_Final_Visaapproval_H1Bdata_Q1toQ4.loc[H1b_dependent_holder == 'N', 'H1B_DEPENDENT'] = 'No'\n",
        "\n",
        "New_Final_Visaapproval_H1Bdata_Q1toQ4"
      ]
    },
    {
      "cell_type": "markdown",
      "metadata": {
        "id": "niWLMcO4Xk-n"
      },
      "source": [
        "Checking for the SOC_Title values to be categorized"
      ]
    },
    {
      "cell_type": "code",
      "execution_count": null,
      "metadata": {
        "colab": {
          "base_uri": "https://localhost:8080/"
        },
        "id": "NSPhvbEc0iWX",
        "outputId": "6fe444b7-8f85-4e7f-bebc-292f4c355ab5"
      },
      "outputs": [
        {
          "data": {
            "text/plain": [
              "Software Developers, Applications                      237559\n",
              "Computer Systems Analysts                               44428\n",
              "Software Developers, Systems Software                   43191\n",
              "Computer Systems Engineers/Architects                   24710\n",
              "Software Quality Assurance Engineers and Testers        18943\n",
              "                                                        ...  \n",
              "Hairdressers, Hairstylists, and Cosmetologists              1\n",
              "Software Quality and Assurance Analysts and Testers         1\n",
              "Medical Secretaries                                         1\n",
              "Cargo and Freight Agents                                    1\n",
              "Industrial Safety and Health Engineers.                     1\n",
              "Name: SOC_TITLE, Length: 788, dtype: int64"
            ]
          },
          "execution_count": 272,
          "metadata": {},
          "output_type": "execute_result"
        }
      ],
      "source": [
        "New_Final_Visaapproval_H1Bdata_Q1toQ4.SOC_TITLE.value_counts()"
      ]
    },
    {
      "cell_type": "code",
      "execution_count": null,
      "metadata": {
        "colab": {
          "base_uri": "https://localhost:8080/"
        },
        "id": "usBsm3qwJY9h",
        "outputId": "422131c1-0e04-4b7c-918f-d78014c42f1f"
      },
      "outputs": [
        {
          "data": {
            "text/plain": [
              "array(['Software Developers, Applications', 'Computer Programmers',\n",
              "       'Software Developers, Applications', ...,\n",
              "       'Software Developers, Applications',\n",
              "       'Software Developers, Applications',\n",
              "       'Computer and Information Systems Managers'], dtype=object)"
            ]
          },
          "execution_count": 273,
          "metadata": {},
          "output_type": "execute_result"
        }
      ],
      "source": [
        "New_Final_Visaapproval_H1Bdata_Q1toQ4.SOC_TITLE.values"
      ]
    },
    {
      "cell_type": "code",
      "execution_count": null,
      "metadata": {
        "id": "DCrR6l1q0q_Y"
      },
      "outputs": [],
      "source": [
        "\n",
        "New_Final_Visaapproval_H1Bdata_Q1toQ4['SOC_TITLE']=New_Final_Visaapproval_H1Bdata_Q1toQ4['SOC_TITLE'].apply(lambda x:x.lower())\n",
        "New_Final_Visaapproval_H1Bdata_Q1toQ4['CATEGORY_OF_JOB'] = np.nan\n",
        "New_Final_Visaapproval_H1Bdata_Q1toQ4.CATEGORY_OF_JOB[New_Final_Visaapproval_H1Bdata_Q1toQ4['SOC_TITLE'].str.contains('computer','programmer')] = 'Software'\n",
        "New_Final_Visaapproval_H1Bdata_Q1toQ4.CATEGORY_OF_JOB[New_Final_Visaapproval_H1Bdata_Q1toQ4['SOC_TITLE'].str.contains('software','developer')] = 'Software'\n",
        "New_Final_Visaapproval_H1Bdata_Q1toQ4.CATEGORY_OF_JOB[New_Final_Visaapproval_H1Bdata_Q1toQ4['SOC_TITLE'].str.contains('database','web')] = 'Software'\n",
        "New_Final_Visaapproval_H1Bdata_Q1toQ4.CATEGORY_OF_JOB[New_Final_Visaapproval_H1Bdata_Q1toQ4['SOC_TITLE'].str.contains('information security','information tech')] = 'Software'\n",
        "New_Final_Visaapproval_H1Bdata_Q1toQ4.CATEGORY_OF_JOB[New_Final_Visaapproval_H1Bdata_Q1toQ4['SOC_TITLE'].str.contains('applications','computer and information')] = 'Software'\n",
        "New_Final_Visaapproval_H1Bdata_Q1toQ4.CATEGORY_OF_JOB[New_Final_Visaapproval_H1Bdata_Q1toQ4['SOC_TITLE'].str.contains('math','statistic')] = 'Mathematician'\n",
        "New_Final_Visaapproval_H1Bdata_Q1toQ4.CATEGORY_OF_JOB[New_Final_Visaapproval_H1Bdata_Q1toQ4['SOC_TITLE'].str.contains('predictive model','stats')] = 'Mathematician'\n",
        "New_Final_Visaapproval_H1Bdata_Q1toQ4.CATEGORY_OF_JOB[New_Final_Visaapproval_H1Bdata_Q1toQ4['SOC_TITLE'].str.contains('teacher','linguist')] = 'Education'\n",
        "New_Final_Visaapproval_H1Bdata_Q1toQ4.CATEGORY_OF_JOB[New_Final_Visaapproval_H1Bdata_Q1toQ4['SOC_TITLE'].str.contains('professor','Teach')] = 'Education'\n",
        "New_Final_Visaapproval_H1Bdata_Q1toQ4.CATEGORY_OF_JOB[New_Final_Visaapproval_H1Bdata_Q1toQ4['SOC_TITLE'].str.contains('school principal')] = 'Education'\n",
        "New_Final_Visaapproval_H1Bdata_Q1toQ4.CATEGORY_OF_JOB[New_Final_Visaapproval_H1Bdata_Q1toQ4['SOC_TITLE'].str.contains('medical','doctor')] = 'Medical'\n",
        "New_Final_Visaapproval_H1Bdata_Q1toQ4.CATEGORY_OF_JOB[New_Final_Visaapproval_H1Bdata_Q1toQ4['SOC_TITLE'].str.contains('physician','dentist')] = 'Medical'\n",
        "New_Final_Visaapproval_H1Bdata_Q1toQ4.CATEGORY_OF_JOB[New_Final_Visaapproval_H1Bdata_Q1toQ4['SOC_TITLE'].str.contains('Health','Physical Therapists')] = 'Medical'\n",
        "New_Final_Visaapproval_H1Bdata_Q1toQ4.CATEGORY_OF_JOB[New_Final_Visaapproval_H1Bdata_Q1toQ4['SOC_TITLE'].str.contains('surgeon','nurse')] = 'Medical'\n",
        "New_Final_Visaapproval_H1Bdata_Q1toQ4.CATEGORY_OF_JOB[New_Final_Visaapproval_H1Bdata_Q1toQ4['SOC_TITLE'].str.contains('psychiatr')] = 'Medical'\n",
        "New_Final_Visaapproval_H1Bdata_Q1toQ4.CATEGORY_OF_JOB[New_Final_Visaapproval_H1Bdata_Q1toQ4['SOC_TITLE'].str.contains('biology','scientist')] = 'Sciences'\n",
        "New_Final_Visaapproval_H1Bdata_Q1toQ4.CATEGORY_OF_JOB[New_Final_Visaapproval_H1Bdata_Q1toQ4['SOC_TITLE'].str.contains('biologi','clinical research')] = 'Sciences'\n",
        "New_Final_Visaapproval_H1Bdata_Q1toQ4.CATEGORY_OF_JOB[New_Final_Visaapproval_H1Bdata_Q1toQ4['SOC_TITLE'].str.contains('public relation','manage')] = 'Management'\n",
        "New_Final_Visaapproval_H1Bdata_Q1toQ4.CATEGORY_OF_JOB[New_Final_Visaapproval_H1Bdata_Q1toQ4['SOC_TITLE'].str.contains('management','operation')] = 'Management'\n",
        "New_Final_Visaapproval_H1Bdata_Q1toQ4.CATEGORY_OF_JOB[New_Final_Visaapproval_H1Bdata_Q1toQ4['SOC_TITLE'].str.contains('chief','plan')] = 'Management'\n",
        "New_Final_Visaapproval_H1Bdata_Q1toQ4.CATEGORY_OF_JOB[New_Final_Visaapproval_H1Bdata_Q1toQ4['SOC_TITLE'].str.contains('executive')] = 'Management'\n",
        "New_Final_Visaapproval_H1Bdata_Q1toQ4.CATEGORY_OF_JOB[New_Final_Visaapproval_H1Bdata_Q1toQ4['SOC_TITLE'].str.contains('advertis','marketing')] = 'Marketing'\n",
        "New_Final_Visaapproval_H1Bdata_Q1toQ4.CATEGORY_OF_JOB[New_Final_Visaapproval_H1Bdata_Q1toQ4['SOC_TITLE'].str.contains('promotion','market research')] = 'Marketing'\n",
        "New_Final_Visaapproval_H1Bdata_Q1toQ4.CATEGORY_OF_JOB[New_Final_Visaapproval_H1Bdata_Q1toQ4['SOC_TITLE'].str.contains('business','business analyst')] = 'Business'\n",
        "New_Final_Visaapproval_H1Bdata_Q1toQ4.CATEGORY_OF_JOB[New_Final_Visaapproval_H1Bdata_Q1toQ4['SOC_TITLE'].str.contains('business systems analyst')] = 'Business'\n",
        "New_Final_Visaapproval_H1Bdata_Q1toQ4.CATEGORY_OF_JOB[New_Final_Visaapproval_H1Bdata_Q1toQ4['SOC_TITLE'].str.contains('accountant','finance')] = 'Financial'\n",
        "New_Final_Visaapproval_H1Bdata_Q1toQ4.CATEGORY_OF_JOB[New_Final_Visaapproval_H1Bdata_Q1toQ4['SOC_TITLE'].str.contains('engineer','architect')] = 'Architect'\n",
        "New_Final_Visaapproval_H1Bdata_Q1toQ4.CATEGORY_OF_JOB[New_Final_Visaapproval_H1Bdata_Q1toQ4['SOC_TITLE'].str.contains('surveyor','carto')] = 'Architect'\n",
        "New_Final_Visaapproval_H1Bdata_Q1toQ4.CATEGORY_OF_JOB[New_Final_Visaapproval_H1Bdata_Q1toQ4['SOC_TITLE'].str.contains('technician','drafter')] = 'Architect'\n",
        "New_Final_Visaapproval_H1Bdata_Q1toQ4.CATEGORY_OF_JOB = New_Final_Visaapproval_H1Bdata_Q1toQ4.CATEGORY_OF_JOB.replace(np.NaN,'Not_STEM')\n"
      ]
    },
    {
      "cell_type": "markdown",
      "metadata": {
        "id": "HvVtKp6dZLO3"
      },
      "source": [
        "They are now partially classified"
      ]
    },
    {
      "cell_type": "code",
      "execution_count": null,
      "metadata": {
        "colab": {
          "base_uri": "https://localhost:8080/"
        },
        "id": "cRTExNrl22Gb",
        "outputId": "53d024d5-7d36-49fc-b77e-828256f2cab1"
      },
      "outputs": [
        {
          "data": {
            "text/plain": [
              "Software         400794\n",
              "Not_STEM         134044\n",
              "Architect        114745\n",
              "Business          15686\n",
              "Medical           13328\n",
              "Education         12945\n",
              "Management        11778\n",
              "Financial         10334\n",
              "Sciences           5634\n",
              "Mathematician       788\n",
              "Marketing            95\n",
              "Name: CATEGORY_OF_JOB, dtype: int64"
            ]
          },
          "execution_count": 275,
          "metadata": {},
          "output_type": "execute_result"
        }
      ],
      "source": [
        "New_Final_Visaapproval_H1Bdata_Q1toQ4.CATEGORY_OF_JOB.value_counts(dropna=False)"
      ]
    },
    {
      "cell_type": "markdown",
      "metadata": {
        "id": "A2rt36YMZ4VE"
      },
      "source": [
        "Equalizing all the data on whole for WILLFUL_VIOLATOR"
      ]
    },
    {
      "cell_type": "code",
      "execution_count": null,
      "metadata": {
        "colab": {
          "base_uri": "https://localhost:8080/",
          "height": 852
        },
        "id": "3fCmxaBi_AvT",
        "outputId": "4d9c232f-8a30-4b07-809a-5672e34b6af2"
      },
      "outputs": [
        {
          "data": {
            "text/html": [
              "\n",
              "  <div id=\"df-39d35066-7871-4c03-ab00-fec397196781\">\n",
              "    <div class=\"colab-df-container\">\n",
              "      <div>\n",
              "<style scoped>\n",
              "    .dataframe tbody tr th:only-of-type {\n",
              "        vertical-align: middle;\n",
              "    }\n",
              "\n",
              "    .dataframe tbody tr th {\n",
              "        vertical-align: top;\n",
              "    }\n",
              "\n",
              "    .dataframe thead th {\n",
              "        text-align: right;\n",
              "    }\n",
              "</style>\n",
              "<table border=\"1\" class=\"dataframe\">\n",
              "  <thead>\n",
              "    <tr style=\"text-align: right;\">\n",
              "      <th></th>\n",
              "      <th>CASE_STATUS</th>\n",
              "      <th>SOC_TITLE</th>\n",
              "      <th>JOB_TITLE</th>\n",
              "      <th>FULL_TIME_POSITION</th>\n",
              "      <th>TOTAL_WORKER_POSITIONS</th>\n",
              "      <th>NEW_EMPLOYMENT</th>\n",
              "      <th>EMPLOYER_NAME</th>\n",
              "      <th>NAICS_CODE</th>\n",
              "      <th>PREVAILING_WAGE</th>\n",
              "      <th>PW_WAGE_LEVEL</th>\n",
              "      <th>H1B_DEPENDENT</th>\n",
              "      <th>WILLFUL_VIOLATOR</th>\n",
              "      <th>WORKSITE_STATE</th>\n",
              "      <th>CATEGORY_OF_JOB</th>\n",
              "    </tr>\n",
              "  </thead>\n",
              "  <tbody>\n",
              "    <tr>\n",
              "      <th>0</th>\n",
              "      <td>Approved</td>\n",
              "      <td>software developers, applications</td>\n",
              "      <td>Senior Technical Architect</td>\n",
              "      <td>Y</td>\n",
              "      <td>1</td>\n",
              "      <td>0</td>\n",
              "      <td>Coorporate</td>\n",
              "      <td>541512</td>\n",
              "      <td>97406.0</td>\n",
              "      <td>II</td>\n",
              "      <td>Yes</td>\n",
              "      <td>No</td>\n",
              "      <td>VA</td>\n",
              "      <td>Software</td>\n",
              "    </tr>\n",
              "    <tr>\n",
              "      <th>1</th>\n",
              "      <td>Approved</td>\n",
              "      <td>computer programmers</td>\n",
              "      <td>Programmer Analyst\\t</td>\n",
              "      <td>Y</td>\n",
              "      <td>1</td>\n",
              "      <td>0</td>\n",
              "      <td>Coorporate</td>\n",
              "      <td>541511</td>\n",
              "      <td>84510.0</td>\n",
              "      <td>II</td>\n",
              "      <td>Yes</td>\n",
              "      <td>No</td>\n",
              "      <td>TX</td>\n",
              "      <td>Software</td>\n",
              "    </tr>\n",
              "    <tr>\n",
              "      <th>2</th>\n",
              "      <td>Approved</td>\n",
              "      <td>software developers, applications</td>\n",
              "      <td>Software Developer</td>\n",
              "      <td>Y</td>\n",
              "      <td>6</td>\n",
              "      <td>1</td>\n",
              "      <td>Coorporate</td>\n",
              "      <td>541511</td>\n",
              "      <td>70678.0</td>\n",
              "      <td>II</td>\n",
              "      <td>Yes</td>\n",
              "      <td>No</td>\n",
              "      <td>OH</td>\n",
              "      <td>Software</td>\n",
              "    </tr>\n",
              "    <tr>\n",
              "      <th>3</th>\n",
              "      <td>Approved</td>\n",
              "      <td>computer systems analysts</td>\n",
              "      <td>JAVA ANALYST 2</td>\n",
              "      <td>Y</td>\n",
              "      <td>1</td>\n",
              "      <td>0</td>\n",
              "      <td>Coorporate</td>\n",
              "      <td>541511</td>\n",
              "      <td>81453.0</td>\n",
              "      <td>II</td>\n",
              "      <td>Yes</td>\n",
              "      <td>No</td>\n",
              "      <td>CT</td>\n",
              "      <td>Software</td>\n",
              "    </tr>\n",
              "    <tr>\n",
              "      <th>4</th>\n",
              "      <td>Approved</td>\n",
              "      <td>database administrators</td>\n",
              "      <td>SQL DATABASE ADMINISTRATOR II</td>\n",
              "      <td>Y</td>\n",
              "      <td>1</td>\n",
              "      <td>0</td>\n",
              "      <td>Coorporate</td>\n",
              "      <td>541511</td>\n",
              "      <td>91146.0</td>\n",
              "      <td>II</td>\n",
              "      <td>Yes</td>\n",
              "      <td>No</td>\n",
              "      <td>TX</td>\n",
              "      <td>Software</td>\n",
              "    </tr>\n",
              "    <tr>\n",
              "      <th>...</th>\n",
              "      <td>...</td>\n",
              "      <td>...</td>\n",
              "      <td>...</td>\n",
              "      <td>...</td>\n",
              "      <td>...</td>\n",
              "      <td>...</td>\n",
              "      <td>...</td>\n",
              "      <td>...</td>\n",
              "      <td>...</td>\n",
              "      <td>...</td>\n",
              "      <td>...</td>\n",
              "      <td>...</td>\n",
              "      <td>...</td>\n",
              "      <td>...</td>\n",
              "    </tr>\n",
              "    <tr>\n",
              "      <th>826300</th>\n",
              "      <td>Rejected</td>\n",
              "      <td>software developers, systems software</td>\n",
              "      <td>SOFTWARE DEVELOPMENT</td>\n",
              "      <td>Y</td>\n",
              "      <td>1</td>\n",
              "      <td>1</td>\n",
              "      <td>Coorporate</td>\n",
              "      <td>23611</td>\n",
              "      <td>72384.0</td>\n",
              "      <td>I</td>\n",
              "      <td>No</td>\n",
              "      <td>No</td>\n",
              "      <td>TX</td>\n",
              "      <td>Software</td>\n",
              "    </tr>\n",
              "    <tr>\n",
              "      <th>826301</th>\n",
              "      <td>Rejected</td>\n",
              "      <td>business teachers, postsecondary</td>\n",
              "      <td>Assistant Professor of Instruction</td>\n",
              "      <td>Y</td>\n",
              "      <td>1</td>\n",
              "      <td>1</td>\n",
              "      <td>University</td>\n",
              "      <td>6113</td>\n",
              "      <td>18340.0</td>\n",
              "      <td>I</td>\n",
              "      <td>No</td>\n",
              "      <td>No</td>\n",
              "      <td>TX</td>\n",
              "      <td>Business</td>\n",
              "    </tr>\n",
              "    <tr>\n",
              "      <th>826302</th>\n",
              "      <td>Rejected</td>\n",
              "      <td>software developers, applications</td>\n",
              "      <td>Engineering Lead</td>\n",
              "      <td>Y</td>\n",
              "      <td>1</td>\n",
              "      <td>0</td>\n",
              "      <td>Coorporate</td>\n",
              "      <td>541511</td>\n",
              "      <td>80330.0</td>\n",
              "      <td>II</td>\n",
              "      <td>Yes</td>\n",
              "      <td>No</td>\n",
              "      <td>TN</td>\n",
              "      <td>Software</td>\n",
              "    </tr>\n",
              "    <tr>\n",
              "      <th>826303</th>\n",
              "      <td>Rejected</td>\n",
              "      <td>software developers, applications</td>\n",
              "      <td>Engineering Lead</td>\n",
              "      <td>Y</td>\n",
              "      <td>1</td>\n",
              "      <td>0</td>\n",
              "      <td>Coorporate</td>\n",
              "      <td>541511</td>\n",
              "      <td>80330.0</td>\n",
              "      <td>II</td>\n",
              "      <td>Yes</td>\n",
              "      <td>No</td>\n",
              "      <td>TN</td>\n",
              "      <td>Software</td>\n",
              "    </tr>\n",
              "    <tr>\n",
              "      <th>826304</th>\n",
              "      <td>Rejected</td>\n",
              "      <td>computer and information systems managers</td>\n",
              "      <td>Vice President, Engineering</td>\n",
              "      <td>Y</td>\n",
              "      <td>1</td>\n",
              "      <td>1</td>\n",
              "      <td>Coorporate</td>\n",
              "      <td>81211</td>\n",
              "      <td>136864.0</td>\n",
              "      <td>I</td>\n",
              "      <td>No</td>\n",
              "      <td>No</td>\n",
              "      <td>CA</td>\n",
              "      <td>Software</td>\n",
              "    </tr>\n",
              "  </tbody>\n",
              "</table>\n",
              "<p>720171 rows × 14 columns</p>\n",
              "</div>\n",
              "      <button class=\"colab-df-convert\" onclick=\"convertToInteractive('df-39d35066-7871-4c03-ab00-fec397196781')\"\n",
              "              title=\"Convert this dataframe to an interactive table.\"\n",
              "              style=\"display:none;\">\n",
              "        \n",
              "  <svg xmlns=\"http://www.w3.org/2000/svg\" height=\"24px\"viewBox=\"0 0 24 24\"\n",
              "       width=\"24px\">\n",
              "    <path d=\"M0 0h24v24H0V0z\" fill=\"none\"/>\n",
              "    <path d=\"M18.56 5.44l.94 2.06.94-2.06 2.06-.94-2.06-.94-.94-2.06-.94 2.06-2.06.94zm-11 1L8.5 8.5l.94-2.06 2.06-.94-2.06-.94L8.5 2.5l-.94 2.06-2.06.94zm10 10l.94 2.06.94-2.06 2.06-.94-2.06-.94-.94-2.06-.94 2.06-2.06.94z\"/><path d=\"M17.41 7.96l-1.37-1.37c-.4-.4-.92-.59-1.43-.59-.52 0-1.04.2-1.43.59L10.3 9.45l-7.72 7.72c-.78.78-.78 2.05 0 2.83L4 21.41c.39.39.9.59 1.41.59.51 0 1.02-.2 1.41-.59l7.78-7.78 2.81-2.81c.8-.78.8-2.07 0-2.86zM5.41 20L4 18.59l7.72-7.72 1.47 1.35L5.41 20z\"/>\n",
              "  </svg>\n",
              "      </button>\n",
              "      \n",
              "  <style>\n",
              "    .colab-df-container {\n",
              "      display:flex;\n",
              "      flex-wrap:wrap;\n",
              "      gap: 12px;\n",
              "    }\n",
              "\n",
              "    .colab-df-convert {\n",
              "      background-color: #E8F0FE;\n",
              "      border: none;\n",
              "      border-radius: 50%;\n",
              "      cursor: pointer;\n",
              "      display: none;\n",
              "      fill: #1967D2;\n",
              "      height: 32px;\n",
              "      padding: 0 0 0 0;\n",
              "      width: 32px;\n",
              "    }\n",
              "\n",
              "    .colab-df-convert:hover {\n",
              "      background-color: #E2EBFA;\n",
              "      box-shadow: 0px 1px 2px rgba(60, 64, 67, 0.3), 0px 1px 3px 1px rgba(60, 64, 67, 0.15);\n",
              "      fill: #174EA6;\n",
              "    }\n",
              "\n",
              "    [theme=dark] .colab-df-convert {\n",
              "      background-color: #3B4455;\n",
              "      fill: #D2E3FC;\n",
              "    }\n",
              "\n",
              "    [theme=dark] .colab-df-convert:hover {\n",
              "      background-color: #434B5C;\n",
              "      box-shadow: 0px 1px 3px 1px rgba(0, 0, 0, 0.15);\n",
              "      filter: drop-shadow(0px 1px 2px rgba(0, 0, 0, 0.3));\n",
              "      fill: #FFFFFF;\n",
              "    }\n",
              "  </style>\n",
              "\n",
              "      <script>\n",
              "        const buttonEl =\n",
              "          document.querySelector('#df-39d35066-7871-4c03-ab00-fec397196781 button.colab-df-convert');\n",
              "        buttonEl.style.display =\n",
              "          google.colab.kernel.accessAllowed ? 'block' : 'none';\n",
              "\n",
              "        async function convertToInteractive(key) {\n",
              "          const element = document.querySelector('#df-39d35066-7871-4c03-ab00-fec397196781');\n",
              "          const dataTable =\n",
              "            await google.colab.kernel.invokeFunction('convertToInteractive',\n",
              "                                                     [key], {});\n",
              "          if (!dataTable) return;\n",
              "\n",
              "          const docLinkHtml = 'Like what you see? Visit the ' +\n",
              "            '<a target=\"_blank\" href=https://colab.research.google.com/notebooks/data_table.ipynb>data table notebook</a>'\n",
              "            + ' to learn more about interactive tables.';\n",
              "          element.innerHTML = '';\n",
              "          dataTable['output_type'] = 'display_data';\n",
              "          await google.colab.output.renderOutput(dataTable, element);\n",
              "          const docLink = document.createElement('div');\n",
              "          docLink.innerHTML = docLinkHtml;\n",
              "          element.appendChild(docLink);\n",
              "        }\n",
              "      </script>\n",
              "    </div>\n",
              "  </div>\n",
              "  "
            ],
            "text/plain": [
              "       CASE_STATUS                                  SOC_TITLE  \\\n",
              "0         Approved          software developers, applications   \n",
              "1         Approved                       computer programmers   \n",
              "2         Approved          software developers, applications   \n",
              "3         Approved                  computer systems analysts   \n",
              "4         Approved                    database administrators   \n",
              "...            ...                                        ...   \n",
              "826300    Rejected      software developers, systems software   \n",
              "826301    Rejected           business teachers, postsecondary   \n",
              "826302    Rejected          software developers, applications   \n",
              "826303    Rejected          software developers, applications   \n",
              "826304    Rejected  computer and information systems managers   \n",
              "\n",
              "                                 JOB_TITLE FULL_TIME_POSITION  \\\n",
              "0               Senior Technical Architect                  Y   \n",
              "1                     Programmer Analyst\\t                  Y   \n",
              "2                       Software Developer                  Y   \n",
              "3                           JAVA ANALYST 2                  Y   \n",
              "4            SQL DATABASE ADMINISTRATOR II                  Y   \n",
              "...                                    ...                ...   \n",
              "826300                SOFTWARE DEVELOPMENT                  Y   \n",
              "826301  Assistant Professor of Instruction                  Y   \n",
              "826302                    Engineering Lead                  Y   \n",
              "826303                    Engineering Lead                  Y   \n",
              "826304         Vice President, Engineering                  Y   \n",
              "\n",
              "        TOTAL_WORKER_POSITIONS  NEW_EMPLOYMENT EMPLOYER_NAME  NAICS_CODE  \\\n",
              "0                            1               0    Coorporate      541512   \n",
              "1                            1               0    Coorporate      541511   \n",
              "2                            6               1    Coorporate      541511   \n",
              "3                            1               0    Coorporate      541511   \n",
              "4                            1               0    Coorporate      541511   \n",
              "...                        ...             ...           ...         ...   \n",
              "826300                       1               1    Coorporate       23611   \n",
              "826301                       1               1    University        6113   \n",
              "826302                       1               0    Coorporate      541511   \n",
              "826303                       1               0    Coorporate      541511   \n",
              "826304                       1               1    Coorporate       81211   \n",
              "\n",
              "        PREVAILING_WAGE PW_WAGE_LEVEL H1B_DEPENDENT WILLFUL_VIOLATOR  \\\n",
              "0               97406.0            II           Yes               No   \n",
              "1               84510.0            II           Yes               No   \n",
              "2               70678.0            II           Yes               No   \n",
              "3               81453.0            II           Yes               No   \n",
              "4               91146.0            II           Yes               No   \n",
              "...                 ...           ...           ...              ...   \n",
              "826300          72384.0             I            No               No   \n",
              "826301          18340.0             I            No               No   \n",
              "826302          80330.0            II           Yes               No   \n",
              "826303          80330.0            II           Yes               No   \n",
              "826304         136864.0             I            No               No   \n",
              "\n",
              "       WORKSITE_STATE CATEGORY_OF_JOB  \n",
              "0                  VA        Software  \n",
              "1                  TX        Software  \n",
              "2                  OH        Software  \n",
              "3                  CT        Software  \n",
              "4                  TX        Software  \n",
              "...               ...             ...  \n",
              "826300             TX        Software  \n",
              "826301             TX        Business  \n",
              "826302             TN        Software  \n",
              "826303             TN        Software  \n",
              "826304             CA        Software  \n",
              "\n",
              "[720171 rows x 14 columns]"
            ]
          },
          "execution_count": 276,
          "metadata": {},
          "output_type": "execute_result"
        }
      ],
      "source": [
        "Willful_Violator_holder = New_Final_Visaapproval_H1Bdata_Q1toQ4['WILLFUL_VIOLATOR']\n",
        "\n",
        "New_Final_Visaapproval_H1Bdata_Q1toQ4.loc[Willful_Violator_holder == 'Y', 'WILLFUL_VIOLATOR'] = 'Yes'\n",
        "New_Final_Visaapproval_H1Bdata_Q1toQ4.loc[Willful_Violator_holder == 'N', 'WILLFUL_VIOLATOR'] = 'No'\n",
        "\n",
        "New_Final_Visaapproval_H1Bdata_Q1toQ4"
      ]
    },
    {
      "cell_type": "code",
      "execution_count": null,
      "metadata": {
        "colab": {
          "base_uri": "https://localhost:8080/"
        },
        "id": "64M_qWE8BJkD",
        "outputId": "72cf4abf-220d-4c6a-f3dd-7e9780d6b0ef"
      },
      "outputs": [
        {
          "data": {
            "text/plain": [
              "Index(['CASE_STATUS', 'SOC_TITLE', 'JOB_TITLE', 'FULL_TIME_POSITION',\n",
              "       'TOTAL_WORKER_POSITIONS', 'NEW_EMPLOYMENT', 'EMPLOYER_NAME',\n",
              "       'NAICS_CODE', 'PREVAILING_WAGE', 'PW_WAGE_LEVEL', 'H1B_DEPENDENT',\n",
              "       'WILLFUL_VIOLATOR', 'WORKSITE_STATE', 'CATEGORY_OF_JOB'],\n",
              "      dtype='object')"
            ]
          },
          "execution_count": 277,
          "metadata": {},
          "output_type": "execute_result"
        }
      ],
      "source": [
        "New_Final_Visaapproval_H1Bdata_Q1toQ4.columns"
      ]
    },
    {
      "cell_type": "markdown",
      "metadata": {
        "id": "CrMGt-1QZ9cP"
      },
      "source": [
        "As we have already cassified the SOC_TITLE to a certain extent, proceeding to drop job title.Similarly WORKSITE_STATE has various unique values dropping it too"
      ]
    },
    {
      "cell_type": "code",
      "execution_count": null,
      "metadata": {
        "id": "_6y4BH7o3P12"
      },
      "outputs": [],
      "source": [
        "New_Final_Visaapproval_H1Bdata_Q1toQ4 = New_Final_Visaapproval_H1Bdata_Q1toQ4.drop(['JOB_TITLE','WORKSITE_STATE','SOC_TITLE'],axis=1)"
      ]
    },
    {
      "cell_type": "markdown",
      "metadata": {
        "id": "iEP5E9pLaCUe"
      },
      "source": [
        "Final columns that seem to have association with the target variable"
      ]
    },
    {
      "cell_type": "code",
      "execution_count": null,
      "metadata": {
        "id": "UgLGz8oOBujY"
      },
      "outputs": [],
      "source": [
        "Final_cols = ['CASE_STATUS','NEW_EMPLOYMENT',\n",
        "       'FULL_TIME_POSITION', 'TOTAL_WORKER_POSITIONS',\n",
        "       'EMPLOYER_NAME','CATEGORY_OF_JOB',\n",
        "       'PREVAILING_WAGE', 'H1B_DEPENDENT','PW_WAGE_LEVEL',\n",
        "       'WILLFUL_VIOLATOR']"
      ]
    },
    {
      "cell_type": "markdown",
      "metadata": {
        "id": "Ava9ptafaY0I"
      },
      "source": [
        " Dummies in pandas converts categorical data into dummy or indicator variables which helps us in better clasification of the data when applied to models."
      ]
    },
    {
      "cell_type": "code",
      "execution_count": null,
      "metadata": {
        "id": "yUl-aU1GB1PU"
      },
      "outputs": [],
      "source": [
        "dummy = pd.get_dummies(New_Final_Visaapproval_H1Bdata_Q1toQ4[Final_cols], drop_first=True)\n",
        "Dummy_Final_Visaapproval_H1Bdata_Q1toQ4 = pd.concat([New_Final_Visaapproval_H1Bdata_Q1toQ4.drop(Final_cols,axis=1),dummy],axis=1)"
      ]
    },
    {
      "cell_type": "markdown",
      "metadata": {
        "id": "nSa8_egNaid7"
      },
      "source": [
        "Checking if there are any NA values any more."
      ]
    },
    {
      "cell_type": "code",
      "execution_count": null,
      "metadata": {
        "colab": {
          "base_uri": "https://localhost:8080/"
        },
        "id": "twBlUM8fBusA",
        "outputId": "1d61f128-cdeb-4052-ad22-2999a881e827"
      },
      "outputs": [
        {
          "data": {
            "text/plain": [
              "False"
            ]
          },
          "execution_count": 281,
          "metadata": {},
          "output_type": "execute_result"
        }
      ],
      "source": [
        "Dummy_Final_Visaapproval_H1Bdata_Q1toQ4.isnull().values.any()"
      ]
    },
    {
      "cell_type": "markdown",
      "metadata": {
        "id": "j-RbC86man7o"
      },
      "source": [
        "Displaying how the data looks now"
      ]
    },
    {
      "cell_type": "code",
      "execution_count": null,
      "metadata": {
        "colab": {
          "base_uri": "https://localhost:8080/",
          "height": 488
        },
        "id": "Ik98G0ESPvEA",
        "outputId": "f9aff7a2-606f-4a17-cbd0-ec3b1609d4c7"
      },
      "outputs": [
        {
          "data": {
            "text/html": [
              "\n",
              "  <div id=\"df-1c71e8a5-b78b-42df-abec-39b4b0fe7583\">\n",
              "    <div class=\"colab-df-container\">\n",
              "      <div>\n",
              "<style scoped>\n",
              "    .dataframe tbody tr th:only-of-type {\n",
              "        vertical-align: middle;\n",
              "    }\n",
              "\n",
              "    .dataframe tbody tr th {\n",
              "        vertical-align: top;\n",
              "    }\n",
              "\n",
              "    .dataframe thead th {\n",
              "        text-align: right;\n",
              "    }\n",
              "</style>\n",
              "<table border=\"1\" class=\"dataframe\">\n",
              "  <thead>\n",
              "    <tr style=\"text-align: right;\">\n",
              "      <th></th>\n",
              "      <th>NAICS_CODE</th>\n",
              "      <th>NEW_EMPLOYMENT</th>\n",
              "      <th>TOTAL_WORKER_POSITIONS</th>\n",
              "      <th>PREVAILING_WAGE</th>\n",
              "      <th>CASE_STATUS_Rejected</th>\n",
              "      <th>FULL_TIME_POSITION_Y</th>\n",
              "      <th>EMPLOYER_NAME_University</th>\n",
              "      <th>CATEGORY_OF_JOB_Business</th>\n",
              "      <th>CATEGORY_OF_JOB_Education</th>\n",
              "      <th>CATEGORY_OF_JOB_Financial</th>\n",
              "      <th>...</th>\n",
              "      <th>CATEGORY_OF_JOB_Mathematician</th>\n",
              "      <th>CATEGORY_OF_JOB_Medical</th>\n",
              "      <th>CATEGORY_OF_JOB_Not_STEM</th>\n",
              "      <th>CATEGORY_OF_JOB_Sciences</th>\n",
              "      <th>CATEGORY_OF_JOB_Software</th>\n",
              "      <th>H1B_DEPENDENT_Yes</th>\n",
              "      <th>PW_WAGE_LEVEL_II</th>\n",
              "      <th>PW_WAGE_LEVEL_III</th>\n",
              "      <th>PW_WAGE_LEVEL_IV</th>\n",
              "      <th>WILLFUL_VIOLATOR_Yes</th>\n",
              "    </tr>\n",
              "  </thead>\n",
              "  <tbody>\n",
              "    <tr>\n",
              "      <th>0</th>\n",
              "      <td>541512</td>\n",
              "      <td>0</td>\n",
              "      <td>1</td>\n",
              "      <td>97406.0</td>\n",
              "      <td>0</td>\n",
              "      <td>1</td>\n",
              "      <td>0</td>\n",
              "      <td>0</td>\n",
              "      <td>0</td>\n",
              "      <td>0</td>\n",
              "      <td>...</td>\n",
              "      <td>0</td>\n",
              "      <td>0</td>\n",
              "      <td>0</td>\n",
              "      <td>0</td>\n",
              "      <td>1</td>\n",
              "      <td>1</td>\n",
              "      <td>1</td>\n",
              "      <td>0</td>\n",
              "      <td>0</td>\n",
              "      <td>0</td>\n",
              "    </tr>\n",
              "    <tr>\n",
              "      <th>1</th>\n",
              "      <td>541511</td>\n",
              "      <td>0</td>\n",
              "      <td>1</td>\n",
              "      <td>84510.0</td>\n",
              "      <td>0</td>\n",
              "      <td>1</td>\n",
              "      <td>0</td>\n",
              "      <td>0</td>\n",
              "      <td>0</td>\n",
              "      <td>0</td>\n",
              "      <td>...</td>\n",
              "      <td>0</td>\n",
              "      <td>0</td>\n",
              "      <td>0</td>\n",
              "      <td>0</td>\n",
              "      <td>1</td>\n",
              "      <td>1</td>\n",
              "      <td>1</td>\n",
              "      <td>0</td>\n",
              "      <td>0</td>\n",
              "      <td>0</td>\n",
              "    </tr>\n",
              "    <tr>\n",
              "      <th>2</th>\n",
              "      <td>541511</td>\n",
              "      <td>1</td>\n",
              "      <td>6</td>\n",
              "      <td>70678.0</td>\n",
              "      <td>0</td>\n",
              "      <td>1</td>\n",
              "      <td>0</td>\n",
              "      <td>0</td>\n",
              "      <td>0</td>\n",
              "      <td>0</td>\n",
              "      <td>...</td>\n",
              "      <td>0</td>\n",
              "      <td>0</td>\n",
              "      <td>0</td>\n",
              "      <td>0</td>\n",
              "      <td>1</td>\n",
              "      <td>1</td>\n",
              "      <td>1</td>\n",
              "      <td>0</td>\n",
              "      <td>0</td>\n",
              "      <td>0</td>\n",
              "    </tr>\n",
              "    <tr>\n",
              "      <th>3</th>\n",
              "      <td>541511</td>\n",
              "      <td>0</td>\n",
              "      <td>1</td>\n",
              "      <td>81453.0</td>\n",
              "      <td>0</td>\n",
              "      <td>1</td>\n",
              "      <td>0</td>\n",
              "      <td>0</td>\n",
              "      <td>0</td>\n",
              "      <td>0</td>\n",
              "      <td>...</td>\n",
              "      <td>0</td>\n",
              "      <td>0</td>\n",
              "      <td>0</td>\n",
              "      <td>0</td>\n",
              "      <td>1</td>\n",
              "      <td>1</td>\n",
              "      <td>1</td>\n",
              "      <td>0</td>\n",
              "      <td>0</td>\n",
              "      <td>0</td>\n",
              "    </tr>\n",
              "    <tr>\n",
              "      <th>4</th>\n",
              "      <td>541511</td>\n",
              "      <td>0</td>\n",
              "      <td>1</td>\n",
              "      <td>91146.0</td>\n",
              "      <td>0</td>\n",
              "      <td>1</td>\n",
              "      <td>0</td>\n",
              "      <td>0</td>\n",
              "      <td>0</td>\n",
              "      <td>0</td>\n",
              "      <td>...</td>\n",
              "      <td>0</td>\n",
              "      <td>0</td>\n",
              "      <td>0</td>\n",
              "      <td>0</td>\n",
              "      <td>1</td>\n",
              "      <td>1</td>\n",
              "      <td>1</td>\n",
              "      <td>0</td>\n",
              "      <td>0</td>\n",
              "      <td>0</td>\n",
              "    </tr>\n",
              "    <tr>\n",
              "      <th>...</th>\n",
              "      <td>...</td>\n",
              "      <td>...</td>\n",
              "      <td>...</td>\n",
              "      <td>...</td>\n",
              "      <td>...</td>\n",
              "      <td>...</td>\n",
              "      <td>...</td>\n",
              "      <td>...</td>\n",
              "      <td>...</td>\n",
              "      <td>...</td>\n",
              "      <td>...</td>\n",
              "      <td>...</td>\n",
              "      <td>...</td>\n",
              "      <td>...</td>\n",
              "      <td>...</td>\n",
              "      <td>...</td>\n",
              "      <td>...</td>\n",
              "      <td>...</td>\n",
              "      <td>...</td>\n",
              "      <td>...</td>\n",
              "      <td>...</td>\n",
              "    </tr>\n",
              "    <tr>\n",
              "      <th>826300</th>\n",
              "      <td>23611</td>\n",
              "      <td>1</td>\n",
              "      <td>1</td>\n",
              "      <td>72384.0</td>\n",
              "      <td>1</td>\n",
              "      <td>1</td>\n",
              "      <td>0</td>\n",
              "      <td>0</td>\n",
              "      <td>0</td>\n",
              "      <td>0</td>\n",
              "      <td>...</td>\n",
              "      <td>0</td>\n",
              "      <td>0</td>\n",
              "      <td>0</td>\n",
              "      <td>0</td>\n",
              "      <td>1</td>\n",
              "      <td>0</td>\n",
              "      <td>0</td>\n",
              "      <td>0</td>\n",
              "      <td>0</td>\n",
              "      <td>0</td>\n",
              "    </tr>\n",
              "    <tr>\n",
              "      <th>826301</th>\n",
              "      <td>6113</td>\n",
              "      <td>1</td>\n",
              "      <td>1</td>\n",
              "      <td>18340.0</td>\n",
              "      <td>1</td>\n",
              "      <td>1</td>\n",
              "      <td>1</td>\n",
              "      <td>1</td>\n",
              "      <td>0</td>\n",
              "      <td>0</td>\n",
              "      <td>...</td>\n",
              "      <td>0</td>\n",
              "      <td>0</td>\n",
              "      <td>0</td>\n",
              "      <td>0</td>\n",
              "      <td>0</td>\n",
              "      <td>0</td>\n",
              "      <td>0</td>\n",
              "      <td>0</td>\n",
              "      <td>0</td>\n",
              "      <td>0</td>\n",
              "    </tr>\n",
              "    <tr>\n",
              "      <th>826302</th>\n",
              "      <td>541511</td>\n",
              "      <td>0</td>\n",
              "      <td>1</td>\n",
              "      <td>80330.0</td>\n",
              "      <td>1</td>\n",
              "      <td>1</td>\n",
              "      <td>0</td>\n",
              "      <td>0</td>\n",
              "      <td>0</td>\n",
              "      <td>0</td>\n",
              "      <td>...</td>\n",
              "      <td>0</td>\n",
              "      <td>0</td>\n",
              "      <td>0</td>\n",
              "      <td>0</td>\n",
              "      <td>1</td>\n",
              "      <td>1</td>\n",
              "      <td>1</td>\n",
              "      <td>0</td>\n",
              "      <td>0</td>\n",
              "      <td>0</td>\n",
              "    </tr>\n",
              "    <tr>\n",
              "      <th>826303</th>\n",
              "      <td>541511</td>\n",
              "      <td>0</td>\n",
              "      <td>1</td>\n",
              "      <td>80330.0</td>\n",
              "      <td>1</td>\n",
              "      <td>1</td>\n",
              "      <td>0</td>\n",
              "      <td>0</td>\n",
              "      <td>0</td>\n",
              "      <td>0</td>\n",
              "      <td>...</td>\n",
              "      <td>0</td>\n",
              "      <td>0</td>\n",
              "      <td>0</td>\n",
              "      <td>0</td>\n",
              "      <td>1</td>\n",
              "      <td>1</td>\n",
              "      <td>1</td>\n",
              "      <td>0</td>\n",
              "      <td>0</td>\n",
              "      <td>0</td>\n",
              "    </tr>\n",
              "    <tr>\n",
              "      <th>826304</th>\n",
              "      <td>81211</td>\n",
              "      <td>1</td>\n",
              "      <td>1</td>\n",
              "      <td>136864.0</td>\n",
              "      <td>1</td>\n",
              "      <td>1</td>\n",
              "      <td>0</td>\n",
              "      <td>0</td>\n",
              "      <td>0</td>\n",
              "      <td>0</td>\n",
              "      <td>...</td>\n",
              "      <td>0</td>\n",
              "      <td>0</td>\n",
              "      <td>0</td>\n",
              "      <td>0</td>\n",
              "      <td>1</td>\n",
              "      <td>0</td>\n",
              "      <td>0</td>\n",
              "      <td>0</td>\n",
              "      <td>0</td>\n",
              "      <td>0</td>\n",
              "    </tr>\n",
              "  </tbody>\n",
              "</table>\n",
              "<p>720171 rows × 22 columns</p>\n",
              "</div>\n",
              "      <button class=\"colab-df-convert\" onclick=\"convertToInteractive('df-1c71e8a5-b78b-42df-abec-39b4b0fe7583')\"\n",
              "              title=\"Convert this dataframe to an interactive table.\"\n",
              "              style=\"display:none;\">\n",
              "        \n",
              "  <svg xmlns=\"http://www.w3.org/2000/svg\" height=\"24px\"viewBox=\"0 0 24 24\"\n",
              "       width=\"24px\">\n",
              "    <path d=\"M0 0h24v24H0V0z\" fill=\"none\"/>\n",
              "    <path d=\"M18.56 5.44l.94 2.06.94-2.06 2.06-.94-2.06-.94-.94-2.06-.94 2.06-2.06.94zm-11 1L8.5 8.5l.94-2.06 2.06-.94-2.06-.94L8.5 2.5l-.94 2.06-2.06.94zm10 10l.94 2.06.94-2.06 2.06-.94-2.06-.94-.94-2.06-.94 2.06-2.06.94z\"/><path d=\"M17.41 7.96l-1.37-1.37c-.4-.4-.92-.59-1.43-.59-.52 0-1.04.2-1.43.59L10.3 9.45l-7.72 7.72c-.78.78-.78 2.05 0 2.83L4 21.41c.39.39.9.59 1.41.59.51 0 1.02-.2 1.41-.59l7.78-7.78 2.81-2.81c.8-.78.8-2.07 0-2.86zM5.41 20L4 18.59l7.72-7.72 1.47 1.35L5.41 20z\"/>\n",
              "  </svg>\n",
              "      </button>\n",
              "      \n",
              "  <style>\n",
              "    .colab-df-container {\n",
              "      display:flex;\n",
              "      flex-wrap:wrap;\n",
              "      gap: 12px;\n",
              "    }\n",
              "\n",
              "    .colab-df-convert {\n",
              "      background-color: #E8F0FE;\n",
              "      border: none;\n",
              "      border-radius: 50%;\n",
              "      cursor: pointer;\n",
              "      display: none;\n",
              "      fill: #1967D2;\n",
              "      height: 32px;\n",
              "      padding: 0 0 0 0;\n",
              "      width: 32px;\n",
              "    }\n",
              "\n",
              "    .colab-df-convert:hover {\n",
              "      background-color: #E2EBFA;\n",
              "      box-shadow: 0px 1px 2px rgba(60, 64, 67, 0.3), 0px 1px 3px 1px rgba(60, 64, 67, 0.15);\n",
              "      fill: #174EA6;\n",
              "    }\n",
              "\n",
              "    [theme=dark] .colab-df-convert {\n",
              "      background-color: #3B4455;\n",
              "      fill: #D2E3FC;\n",
              "    }\n",
              "\n",
              "    [theme=dark] .colab-df-convert:hover {\n",
              "      background-color: #434B5C;\n",
              "      box-shadow: 0px 1px 3px 1px rgba(0, 0, 0, 0.15);\n",
              "      filter: drop-shadow(0px 1px 2px rgba(0, 0, 0, 0.3));\n",
              "      fill: #FFFFFF;\n",
              "    }\n",
              "  </style>\n",
              "\n",
              "      <script>\n",
              "        const buttonEl =\n",
              "          document.querySelector('#df-1c71e8a5-b78b-42df-abec-39b4b0fe7583 button.colab-df-convert');\n",
              "        buttonEl.style.display =\n",
              "          google.colab.kernel.accessAllowed ? 'block' : 'none';\n",
              "\n",
              "        async function convertToInteractive(key) {\n",
              "          const element = document.querySelector('#df-1c71e8a5-b78b-42df-abec-39b4b0fe7583');\n",
              "          const dataTable =\n",
              "            await google.colab.kernel.invokeFunction('convertToInteractive',\n",
              "                                                     [key], {});\n",
              "          if (!dataTable) return;\n",
              "\n",
              "          const docLinkHtml = 'Like what you see? Visit the ' +\n",
              "            '<a target=\"_blank\" href=https://colab.research.google.com/notebooks/data_table.ipynb>data table notebook</a>'\n",
              "            + ' to learn more about interactive tables.';\n",
              "          element.innerHTML = '';\n",
              "          dataTable['output_type'] = 'display_data';\n",
              "          await google.colab.output.renderOutput(dataTable, element);\n",
              "          const docLink = document.createElement('div');\n",
              "          docLink.innerHTML = docLinkHtml;\n",
              "          element.appendChild(docLink);\n",
              "        }\n",
              "      </script>\n",
              "    </div>\n",
              "  </div>\n",
              "  "
            ],
            "text/plain": [
              "        NAICS_CODE  NEW_EMPLOYMENT  TOTAL_WORKER_POSITIONS  PREVAILING_WAGE  \\\n",
              "0           541512               0                       1          97406.0   \n",
              "1           541511               0                       1          84510.0   \n",
              "2           541511               1                       6          70678.0   \n",
              "3           541511               0                       1          81453.0   \n",
              "4           541511               0                       1          91146.0   \n",
              "...            ...             ...                     ...              ...   \n",
              "826300       23611               1                       1          72384.0   \n",
              "826301        6113               1                       1          18340.0   \n",
              "826302      541511               0                       1          80330.0   \n",
              "826303      541511               0                       1          80330.0   \n",
              "826304       81211               1                       1         136864.0   \n",
              "\n",
              "        CASE_STATUS_Rejected  FULL_TIME_POSITION_Y  EMPLOYER_NAME_University  \\\n",
              "0                          0                     1                         0   \n",
              "1                          0                     1                         0   \n",
              "2                          0                     1                         0   \n",
              "3                          0                     1                         0   \n",
              "4                          0                     1                         0   \n",
              "...                      ...                   ...                       ...   \n",
              "826300                     1                     1                         0   \n",
              "826301                     1                     1                         1   \n",
              "826302                     1                     1                         0   \n",
              "826303                     1                     1                         0   \n",
              "826304                     1                     1                         0   \n",
              "\n",
              "        CATEGORY_OF_JOB_Business  CATEGORY_OF_JOB_Education  \\\n",
              "0                              0                          0   \n",
              "1                              0                          0   \n",
              "2                              0                          0   \n",
              "3                              0                          0   \n",
              "4                              0                          0   \n",
              "...                          ...                        ...   \n",
              "826300                         0                          0   \n",
              "826301                         1                          0   \n",
              "826302                         0                          0   \n",
              "826303                         0                          0   \n",
              "826304                         0                          0   \n",
              "\n",
              "        CATEGORY_OF_JOB_Financial  ...  CATEGORY_OF_JOB_Mathematician  \\\n",
              "0                               0  ...                              0   \n",
              "1                               0  ...                              0   \n",
              "2                               0  ...                              0   \n",
              "3                               0  ...                              0   \n",
              "4                               0  ...                              0   \n",
              "...                           ...  ...                            ...   \n",
              "826300                          0  ...                              0   \n",
              "826301                          0  ...                              0   \n",
              "826302                          0  ...                              0   \n",
              "826303                          0  ...                              0   \n",
              "826304                          0  ...                              0   \n",
              "\n",
              "        CATEGORY_OF_JOB_Medical  CATEGORY_OF_JOB_Not_STEM  \\\n",
              "0                             0                         0   \n",
              "1                             0                         0   \n",
              "2                             0                         0   \n",
              "3                             0                         0   \n",
              "4                             0                         0   \n",
              "...                         ...                       ...   \n",
              "826300                        0                         0   \n",
              "826301                        0                         0   \n",
              "826302                        0                         0   \n",
              "826303                        0                         0   \n",
              "826304                        0                         0   \n",
              "\n",
              "        CATEGORY_OF_JOB_Sciences  CATEGORY_OF_JOB_Software  H1B_DEPENDENT_Yes  \\\n",
              "0                              0                         1                  1   \n",
              "1                              0                         1                  1   \n",
              "2                              0                         1                  1   \n",
              "3                              0                         1                  1   \n",
              "4                              0                         1                  1   \n",
              "...                          ...                       ...                ...   \n",
              "826300                         0                         1                  0   \n",
              "826301                         0                         0                  0   \n",
              "826302                         0                         1                  1   \n",
              "826303                         0                         1                  1   \n",
              "826304                         0                         1                  0   \n",
              "\n",
              "        PW_WAGE_LEVEL_II  PW_WAGE_LEVEL_III  PW_WAGE_LEVEL_IV  \\\n",
              "0                      1                  0                 0   \n",
              "1                      1                  0                 0   \n",
              "2                      1                  0                 0   \n",
              "3                      1                  0                 0   \n",
              "4                      1                  0                 0   \n",
              "...                  ...                ...               ...   \n",
              "826300                 0                  0                 0   \n",
              "826301                 0                  0                 0   \n",
              "826302                 1                  0                 0   \n",
              "826303                 1                  0                 0   \n",
              "826304                 0                  0                 0   \n",
              "\n",
              "        WILLFUL_VIOLATOR_Yes  \n",
              "0                          0  \n",
              "1                          0  \n",
              "2                          0  \n",
              "3                          0  \n",
              "4                          0  \n",
              "...                      ...  \n",
              "826300                     0  \n",
              "826301                     0  \n",
              "826302                     0  \n",
              "826303                     0  \n",
              "826304                     0  \n",
              "\n",
              "[720171 rows x 22 columns]"
            ]
          },
          "execution_count": 282,
          "metadata": {},
          "output_type": "execute_result"
        }
      ],
      "source": [
        "Dummy_Final_Visaapproval_H1Bdata_Q1toQ4"
      ]
    },
    {
      "cell_type": "markdown",
      "metadata": {
        "id": "pr6ltSM8atQc"
      },
      "source": [
        "Before we start utilizing our models on the  finalized data attained, we need to split the data"
      ]
    },
    {
      "cell_type": "markdown",
      "metadata": {
        "id": "FCfrNKTda4vX"
      },
      "source": [
        "Splitting the data among trainining data and test data by dropping the target column from the main dataset and adding it to test data. "
      ]
    },
    {
      "cell_type": "code",
      "execution_count": null,
      "metadata": {
        "id": "OJ_sBl2G97pQ"
      },
      "outputs": [],
      "source": [
        "train_data = Dummy_Final_Visaapproval_H1Bdata_Q1toQ4.drop('CASE_STATUS_Rejected',axis=1)\n",
        "test_data = Dummy_Final_Visaapproval_H1Bdata_Q1toQ4['CASE_STATUS_Rejected']"
      ]
    },
    {
      "cell_type": "markdown",
      "metadata": {
        "id": "VzAvG4enbDpC"
      },
      "source": [
        "However we aren't sure if our data is perfectly balanced, Hence one of the techniques learnt and studied in the process of analyzing and predicting the resultant is NearMiss, it helps us balance the data."
      ]
    },
    {
      "cell_type": "code",
      "execution_count": null,
      "metadata": {
        "id": "10Gx_W4_3zs6"
      },
      "outputs": [],
      "source": [
        "nm = NearMiss()\n",
        "train_samp,test_samp = nm.fit_resample(train_data,test_data)"
      ]
    },
    {
      "cell_type": "markdown",
      "metadata": {
        "id": "qrmo8l0UcY8y"
      },
      "source": [
        "Fitting an ExtraTreesRegressor to analyze if the features that we are left with are relavent or not"
      ]
    },
    {
      "cell_type": "code",
      "execution_count": null,
      "metadata": {
        "colab": {
          "base_uri": "https://localhost:8080/"
        },
        "id": "NRCTXR0NTWTm",
        "outputId": "ac0aa87f-84f2-4ee9-aa2c-b5bb2f7065b0"
      },
      "outputs": [
        {
          "data": {
            "text/plain": [
              "ExtraTreesRegressor()"
            ]
          },
          "execution_count": 285,
          "metadata": {},
          "output_type": "execute_result"
        }
      ],
      "source": [
        "imp_feature = ExtraTreesRegressor()\n",
        "imp_feature.fit(train_samp,test_samp.values.ravel())"
      ]
    },
    {
      "cell_type": "markdown",
      "metadata": {
        "id": "jHsyMg-lc78s"
      },
      "source": [
        "Based on the plot we can see that the features we chose to be the final ones seem to be relavent to the target variable."
      ]
    },
    {
      "cell_type": "code",
      "execution_count": null,
      "metadata": {
        "colab": {
          "base_uri": "https://localhost:8080/",
          "height": 265
        },
        "id": "UPq_Vx5uTj29",
        "outputId": "21b21241-4a1f-414f-8d0d-fab88dbc1e77"
      },
      "outputs": [
        {
          "data": {
            "image/png": "[encoded data removed]",
            "text/plain": [
              "<Figure size 432x288 with 1 Axes>"
            ]
          },
          "metadata": {
            "needs_background": "light"
          },
          "output_type": "display_data"
        }
      ],
      "source": [
        "Relevancy_of_features= pd.Series(imp_feature.feature_importances_, index=train_samp.columns)\n",
        "Relevancy_of_features.nlargest(11).plot(kind='barh')\n",
        "plt.show()"
      ]
    },
    {
      "cell_type": "markdown",
      "metadata": {
        "id": "VtzUmIN6dJ5q"
      },
      "source": [
        "Hence now we proceed in splitting our data for application of our model to it."
      ]
    },
    {
      "cell_type": "code",
      "execution_count": null,
      "metadata": {
        "id": "qhKyqf0i6gRv"
      },
      "outputs": [],
      "source": [
        "Initial_train, Initial_test, Dev_train, Dev_test = train_test_split(train_samp, test_samp, test_size=0.3, random_state=42)"
      ]
    },
    {
      "cell_type": "markdown",
      "metadata": {
        "id": "9XgAwux26AIO"
      },
      "source": [
        "# **Models Applied for Analysis** "
      ]
    },
    {
      "cell_type": "markdown",
      "metadata": {
        "id": "CTTWBH076I1c"
      },
      "source": [
        "**1.Gaussian Naive Bayse**"
      ]
    },
    {
      "cell_type": "markdown",
      "metadata": {
        "id": "1y-Nx6BSfG4s"
      },
      "source": [
        "We are using Gaussian NB as we have classified our data categorically."
      ]
    },
    {
      "cell_type": "code",
      "execution_count": null,
      "metadata": {
        "colab": {
          "base_uri": "https://localhost:8080/"
        },
        "id": "iEQOx20lfaBG",
        "outputId": "2ba3e14c-f388-4e12-94ae-cb942ed6e6d7"
      },
      "outputs": [
        {
          "data": {
            "text/plain": [
              "GaussianNB()"
            ]
          },
          "execution_count": 288,
          "metadata": {},
          "output_type": "execute_result"
        }
      ],
      "source": [
        "Gaussian_Classifier_applied = GaussianNB()\n",
        "Gaussian_Classifier_applied.fit(Initial_train,Dev_train)"
      ]
    },
    {
      "cell_type": "code",
      "execution_count": null,
      "metadata": {
        "id": "5ySQz_KUydS0"
      },
      "outputs": [],
      "source": [
        "Gaussian_Classifier_applied = GaussianNB()\n",
        "Gaussian_Classifier_applied.fit(Initial_train,Dev_train)"
      ]
    },
    {
      "cell_type": "markdown",
      "metadata": {
        "id": "I02OcMZJga-R"
      },
      "source": [
        "The accuracies attained by applying Gaussian Naive Bayes to our data"
      ]
    },
    {
      "cell_type": "code",
      "execution_count": null,
      "metadata": {
        "colab": {
          "base_uri": "https://localhost:8080/"
        },
        "id": "yOGpLPnagaqf",
        "outputId": "84c5a030-bc98-4403-8fe5-6f3265e3565f"
      },
      "outputs": [
        {
          "name": "stdout",
          "output_type": "stream",
          "text": [
            "Train Accuracy = 0.6272024729520865\n",
            "Test Accuracy = 0.624317362184441\n"
          ]
        }
      ],
      "source": [
        "print(\"Train Accuracy =\",Gaussian_Classifier_applied.score(Initial_train,Dev_train))\n",
        "print(\"Test Accuracy =\",Gaussian_Classifier_applied.score(Initial_test,Dev_test))"
      ]
    },
    {
      "cell_type": "markdown",
      "metadata": {
        "id": "P-mbOe6ugbbW"
      },
      "source": [
        "Confusion Matrix and Classification report of the classifier fit."
      ]
    },
    {
      "cell_type": "code",
      "execution_count": null,
      "metadata": {
        "colab": {
          "base_uri": "https://localhost:8080/"
        },
        "id": "mKRAfAEpgaej",
        "outputId": "028ba26c-61a6-4996-dca4-bfbaf9f50c70"
      },
      "outputs": [
        {
          "name": "stdout",
          "output_type": "stream",
          "text": [
            "Confusion Matrix\n",
            "[[4389  489]\n",
            " [3157 1670]]\n",
            "-------------------------------------------------------------------------------------\n",
            "Classification Report\n",
            "              precision    recall  f1-score   support\n",
            "\n",
            "           0       0.58      0.90      0.71      4878\n",
            "           1       0.77      0.35      0.48      4827\n",
            "\n",
            "    accuracy                           0.62      9705\n",
            "   macro avg       0.68      0.62      0.59      9705\n",
            "weighted avg       0.68      0.62      0.59      9705\n",
            "\n"
          ]
        }
      ],
      "source": [
        "target_pred = Gaussian_Classifier_applied.predict(Initial_test)\n",
        "print(\"Confusion Matrix\")\n",
        "print(confusion_matrix(Dev_test, target_pred))\n",
        "print(\"-------------------------------------------------------------------------------------\")\n",
        "print(\"Classification Report\")\n",
        "print(classification_report(Dev_test, target_pred))"
      ]
    },
    {
      "cell_type": "markdown",
      "metadata": {
        "id": "qnwGDOF2haBF"
      },
      "source": [
        "Tunning the model and attaining better results"
      ]
    },
    {
      "cell_type": "code",
      "execution_count": null,
      "metadata": {
        "colab": {
          "base_uri": "https://localhost:8080/"
        },
        "id": "WNyBe6v0R13K",
        "outputId": "147fcd86-a257-4aaf-abda-a7378868c407"
      },
      "outputs": [
        {
          "name": "stdout",
          "output_type": "stream",
          "text": [
            "Fitting 5 folds for each of 3 candidates, totalling 15 fits\n",
            "{'var_smoothing': 1e-08}\n"
          ]
        }
      ],
      "source": [
        "params_NB = {'var_smoothing': [0.00000001, 0.000000001, 0.00000001]}\n",
        "\n",
        "\n",
        "nb = GaussianNB()\n",
        "tuned_Gaussian = GridSearchCV(estimator=nb, param_grid=params_NB, cv=5, verbose=1, n_jobs=4)\n",
        "tuned_Gaussian.fit(Initial_train,Dev_train)\n",
        "print(tuned_Gaussian.best_params_)"
      ]
    },
    {
      "cell_type": "code",
      "execution_count": null,
      "metadata": {
        "colab": {
          "base_uri": "https://localhost:8080/"
        },
        "id": "q3AGSie3SkMI",
        "outputId": "f0f9be4e-44dd-4025-e86c-8c37eb013fca"
      },
      "outputs": [
        {
          "name": "stdout",
          "output_type": "stream",
          "text": [
            "Train Accuracy = 0.6352837270920733\n",
            "Test Accuracy = 0.6346213292117465\n"
          ]
        }
      ],
      "source": [
        "print(\"Train Accuracy =\",tuned_Gaussian.score(Initial_train,Dev_train))\n",
        "print(\"Test Accuracy =\",tuned_Gaussian.score(Initial_test,Dev_test))"
      ]
    },
    {
      "cell_type": "markdown",
      "metadata": {
        "id": "TPoG7ybSVI7S"
      },
      "source": [
        "Confusion Matrix and Classification report of the classifier fit."
      ]
    },
    {
      "cell_type": "code",
      "execution_count": null,
      "metadata": {
        "colab": {
          "base_uri": "https://localhost:8080/"
        },
        "id": "z0tv_djcSr55",
        "outputId": "c41e939d-9b96-4488-ab6c-4dbe3a06c5c0"
      },
      "outputs": [
        {
          "name": "stdout",
          "output_type": "stream",
          "text": [
            "Confusion Matrix\n",
            "[[4312  566]\n",
            " [2980 1847]]\n",
            "-------------------------------------------------------------------------------------\n",
            "Classification Report\n",
            "              precision    recall  f1-score   support\n",
            "\n",
            "           0       0.59      0.88      0.71      4878\n",
            "           1       0.77      0.38      0.51      4827\n",
            "\n",
            "    accuracy                           0.63      9705\n",
            "   macro avg       0.68      0.63      0.61      9705\n",
            "weighted avg       0.68      0.63      0.61      9705\n",
            "\n"
          ]
        }
      ],
      "source": [
        "target_pred = tuned_Gaussian.predict(Initial_test)\n",
        "print(\"Confusion Matrix\")\n",
        "print(confusion_matrix(Dev_test, target_pred))\n",
        "print(\"-------------------------------------------------------------------------------------\")\n",
        "print(\"Classification Report\")\n",
        "print(classification_report(Dev_test, target_pred))"
      ]
    },
    {
      "cell_type": "markdown",
      "metadata": {
        "id": "CUjmabOlg7qa"
      },
      "source": [
        "2.Logistic Regression"
      ]
    },
    {
      "cell_type": "markdown",
      "metadata": {
        "id": "xOol7xvFhBmP"
      },
      "source": [
        "A logistic regression is actually a classification technique that uses certain independent variables to calculate the probability of a categorical output."
      ]
    },
    {
      "cell_type": "code",
      "execution_count": null,
      "metadata": {
        "colab": {
          "base_uri": "https://localhost:8080/"
        },
        "id": "9gTfrdRchq_f",
        "outputId": "5b7b300d-675c-4280-c921-3dfc7c95f96d"
      },
      "outputs": [
        {
          "data": {
            "text/plain": [
              "LogisticRegression()"
            ]
          },
          "execution_count": 323,
          "metadata": {},
          "output_type": "execute_result"
        }
      ],
      "source": [
        "Logistic_Classifier_applied = LogisticRegression()\n",
        "Logistic_Classifier_applied.fit(Initial_train,Dev_train)"
      ]
    },
    {
      "cell_type": "code",
      "execution_count": null,
      "metadata": {
        "colab": {
          "base_uri": "https://localhost:8080/"
        },
        "id": "kHhmCOdz19RE",
        "outputId": "325e6a87-8659-433a-a18c-9be8e0b20494"
      },
      "outputs": [
        {
          "name": "stdout",
          "output_type": "stream",
          "text": [
            "Train Accuracy = 0.49887392360344446\n",
            "Test Accuracy = 0.502627511591963\n"
          ]
        }
      ],
      "source": [
        "print(\"Train Accuracy =\",Logistic_Classifier_applied.score(Initial_train,Dev_train))\n",
        "print(\"Test Accuracy =\",Logistic_Classifier_applied.score(Initial_test,Dev_test))"
      ]
    },
    {
      "cell_type": "markdown",
      "metadata": {
        "id": "d7v7I-HVVLJe"
      },
      "source": [
        "Confusion Matrix and Classification report of the classifier fit."
      ]
    },
    {
      "cell_type": "code",
      "execution_count": null,
      "metadata": {
        "colab": {
          "base_uri": "https://localhost:8080/"
        },
        "id": "1icJ9MQch4yP",
        "outputId": "b73f63c4-351c-4de6-8bab-b7890c1c62c7"
      },
      "outputs": [
        {
          "name": "stdout",
          "output_type": "stream",
          "text": [
            "Confusion Matrix\n",
            "[[4878    0]\n",
            " [4827    0]]\n",
            "-------------------------------------------------------------------------------------\n",
            "Classification Report\n",
            "              precision    recall  f1-score   support\n",
            "\n",
            "           0       0.50      1.00      0.67      4878\n",
            "           1       0.00      0.00      0.00      4827\n",
            "\n",
            "    accuracy                           0.50      9705\n",
            "   macro avg       0.25      0.50      0.33      9705\n",
            "weighted avg       0.25      0.50      0.34      9705\n",
            "\n"
          ]
        }
      ],
      "source": [
        "target_pred = Logistic_Classifier_applied.predict(Initial_test)\n",
        "print(\"Confusion Matrix\")\n",
        "print(confusion_matrix(Dev_test, target_pred))\n",
        "print(\"-------------------------------------------------------------------------------------\")\n",
        "print(\"Classification Report\")\n",
        "print(classification_report(Dev_test, target_pred))"
      ]
    },
    {
      "cell_type": "markdown",
      "metadata": {
        "id": "mOyUWEvu4Ve1"
      },
      "source": [
        "Tunning the model and attaining better results "
      ]
    },
    {
      "cell_type": "code",
      "execution_count": null,
      "metadata": {
        "colab": {
          "base_uri": "https://localhost:8080/"
        },
        "id": "aJmSlawxygbF",
        "outputId": "9e5b5dab-ccd8-4038-f37b-d6b2acc4b561"
      },
      "outputs": [
        {
          "name": "stdout",
          "output_type": "stream",
          "text": [
            "Fitting 5 folds for each of 20 candidates, totalling 100 fits\n",
            "{'C': 0.01, 'penalty': 'l1', 'solver': 'liblinear'}\n"
          ]
        }
      ],
      "source": [
        "param_log_grid = {\n",
        "    'penalty': ['l1','l2'],\n",
        "    'C' :[0.1,0.01,0.001,0.0001,0.00001],\n",
        "    'solver' :['liblinear','saga']\n",
        "}\n",
        "\n",
        "\n",
        "lr = LogisticRegression(random_state=42)\n",
        "tuned_logistic_regressor = GridSearchCV(estimator=lr, param_grid=param_log_grid, cv=5, verbose=1, n_jobs=4)\n",
        "tuned_logistic_regressor.fit(Initial_train,Dev_train)\n",
        "print(tuned_logistic_regressor.best_params_)"
      ]
    },
    {
      "cell_type": "code",
      "execution_count": null,
      "metadata": {
        "colab": {
          "base_uri": "https://localhost:8080/"
        },
        "id": "Wvc5b72Dh48M",
        "outputId": "7da0caf5-27db-4c10-9517-9184eb651337"
      },
      "outputs": [
        {
          "name": "stdout",
          "output_type": "stream",
          "text": [
            "Train Accuracy = 0.7208213733716052\n",
            "Test Accuracy = 0.7259144770736734\n"
          ]
        }
      ],
      "source": [
        "print(\"Train Accuracy =\",tuned_logistic_regressor.score(Initial_train,Dev_train))\n",
        "print(\"Test Accuracy =\",tuned_logistic_regressor.score(Initial_test,Dev_test))"
      ]
    },
    {
      "cell_type": "markdown",
      "metadata": {
        "id": "fs6Pi-XVVSCR"
      },
      "source": [
        "Confusion Matrix and Classification report of the classifier fit."
      ]
    },
    {
      "cell_type": "code",
      "execution_count": null,
      "metadata": {
        "colab": {
          "base_uri": "https://localhost:8080/"
        },
        "id": "It_fI9F74bJg",
        "outputId": "95bb7408-eb65-4504-847f-859245997463"
      },
      "outputs": [
        {
          "name": "stdout",
          "output_type": "stream",
          "text": [
            "Confusion Matrix\n",
            "[[3864 1014]\n",
            " [1646 3181]]\n",
            "-------------------------------------------------------------------------------------\n",
            "Classification Report\n",
            "              precision    recall  f1-score   support\n",
            "\n",
            "           0       0.70      0.79      0.74      4878\n",
            "           1       0.76      0.66      0.71      4827\n",
            "\n",
            "    accuracy                           0.73      9705\n",
            "   macro avg       0.73      0.73      0.72      9705\n",
            "weighted avg       0.73      0.73      0.72      9705\n",
            "\n"
          ]
        }
      ],
      "source": [
        "target_pred = tuned_logistic_regressor.predict(Initial_test)\n",
        "print(\"Confusion Matrix\")\n",
        "print(confusion_matrix(Dev_test, target_pred))\n",
        "print(\"-------------------------------------------------------------------------------------\")\n",
        "print(\"Classification Report\")\n",
        "print(classification_report(Dev_test, target_pred))"
      ]
    },
    {
      "cell_type": "markdown",
      "metadata": {
        "id": "lMufraQKitEO"
      },
      "source": [
        "3.Decision Tree"
      ]
    },
    {
      "cell_type": "markdown",
      "metadata": {
        "id": "44cORzcni68R"
      },
      "source": [
        "A decision tree splits data into a series of binary decisions. These decisions allow you to traverse down the tree based on these choices. After making all your decisions, you will arrive at a leaf node, from which you will obtain your predicted classification."
      ]
    },
    {
      "cell_type": "code",
      "execution_count": null,
      "metadata": {
        "colab": {
          "base_uri": "https://localhost:8080/"
        },
        "id": "s6sqdf9uihqq",
        "outputId": "c4caeae2-0668-4f6d-cb0a-897975aa9bb5"
      },
      "outputs": [
        {
          "data": {
            "text/plain": [
              "DecisionTreeClassifier()"
            ]
          },
          "execution_count": 294,
          "metadata": {},
          "output_type": "execute_result"
        }
      ],
      "source": [
        "DecissionTree_Classifier_applied = DecisionTreeClassifier()\n",
        "DecissionTree_Classifier_applied.fit(Initial_train,Dev_train)"
      ]
    },
    {
      "cell_type": "code",
      "execution_count": null,
      "metadata": {
        "colab": {
          "base_uri": "https://localhost:8080/"
        },
        "id": "sekgQfotihiQ",
        "outputId": "78027b0c-3500-4c2e-d280-dd94ffeccaa1"
      },
      "outputs": [
        {
          "name": "stdout",
          "output_type": "stream",
          "text": [
            "Train Accuracy = 0.8719805696621771\n",
            "Test Accuracy = 0.8279237506439979\n"
          ]
        }
      ],
      "source": [
        "print(\"Train Accuracy =\",DecissionTree_Classifier_applied.score(Initial_train,Dev_train))\n",
        "print(\"Test Accuracy =\",DecissionTree_Classifier_applied.score(Initial_test,Dev_test))"
      ]
    },
    {
      "cell_type": "markdown",
      "metadata": {
        "id": "ck6GzwpbVmes"
      },
      "source": [
        "\n",
        "Confusion Matrix and Classification report of the classifier fit."
      ]
    },
    {
      "cell_type": "code",
      "execution_count": null,
      "metadata": {
        "colab": {
          "base_uri": "https://localhost:8080/"
        },
        "id": "z8okACf8ihLY",
        "outputId": "5254c594-fa87-446e-916a-eaf347250e00"
      },
      "outputs": [
        {
          "name": "stdout",
          "output_type": "stream",
          "text": [
            "Confusion Matrix\n",
            "[[4542  336]\n",
            " [1334 3493]]\n",
            "-------------------------------------------------------------------------------------\n",
            "Classification Report\n",
            "              precision    recall  f1-score   support\n",
            "\n",
            "           0       0.77      0.93      0.84      4878\n",
            "           1       0.91      0.72      0.81      4827\n",
            "\n",
            "    accuracy                           0.83      9705\n",
            "   macro avg       0.84      0.83      0.83      9705\n",
            "weighted avg       0.84      0.83      0.83      9705\n",
            "\n"
          ]
        }
      ],
      "source": [
        "target_pred = DecissionTree_Classifier_applied.predict(Initial_test)\n",
        "print(\"Confusion Matrix\")\n",
        "print(confusion_matrix(Dev_test, target_pred))\n",
        "print(\"-------------------------------------------------------------------------------------\")\n",
        "print(\"Classification Report\")\n",
        "print(classification_report(Dev_test, target_pred))"
      ]
    },
    {
      "cell_type": "markdown",
      "metadata": {
        "id": "Geg3lLrz4iOU"
      },
      "source": [
        "Tunning the model using grid-search for better results"
      ]
    },
    {
      "cell_type": "code",
      "execution_count": null,
      "metadata": {
        "colab": {
          "base_uri": "https://localhost:8080/"
        },
        "id": "EiYEYC5m4mAa",
        "outputId": "83ff73f5-9bcc-4535-bd24-e0cc58670943"
      },
      "outputs": [
        {
          "name": "stdout",
          "output_type": "stream",
          "text": [
            "Fitting 5 folds for each of 1764 candidates, totalling 8820 fits\n",
            "{'criterion': 'gini', 'max_features': 'auto', 'max_leaf_nodes': 97, 'min_samples_split': 2}\n"
          ]
        }
      ],
      "source": [
        "param_grid={'criterion':['gini','entropy'],'max_features': ['auto', 'sqrt', 'log2'],'max_leaf_nodes': list(range(2, 100)), 'min_samples_split': [2, 3, 4]}\n",
        "\n",
        "\n",
        "dt = DecisionTreeClassifier(random_state=42)\n",
        "tuned_Decision_Tree = GridSearchCV(estimator=dt, param_grid=param_grid, cv=5, verbose=1, n_jobs=4)\n",
        "tuned_Decision_Tree.fit(Initial_train,Dev_train)\n",
        "print(tuned_Decision_Tree.best_params_)"
      ]
    },
    {
      "cell_type": "code",
      "execution_count": null,
      "metadata": {
        "colab": {
          "base_uri": "https://localhost:8080/"
        },
        "id": "zcuMWeC84h6B",
        "outputId": "27ecf601-4283-4c5e-a2eb-5634fd637ffc"
      },
      "outputs": [
        {
          "name": "stdout",
          "output_type": "stream",
          "text": [
            "Train Accuracy = 0.7677191432987415\n",
            "Test Accuracy = 0.7697063369397218\n"
          ]
        }
      ],
      "source": [
        "print(\"Train Accuracy =\",tuned_Decision_Tree.score(Initial_train,Dev_train))\n",
        "print(\"Test Accuracy =\",tuned_Decision_Tree.score(Initial_test,Dev_test))"
      ]
    },
    {
      "cell_type": "markdown",
      "metadata": {
        "id": "oBKyDp4hVyZA"
      },
      "source": [
        "Confusion Matrix and Classification report of the classifier fit."
      ]
    },
    {
      "cell_type": "code",
      "execution_count": null,
      "metadata": {
        "colab": {
          "base_uri": "https://localhost:8080/"
        },
        "id": "1y6asPIz5jhO",
        "outputId": "177b09fe-1711-4d0c-f050-c587ecb869de"
      },
      "outputs": [
        {
          "name": "stdout",
          "output_type": "stream",
          "text": [
            "Confusion Matrix\n",
            "[[4107  771]\n",
            " [1464 3363]]\n",
            "-------------------------------------------------------------------------------------\n",
            "Classification Report\n",
            "              precision    recall  f1-score   support\n",
            "\n",
            "           0       0.74      0.84      0.79      4878\n",
            "           1       0.81      0.70      0.75      4827\n",
            "\n",
            "    accuracy                           0.77      9705\n",
            "   macro avg       0.78      0.77      0.77      9705\n",
            "weighted avg       0.78      0.77      0.77      9705\n",
            "\n"
          ]
        }
      ],
      "source": [
        "target_pred = tuned_Decision_Tree.predict(Initial_test)\n",
        "print(\"Confusion Matrix\")\n",
        "print(confusion_matrix(Dev_test, target_pred))\n",
        "print(\"-------------------------------------------------------------------------------------\")\n",
        "print(\"Classification Report\")\n",
        "print(classification_report(Dev_test, target_pred))"
      ]
    },
    {
      "cell_type": "markdown",
      "metadata": {
        "id": "n-FxGmZgi4iG"
      },
      "source": [
        "4.Random Classifier"
      ]
    },
    {
      "cell_type": "code",
      "execution_count": null,
      "metadata": {
        "colab": {
          "base_uri": "https://localhost:8080/"
        },
        "id": "8Rirx6HMjUD8",
        "outputId": "3643850f-6a2e-4497-8ce4-1e9f099ffc40"
      },
      "outputs": [
        {
          "data": {
            "text/plain": [
              "RandomForestClassifier()"
            ]
          },
          "execution_count": 297,
          "metadata": {},
          "output_type": "execute_result"
        }
      ],
      "source": [
        "RandomForest_Classifier_applied = RandomForestClassifier()\n",
        "RandomForest_Classifier_applied.fit(Initial_train,Dev_train)"
      ]
    },
    {
      "cell_type": "code",
      "execution_count": null,
      "metadata": {
        "colab": {
          "base_uri": "https://localhost:8080/"
        },
        "id": "l2Q9DpQtja5t",
        "outputId": "e93ff006-a583-4b58-af9c-be904d036c46"
      },
      "outputs": [
        {
          "name": "stdout",
          "output_type": "stream",
          "text": [
            "Train Accuracy = 0.8719805696621771\n",
            "Test Accuracy = 0.8457496136012365\n"
          ]
        }
      ],
      "source": [
        "print(\"Train Accuracy =\",RandomForest_Classifier_applied.score(Initial_train,Dev_train))\n",
        "print(\"Test Accuracy =\",RandomForest_Classifier_applied.score(Initial_test,Dev_test))"
      ]
    },
    {
      "cell_type": "markdown",
      "metadata": {
        "id": "u6yYaz6UWcR4"
      },
      "source": [
        "Confusion Matrix and Classification report of the classifier fit."
      ]
    },
    {
      "cell_type": "code",
      "execution_count": null,
      "metadata": {
        "colab": {
          "base_uri": "https://localhost:8080/"
        },
        "id": "XhMNva06jgPH",
        "outputId": "21777290-33f6-4904-928b-919762683c80"
      },
      "outputs": [
        {
          "name": "stdout",
          "output_type": "stream",
          "text": [
            "Confusion Matrix\n",
            "[[4491  387]\n",
            " [1110 3717]]\n",
            "-------------------------------------------------------------------------------------\n",
            "Classification Report\n",
            "              precision    recall  f1-score   support\n",
            "\n",
            "           0       0.80      0.92      0.86      4878\n",
            "           1       0.91      0.77      0.83      4827\n",
            "\n",
            "    accuracy                           0.85      9705\n",
            "   macro avg       0.85      0.85      0.84      9705\n",
            "weighted avg       0.85      0.85      0.84      9705\n",
            "\n"
          ]
        }
      ],
      "source": [
        "target_pred = RandomForest_Classifier_applied.predict(Initial_test)\n",
        "print(\"Confusion Matrix\")\n",
        "print(confusion_matrix(Dev_test, target_pred))\n",
        "print(\"-------------------------------------------------------------------------------------\")\n",
        "print(\"Classification Report\")\n",
        "print(classification_report(Dev_test, target_pred))"
      ]
    },
    {
      "cell_type": "markdown",
      "metadata": {
        "id": "fMyGnB7nXBfG"
      },
      "source": [
        "Tunning the model for better results"
      ]
    },
    {
      "cell_type": "code",
      "execution_count": null,
      "metadata": {
        "colab": {
          "base_uri": "https://localhost:8080/"
        },
        "id": "uwK9SFAG_L00",
        "outputId": "ce1ee91b-a1bf-49b8-eb7f-8f861b356fb1"
      },
      "outputs": [
        {
          "name": "stdout",
          "output_type": "stream",
          "text": [
            "Fitting 5 folds for each of 18 candidates, totalling 90 fits\n",
            "{'criterion': 'gini', 'max_features': 'auto', 'n_estimators': 500}\n"
          ]
        }
      ],
      "source": [
        "param_rc_grid = { \n",
        "    'n_estimators': [300, 400, 500],\n",
        "    'max_features': ['auto', 'sqrt', 'log2'],\n",
        "    'criterion' :['gini', 'entropy']\n",
        "}\n",
        "\n",
        "rfc = RandomForestClassifier(random_state=42)\n",
        "tuned_Random_Forest = GridSearchCV(estimator=rfc, param_grid=param_rc_grid, cv=5, verbose=1, n_jobs=4)\n",
        "tuned_Random_Forest.fit(Initial_train,Dev_train)\n",
        "print(tuned_Random_Forest.best_params_)"
      ]
    },
    {
      "cell_type": "code",
      "execution_count": null,
      "metadata": {
        "colab": {
          "base_uri": "https://localhost:8080/"
        },
        "id": "lLPBMSR6_Lr5",
        "outputId": "ff174f9e-e0ba-4538-b422-8e9b4644d357"
      },
      "outputs": [
        {
          "name": "stdout",
          "output_type": "stream",
          "text": [
            "Train Accuracy = 0.8719805696621771\n",
            "Test Accuracy = 0.8447192168985059\n"
          ]
        }
      ],
      "source": [
        "print(\"Train Accuracy =\",tuned_Random_Forest.score(Initial_train,Dev_train))\n",
        "print(\"Test Accuracy =\",tuned_Random_Forest.score(Initial_test,Dev_test))"
      ]
    },
    {
      "cell_type": "markdown",
      "metadata": {
        "id": "-FVMnWqeWf9k"
      },
      "source": [
        "Confusion Matrix and Classification report of the classifier fit."
      ]
    },
    {
      "cell_type": "code",
      "execution_count": null,
      "metadata": {
        "colab": {
          "base_uri": "https://localhost:8080/"
        },
        "id": "tWf01D1o_Ln-",
        "outputId": "55ecab97-1b3f-41dd-cd79-6f79a4e002d9"
      },
      "outputs": [
        {
          "name": "stdout",
          "output_type": "stream",
          "text": [
            "Confusion Matrix\n",
            "[[4473  405]\n",
            " [1102 3725]]\n",
            "-------------------------------------------------------------------------------------\n",
            "Classification Report\n",
            "              precision    recall  f1-score   support\n",
            "\n",
            "           0       0.80      0.92      0.86      4878\n",
            "           1       0.90      0.77      0.83      4827\n",
            "\n",
            "    accuracy                           0.84      9705\n",
            "   macro avg       0.85      0.84      0.84      9705\n",
            "weighted avg       0.85      0.84      0.84      9705\n",
            "\n"
          ]
        }
      ],
      "source": [
        "target_pred = tuned_Random_Forest.predict(Initial_test)\n",
        "print(\"Confusion Matrix\")\n",
        "print(confusion_matrix(Dev_test, target_pred))\n",
        "print(\"-------------------------------------------------------------------------------------\")\n",
        "print(\"Classification Report\")\n",
        "print(classification_report(Dev_test, target_pred))"
      ]
    },
    {
      "cell_type": "markdown",
      "metadata": {
        "id": "1t7TIEcCkgmj"
      },
      "source": [
        "5.Neural Network"
      ]
    },
    {
      "cell_type": "code",
      "execution_count": null,
      "metadata": {
        "colab": {
          "base_uri": "https://localhost:8080/"
        },
        "id": "vFbIavqTkgRd",
        "outputId": "6a463e70-a658-40d0-e597-a317dc967cd7"
      },
      "outputs": [
        {
          "data": {
            "text/plain": [
              "MLPClassifier()"
            ]
          },
          "execution_count": 300,
          "metadata": {},
          "output_type": "execute_result"
        }
      ],
      "source": [
        "MPL_Classifier_applied = MLPClassifier()\n",
        "MPL_Classifier_applied.fit(Initial_train,Dev_train)"
      ]
    },
    {
      "cell_type": "code",
      "execution_count": null,
      "metadata": {
        "colab": {
          "base_uri": "https://localhost:8080/"
        },
        "id": "j4DVAPUIku1D",
        "outputId": "8b221b47-4b37-4120-df29-7fde6c676efb"
      },
      "outputs": [
        {
          "name": "stdout",
          "output_type": "stream",
          "text": [
            "Train Accuracy = 0.5011260763965555\n",
            "Test Accuracy = 0.4973724884080371\n"
          ]
        }
      ],
      "source": [
        "print(\"Train Accuracy =\",MPL_Classifier_applied.score(Initial_train,Dev_train))\n",
        "print(\"Test Accuracy =\",MPL_Classifier_applied.score(Initial_test,Dev_test))"
      ]
    },
    {
      "cell_type": "code",
      "execution_count": null,
      "metadata": {
        "colab": {
          "base_uri": "https://localhost:8080/"
        },
        "id": "iqQgUJ8Akxe0",
        "outputId": "d2fefe65-0b01-49e2-db99-bb7f13b43da4"
      },
      "outputs": [
        {
          "name": "stdout",
          "output_type": "stream",
          "text": [
            "Confusion Matrix\n",
            "[[   0 4878]\n",
            " [   0 4827]]\n",
            "-------------------------------------------------------------------------------------\n",
            "Classification Report\n",
            "              precision    recall  f1-score   support\n",
            "\n",
            "           0       0.00      0.00      0.00      4878\n",
            "           1       0.50      1.00      0.66      4827\n",
            "\n",
            "    accuracy                           0.50      9705\n",
            "   macro avg       0.25      0.50      0.33      9705\n",
            "weighted avg       0.25      0.50      0.33      9705\n",
            "\n"
          ]
        }
      ],
      "source": [
        "target_pred = MPL_Classifier_applied.predict(Initial_test)\n",
        "print(\"Confusion Matrix\")\n",
        "print(confusion_matrix(Dev_test, target_pred))\n",
        "print(\"-------------------------------------------------------------------------------------\")\n",
        "print(\"Classification Report\")\n",
        "print(classification_report(Dev_test, target_pred))"
      ]
    },
    {
      "cell_type": "markdown",
      "metadata": {
        "id": "AhbGp9iM_p6L"
      },
      "source": [
        "Tunning the model and attaining better results"
      ]
    },
    {
      "cell_type": "code",
      "execution_count": null,
      "metadata": {
        "colab": {
          "base_uri": "https://localhost:8080/"
        },
        "id": "ysUxwsAj_Iy5",
        "outputId": "942a106a-61d8-4e20-91ad-ac9e5b36aacc"
      },
      "outputs": [
        {
          "name": "stdout",
          "output_type": "stream",
          "text": [
            "Fitting 5 folds for each of 36 candidates, totalling 180 fits\n",
            "{'activation': 'tanh', 'learning_rate': 'constant', 'solver': 'lbfgs'}\n"
          ]
        }
      ],
      "source": [
        "param_grid = { \n",
        "    'learning_rate':['constant','invscaling','adaptive'],\n",
        "    'solver':['lbfgs','sgd','adam'],\n",
        "    'activation':['identity','logistic','tanh','relu']\n",
        "}\n",
        "\n",
        "mlp = MLPClassifier(random_state=42)\n",
        "tuned_mlp = GridSearchCV(estimator=mlp, param_grid=param_grid, cv=5, verbose=1, n_jobs=4)\n",
        "tuned_mlp.fit(Initial_train,Dev_train)\n",
        "print(tuned_mlp.best_params_)"
      ]
    },
    {
      "cell_type": "code",
      "execution_count": null,
      "metadata": {
        "colab": {
          "base_uri": "https://localhost:8080/"
        },
        "id": "Sc5ogQRE_IsC",
        "outputId": "4cf259e0-5073-4984-9a83-3293e77c9c04"
      },
      "outputs": [
        {
          "name": "stdout",
          "output_type": "stream",
          "text": [
            "Train Accuracy = 0.6064914992272025\n",
            "Test Accuracy = 0.6015455950540958\n"
          ]
        }
      ],
      "source": [
        "print(\"Train Accuracy =\",tuned_mlp.score(Initial_train,Dev_train))\n",
        "print(\"Test Accuracy =\",tuned_mlp.score(Initial_test,Dev_test))"
      ]
    },
    {
      "cell_type": "markdown",
      "metadata": {
        "id": "MHoziCmwW-9o"
      },
      "source": [
        "Confusion Matrix and Classification report of the classifier fit."
      ]
    },
    {
      "cell_type": "code",
      "execution_count": null,
      "metadata": {
        "colab": {
          "base_uri": "https://localhost:8080/"
        },
        "id": "4N3I2Y5V_IjG",
        "outputId": "6778201a-2aa5-4e5d-ef96-50074db62ba6"
      },
      "outputs": [
        {
          "name": "stdout",
          "output_type": "stream",
          "text": [
            "Confusion Matrix\n",
            "[[4441  437]\n",
            " [3430 1397]]\n",
            "-------------------------------------------------------------------------------------\n",
            "Classification Report\n",
            "              precision    recall  f1-score   support\n",
            "\n",
            "           0       0.56      0.91      0.70      4878\n",
            "           1       0.76      0.29      0.42      4827\n",
            "\n",
            "    accuracy                           0.60      9705\n",
            "   macro avg       0.66      0.60      0.56      9705\n",
            "weighted avg       0.66      0.60      0.56      9705\n",
            "\n"
          ]
        }
      ],
      "source": [
        "target_pred = tuned_mlp.predict(Initial_test)\n",
        "print(\"Confusion Matrix\")\n",
        "print(confusion_matrix(Dev_test, target_pred))\n",
        "print(\"-------------------------------------------------------------------------------------\")\n",
        "print(\"Classification Report\")\n",
        "print(classification_report(Dev_test, target_pred))"
      ]
    },
    {
      "cell_type": "markdown",
      "metadata": {
        "id": "9QQk9aDQlK1t"
      },
      "source": [
        "# Analysis of the true positives and false negatives"
      ]
    },
    {
      "cell_type": "code",
      "execution_count": null,
      "metadata": {
        "id": "neh5sDmU-lJI"
      },
      "outputs": [],
      "source": [
        "#References were taken from the web for better understand the ROC curve build it and acquire required results.\n",
        "\n",
        "All_the_models_used = [RandomForestClassifier(),GaussianNB(),LogisticRegression(),\n",
        "               DecisionTreeClassifier(), MLPClassifier()]"
      ]
    },
    {
      "cell_type": "code",
      "execution_count": null,
      "metadata": {
        "id": "RGSQHxVw_ae2"
      },
      "outputs": [],
      "source": [
        "result = pd.DataFrame(columns=['classifiers', 'fpr','tpr','auc'])\n",
        "for classifier in All_the_models_used:\n",
        "    model_applied = classifier.fit(Initial_train, Dev_train)\n",
        "    target_proba = model_applied.predict_proba(Initial_test)[:,1]\n",
        "    \n",
        "    fpr, tpr, _ = roc_curve(Dev_test,  target_proba)\n",
        "    auc = roc_auc_score(Dev_test, target_proba)\n",
        "    \n",
        "    result = result.append({'classifiers':classifier.__class__.__name__,\n",
        "                                        'fpr':fpr, \n",
        "                                        'tpr':tpr, \n",
        "                                        'auc':auc}, ignore_index=True)\n",
        "    \n"
      ]
    },
    {
      "cell_type": "code",
      "execution_count": null,
      "metadata": {
        "colab": {
          "base_uri": "https://localhost:8080/"
        },
        "id": "9WI8m9cVC77x",
        "outputId": "ea25d5ab-1669-4fa1-ea93-2437be575ef2"
      },
      "outputs": [
        {
          "data": {
            "text/plain": [
              "['RandomForestClassifier',\n",
              " 'GaussianNB',\n",
              " 'LogisticRegression',\n",
              " 'DecisionTreeClassifier',\n",
              " 'MLPClassifier']"
            ]
          },
          "execution_count": 305,
          "metadata": {},
          "output_type": "execute_result"
        }
      ],
      "source": [
        "result = result.set_index('classifiers')\n",
        "result.index.tolist()"
      ]
    },
    {
      "cell_type": "code",
      "execution_count": null,
      "metadata": {
        "colab": {
          "base_uri": "https://localhost:8080/",
          "height": 429
        },
        "id": "TN3r5TrT_bIy",
        "outputId": "9af1522b-63d9-47e1-8d24-6a9634d2ee25"
      },
      "outputs": [
        {
          "data": {
            "text/plain": [
              "<matplotlib.legend.Legend at 0x7fda0584b410>"
            ]
          },
          "execution_count": 306,
          "metadata": {},
          "output_type": "execute_result"
        },
        {
          "data": {
            "image/png": "[encoded data removed]",
            "text/plain": [
              "<Figure size 720x432 with 1 Axes>"
            ]
          },
          "metadata": {
            "needs_background": "light"
          },
          "output_type": "display_data"
        }
      ],
      "source": [
        "\n",
        "\n",
        "plt.figure(figsize=(10,6))\n",
        "for model in result.index.tolist():\n",
        "    plt.plot(result.loc[model]['fpr'],\n",
        "             result.loc[model]['tpr'],\n",
        "             label= '{}, AUC={:.2f}'.format(model, result.loc[model]['auc']))\n",
        "plt.plot([0,1],[0,1],linestyle='--')\n",
        "plt.xlabel('False Positive Rate', fontsize=15)\n",
        "plt.ylabel('True Poistive Rate', fontsize =15)\n",
        "plt.title('ROC Curve Analysis', fontweight='bold', fontsize=15)\n",
        "plt.legend()\n"
      ]
    },
    {
      "cell_type": "markdown",
      "metadata": {
        "id": "EMKzYw81Cw7n"
      },
      "source": [
        "ROC Curver Analysis for Tuned Models:"
      ]
    },
    {
      "cell_type": "code",
      "execution_count": null,
      "metadata": {
        "id": "QKGu7_oBC1Dw"
      },
      "outputs": [],
      "source": [
        "All_the_models_used = [GaussianNB(var_smoothing=1e-08),LogisticRegression(C=0.01,penalty= 'l1',solver= 'liblinear'),\n",
        "               DecisionTreeClassifier(criterion= 'gini', max_features= 'auto', max_leaf_nodes= 97, min_samples_split= 2),RandomForestClassifier(criterion='gini', max_features='auto', n_estimators=500), MLPClassifier(activation= 'tanh', learning_rate= 'constant', solver= 'lbfgs')]"
      ]
    },
    {
      "cell_type": "code",
      "execution_count": null,
      "metadata": {
        "id": "LEmLngoPC2JR"
      },
      "outputs": [],
      "source": [
        "result = pd.DataFrame(columns=['classifiers', 'fpr','tpr','auc'])\n",
        "for classifier in All_the_models_used:\n",
        "    model_applied = classifier.fit(Initial_train, Dev_train)\n",
        "    target_proba = model_applied.predict_proba(Initial_test)[:,1]\n",
        "    \n",
        "    fpr, tpr, _ = roc_curve(Dev_test,  target_proba)\n",
        "    auc = roc_auc_score(Dev_test, target_proba)\n",
        "    \n",
        "    result = result.append({'classifiers':classifier.__class__.__name__,\n",
        "                                        'fpr':fpr, \n",
        "                                        'tpr':tpr, \n",
        "                                        'auc':auc}, ignore_index=True)"
      ]
    },
    {
      "cell_type": "code",
      "execution_count": null,
      "metadata": {
        "colab": {
          "base_uri": "https://localhost:8080/"
        },
        "id": "NsAstD2tC2Bo",
        "outputId": "930751f6-a649-4ff8-cf25-9997fe28dbbd"
      },
      "outputs": [
        {
          "data": {
            "text/plain": [
              "['GaussianNB',\n",
              " 'LogisticRegression',\n",
              " 'DecisionTreeClassifier',\n",
              " 'RandomForestClassifier',\n",
              " 'MLPClassifier']"
            ]
          },
          "execution_count": 368,
          "metadata": {},
          "output_type": "execute_result"
        }
      ],
      "source": [
        "result = result.set_index('classifiers')\n",
        "result.index.tolist()"
      ]
    },
    {
      "cell_type": "code",
      "execution_count": null,
      "metadata": {
        "colab": {
          "base_uri": "https://localhost:8080/",
          "height": 429
        },
        "id": "dycG02mkC3iM",
        "outputId": "62a7f520-4ff9-4bb4-af5d-f19a6c2470f1"
      },
      "outputs": [
        {
          "data": {
            "text/plain": [
              "<matplotlib.legend.Legend at 0x7fda1ff34050>"
            ]
          },
          "execution_count": 369,
          "metadata": {},
          "output_type": "execute_result"
        },
        {
          "data": {
            "image/png": "[encoded data removed]",
            "text/plain": [
              "<Figure size 720x432 with 1 Axes>"
            ]
          },
          "metadata": {
            "needs_background": "light"
          },
          "output_type": "display_data"
        }
      ],
      "source": [
        "plt.figure(figsize=(10,6))\n",
        "for model in result.index.tolist():\n",
        "    plt.plot(result.loc[model]['fpr'],\n",
        "             result.loc[model]['tpr'],\n",
        "             label= '{}, AUC={:.2f}'.format(model, result.loc[model]['auc']))\n",
        "plt.plot([0,1],[0,1],linestyle='--')\n",
        "plt.xlabel('False Positive Rate', fontsize=15)\n",
        "plt.ylabel('True Poistive Rate', fontsize =15)\n",
        "plt.title('ROC Curve Analysis', fontweight='bold', fontsize=15)\n",
        "plt.legend()\n"
      ]
    }
  ],
  "metadata": {
    "accelerator": "GPU",
    "colab": {
      "collapsed_sections": [],
      "name": "Approval_Status_of_an_H1-B_visa_application_in_the_USA.ipynb",
      "provenance": []
    },
    "kernelspec": {
      "display_name": "Python 3",
      "name": "python3"
    },
    "language_info": {
      "name": "python"
    }
  },
  "nbformat": 4,
  "nbformat_minor": 0
}
